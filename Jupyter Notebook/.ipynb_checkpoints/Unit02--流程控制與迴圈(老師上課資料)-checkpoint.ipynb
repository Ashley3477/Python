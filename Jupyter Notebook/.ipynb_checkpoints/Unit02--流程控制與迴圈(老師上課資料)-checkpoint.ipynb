{
 "cells": [
  {
   "cell_type": "markdown",
   "metadata": {},
   "source": [
    "【臺北大學】Python程式設計<br>\n",
    "【授課老師】[陳祥輝 (Email : HsiangHui.Chen@gmail.com)](mailto:HsiangHui.Chen@gmail.com)<br>\n",
    "【facebook】[陳祥輝老師的臉書 (歡迎加好友)](https://goo.gl/osivhx)<br>\n",
    "【參考書籍】[從零開始學Python程式設計（適用Python 3.5以上）](http://www.drmaster.com.tw/Bookinfo.asp?BookID=MP31821)<br>\n",
    "【主要議題】流程控制與迴圈"
   ]
  },
  {
   "cell_type": "markdown",
   "metadata": {},
   "source": [
    "【重點提要】\n",
    "1. 循序結構(Sequential)\n",
    "2. 選擇結構(Selection) : \n",
    "    * if ... elif ... elif ... else \n",
    "    * X if C else Y\n",
    "3. 迭代結構(Iteration) : for / while, break / continue"
   ]
  },
  {
   "cell_type": "markdown",
   "metadata": {},
   "source": [
    "【參考資料】\n",
    "* [有關在 matplotlib 顯示數學表示式 (LaTex)](https://wizardforcel.gitbooks.io/matplotlib-user-guide/4.6.html)"
   ]
  },
  {
   "cell_type": "markdown",
   "metadata": {},
   "source": [
    "【比較以下不同用法的差異】\n",
    "* import numpy as np\n",
    "* import numpy.random as rnd1\n",
    "* from numpy import random as rnd2\n",
    "* from numpy.random import random"
   ]
  },
  {
   "cell_type": "markdown",
   "metadata": {},
   "source": [
    "【安裝套件的方式】<br>\n",
    "pip install --upgrade socket"
   ]
  },
  {
   "cell_type": "code",
   "execution_count": 11,
   "metadata": {},
   "outputs": [
    {
     "name": "stdout",
     "output_type": "stream",
     "text": [
      "【日期時間】2019/03/05 15:53:01\n",
      "【工作目錄】F:\\1072臺北大學統計系Python\\1072臺北大學統計系Python上課資料\n",
      "【主機名稱】B1F06-Teacher (10.137.30.96)\n"
     ]
    }
   ],
   "source": [
    "#-*-coding:UTF-8-*- \n",
    "import os, time, glob, socket\n",
    "\n",
    "print(\"【日期時間】{}\".format(time.strftime(\"%Y/%m/%d %H:%M:%S\")))\n",
    "print(\"【工作目錄】{}\".format(os.getcwd()))\n",
    "print(\"【主機名稱】{} ({})\".format(socket.gethostname(),socket.gethostbyname(socket.gethostname())))"
   ]
  },
  {
   "cell_type": "markdown",
   "metadata": {},
   "source": [
    "### <font color=#0000FF>Python的基本資料型態</font>"
   ]
  },
  {
   "cell_type": "markdown",
   "metadata": {},
   "source": [
    "#### Python Primitive data types (基本資料型態)\n",
    "\n",
    "* Numeric Types \n",
    "    - int()\n",
    "    - float()\n",
    "    - complex()\n",
    "* bool()\n",
    "* str()\n",
    "* None"
   ]
  },
  {
   "cell_type": "code",
   "execution_count": 3,
   "metadata": {},
   "outputs": [
    {
     "name": "stdout",
     "output_type": "stream",
     "text": [
      "<class 'int'>\n",
      "<class 'float'>\n"
     ]
    }
   ],
   "source": [
    "print(type(10))\n",
    "print(type(10.0))"
   ]
  },
  {
   "cell_type": "code",
   "execution_count": 5,
   "metadata": {},
   "outputs": [
    {
     "name": "stdout",
     "output_type": "stream",
     "text": [
      "(3+0j)\n",
      "<class 'complex'>\n"
     ]
    }
   ],
   "source": [
    "print(complex(3))\n",
    "print(type(3+0j))"
   ]
  },
  {
   "cell_type": "code",
   "execution_count": 7,
   "metadata": {},
   "outputs": [
    {
     "name": "stdout",
     "output_type": "stream",
     "text": [
      "<class 'bool'>\n",
      "<class 'bool'>\n"
     ]
    }
   ],
   "source": [
    "print(type(True))\n",
    "print(type(False))"
   ]
  },
  {
   "cell_type": "code",
   "execution_count": 10,
   "metadata": {},
   "outputs": [
    {
     "name": "stdout",
     "output_type": "stream",
     "text": [
      "True\n",
      "True\n",
      "False\n"
     ]
    }
   ],
   "source": [
    "print(bool(10))\n",
    "print(bool(-10))  # 只要非 0 就會轉換成 True\n",
    "print(bool(0))    # 只要是 0 就會轉換成 False"
   ]
  },
  {
   "cell_type": "code",
   "execution_count": 9,
   "metadata": {},
   "outputs": [
    {
     "name": "stdout",
     "output_type": "stream",
     "text": [
      "10\n"
     ]
    }
   ],
   "source": [
    "print(str(10))"
   ]
  },
  {
   "cell_type": "markdown",
   "metadata": {},
   "source": [
    "### <font color=#0000FF>import模組的各種寫法</font>"
   ]
  },
  {
   "cell_type": "markdown",
   "metadata": {},
   "source": [
    "【比較以下不同用法的差異】\n",
    "* import numpy as np\n",
    "* from numpy import *\n",
    "* import numpy.random as rnd1\n",
    "* from numpy import random as rnd2\n",
    "* from numpy.random import *\n",
    "* from numpy.random import random"
   ]
  },
  {
   "cell_type": "markdown",
   "metadata": {},
   "source": [
    "<table>\n",
    "<tr><td>\n",
    "<img src='images/importDiag.png' width=400 height=300 alt=\"這裡是放一張 importDiag.png 的示意圖\"></td><td>\n",
    "<img src='images/importNumpy.png' width=400 height=300 alt=\"這裡是放一張 importNumpy.png 的示意圖\">\n",
    "</td></tr>\n",
    "</table>"
   ]
  },
  {
   "cell_type": "markdown",
   "metadata": {},
   "source": [
    "<font color=#0000FF>直接將 numpy import 進來</font>"
   ]
  },
  {
   "cell_type": "code",
   "execution_count": 2,
   "metadata": {},
   "outputs": [],
   "source": [
    "import numpy as np"
   ]
  },
  {
   "cell_type": "markdown",
   "metadata": {},
   "source": [
    "<font color=#0000FF>查看 numpy 安裝路徑</font>"
   ]
  },
  {
   "cell_type": "code",
   "execution_count": 3,
   "metadata": {},
   "outputs": [
    {
     "data": {
      "text/plain": [
       "<module 'numpy' from 'C:\\\\ProgramData\\\\Anaconda3\\\\envs\\\\Py36\\\\lib\\\\site-packages\\\\numpy\\\\__init__.py'>"
      ]
     },
     "execution_count": 3,
     "metadata": {},
     "output_type": "execute_result"
    }
   ],
   "source": [
    "np"
   ]
  },
  {
   "cell_type": "code",
   "execution_count": 4,
   "metadata": {},
   "outputs": [
    {
     "data": {
      "text/plain": [
       "0.7282257531171884"
      ]
     },
     "execution_count": 4,
     "metadata": {},
     "output_type": "execute_result"
    }
   ],
   "source": [
    "np.random.random()"
   ]
  },
  {
   "cell_type": "code",
   "execution_count": null,
   "metadata": {},
   "outputs": [],
   "source": [
    "np.compat"
   ]
  },
  {
   "cell_type": "markdown",
   "metadata": {},
   "source": [
    "<font color=#0000FF>只 import numpy.random 進來，別名取為 rnd1</font>"
   ]
  },
  {
   "cell_type": "code",
   "execution_count": 2,
   "metadata": {},
   "outputs": [],
   "source": [
    "import numpy.random as rnd1"
   ]
  },
  {
   "cell_type": "code",
   "execution_count": 3,
   "metadata": {},
   "outputs": [
    {
     "data": {
      "text/plain": [
       "0.5689684805839261"
      ]
     },
     "execution_count": 3,
     "metadata": {},
     "output_type": "execute_result"
    }
   ],
   "source": [
    "rnd1.random()"
   ]
  },
  {
   "cell_type": "markdown",
   "metadata": {},
   "source": [
    "<font color=#0000FF>將 numpy.random 底下全部的函數 import 進來，沒有 namespace 會很可怕</font>"
   ]
  },
  {
   "cell_type": "code",
   "execution_count": 6,
   "metadata": {},
   "outputs": [],
   "source": [
    "from numpy.random import *  #儘量不要使用此方式"
   ]
  },
  {
   "cell_type": "code",
   "execution_count": 5,
   "metadata": {},
   "outputs": [
    {
     "data": {
      "text/plain": [
       "0.4596731852498148"
      ]
     },
     "execution_count": 5,
     "metadata": {},
     "output_type": "execute_result"
    }
   ],
   "source": [
    "random()"
   ]
  },
  {
   "cell_type": "markdown",
   "metadata": {},
   "source": [
    "<font color=#0000FF>從 numpy 將 random import 進來，並取名為 rnd2"
   ]
  },
  {
   "cell_type": "code",
   "execution_count": 8,
   "metadata": {},
   "outputs": [],
   "source": [
    "from numpy import random as rnd2"
   ]
  },
  {
   "cell_type": "code",
   "execution_count": 9,
   "metadata": {},
   "outputs": [
    {
     "data": {
      "text/plain": [
       "0.1894800376060769"
      ]
     },
     "execution_count": 9,
     "metadata": {},
     "output_type": "execute_result"
    }
   ],
   "source": [
    "rnd2.random()"
   ]
  },
  {
   "cell_type": "markdown",
   "metadata": {},
   "source": [
    "<font color=#0000FF>查看 socket 安裝路徑</font>"
   ]
  },
  {
   "cell_type": "code",
   "execution_count": 13,
   "metadata": {},
   "outputs": [
    {
     "data": {
      "text/plain": [
       "<module 'socket' from 'C:\\\\ProgramData\\\\Anaconda3\\\\envs\\\\Py36\\\\lib\\\\socket.py'>"
      ]
     },
     "execution_count": 13,
     "metadata": {},
     "output_type": "execute_result"
    }
   ],
   "source": [
    "# 直接執行模組名稱\n",
    "socket"
   ]
  },
  {
   "cell_type": "markdown",
   "metadata": {},
   "source": [
    "### <font color=#0000FF>選擇結構(Selection)</font>"
   ]
  },
  {
   "cell_type": "markdown",
   "metadata": {},
   "source": [
    "<font color=#0000FF>\n",
    "if ... elif ... elif ... else ...\n",
    "</font>"
   ]
  },
  {
   "cell_type": "code",
   "execution_count": 14,
   "metadata": {},
   "outputs": [
    {
     "name": "stdout",
     "output_type": "stream",
     "text": [
      "請輸入一個數值:10\n"
     ]
    }
   ],
   "source": [
    "usr = input('請輸入一個數值:')\n",
    "if usr == 10 :\n",
    "    print('答對')"
   ]
  },
  {
   "cell_type": "code",
   "execution_count": 20,
   "metadata": {},
   "outputs": [
    {
     "name": "stdout",
     "output_type": "stream",
     "text": [
      "請輸入一個數值:10\n",
      "答對\n"
     ]
    }
   ],
   "source": [
    "usr = input('請輸入一個數值:')\n",
    "usr = int(usr)\n",
    "if usr == 10 : \n",
    "    print('答對')    \n",
    "else :\n",
    "    print('答錯')"
   ]
  },
  {
   "cell_type": "markdown",
   "metadata": {},
   "source": [
    "<font color=#0000FF>請判斷輸入的數值是否為 3且5的倍數, 3的倍數, 5的倍數, 皆不是</font>"
   ]
  },
  {
   "cell_type": "code",
   "execution_count": null,
   "metadata": {},
   "outputs": [],
   "source": [
    "# 錯誤的示範\n",
    "usr = int(input('請輸入一個數值:'))\n",
    "if usr % 3 == 0:\n",
    "    print(\"3的倍數\")\n",
    "elif usr % 5 == 0:\n",
    "    print(\"5的倍數)\n",
    "elif usr %3 == 0 and usr % 5 == 0:    \n",
    "    print(\"3且5的倍數\")\n",
    "else :\n",
    "    print(\"皆不是\")"
   ]
  },
  {
   "cell_type": "code",
   "execution_count": 24,
   "metadata": {},
   "outputs": [
    {
     "name": "stdout",
     "output_type": "stream",
     "text": [
      "請輸入一個數值:33\n",
      "5的倍數\n"
     ]
    }
   ],
   "source": [
    "# 正確的寫法\n",
    "usr = int(input('請輸入一個數值:'))\n",
    "if usr % 3 == 0 and usr % 5 == 0:\n",
    "    print(\"3且5的倍數\")\n",
    "elif usr % 3 == 0:\n",
    "    print(\"3的倍數\")\n",
    "elif usr % 5 == 0:    \n",
    "    print(\"5的倍數\")\n",
    "else :\n",
    "    print(\"皆不是\")"
   ]
  },
  {
   "cell_type": "markdown",
   "metadata": {},
   "source": [
    "<font color=#0000FF>如果你只可以使用 np.random.random() 函數，如何產生一個一位的整數值</font>"
   ]
  },
  {
   "cell_type": "code",
   "execution_count": 25,
   "metadata": {},
   "outputs": [],
   "source": [
    "import numpy as np"
   ]
  },
  {
   "cell_type": "markdown",
   "metadata": {},
   "source": [
    "錯誤示範，抓龜跑鱉"
   ]
  },
  {
   "cell_type": "code",
   "execution_count": 31,
   "metadata": {},
   "outputs": [
    {
     "name": "stdout",
     "output_type": "stream",
     "text": [
      "0.18730475205786223\n",
      "3\n"
     ]
    }
   ],
   "source": [
    "print(np.random.random())\n",
    "print(int(np.random.random()*10))"
   ]
  },
  {
   "cell_type": "markdown",
   "metadata": {},
   "source": [
    "正確寫法"
   ]
  },
  {
   "cell_type": "code",
   "execution_count": 43,
   "metadata": {},
   "outputs": [
    {
     "name": "stdout",
     "output_type": "stream",
     "text": [
      "8.575980510615581\n",
      "8\n"
     ]
    }
   ],
   "source": [
    "rnd = np.random.random()*10\n",
    "print(rnd)\n",
    "print(int(rnd))"
   ]
  },
  {
   "cell_type": "markdown",
   "metadata": {},
   "source": [
    "由系統產生一個兩位數的整數，讓使用者來猜\n",
    "1. 介於 該亂數 5 之內，顯示 接近了\n",
    "2. 大於該亂數 顯示 太大了\n",
    "3. 小於該亂數 顯示 太小了\n",
    "4. 剛好命中，顯示 答對了"
   ]
  },
  {
   "cell_type": "code",
   "execution_count": 54,
   "metadata": {},
   "outputs": [
    {
     "name": "stdout",
     "output_type": "stream",
     "text": [
      "rnd= 95\n",
      "請輸入一個2位數值:90\n",
      "接近了\n"
     ]
    }
   ],
   "source": [
    "rnd = int(np.random.random()*100)\n",
    "print(\"rnd=\", rnd)\n",
    "usr = int(input(\"請輸入一個2位數值:\"))\n",
    "if rnd == usr :\n",
    "    print('答對了')\n",
    "elif abs(rnd - usr) <= 5:\n",
    "    print('接近了')\n",
    "elif urs > rnd :\n",
    "    print('太大了')\n",
    "else :\n",
    "    print('太小了')"
   ]
  },
  {
   "cell_type": "markdown",
   "metadata": {},
   "source": [
    "<font color=#0000FF>\n",
    "X if Condition else Y\n",
    "</font>"
   ]
  },
  {
   "cell_type": "code",
   "execution_count": 60,
   "metadata": {},
   "outputs": [
    {
     "name": "stdout",
     "output_type": "stream",
     "text": [
      "成績 83 及格\n"
     ]
    }
   ],
   "source": [
    "score = np.random.randint(0, 101)\n",
    "msg = '及格' if score >= 60 else '不及格'\n",
    "print(\"成績 {} {}\".format(score, msg))"
   ]
  },
  {
   "cell_type": "code",
   "execution_count": 61,
   "metadata": {},
   "outputs": [
    {
     "name": "stdout",
     "output_type": "stream",
     "text": [
      "成績 60 及格\n"
     ]
    }
   ],
   "source": [
    "score = np.random.randint(0, 101)\n",
    "print(\"成績 {} {}\".format(score, '及格' if score >= 60 else '不及格'))"
   ]
  },
  {
   "cell_type": "markdown",
   "metadata": {},
   "source": [
    "### <font color=#0000FF>迭代結構(Iteration)</font>"
   ]
  },
  {
   "cell_type": "markdown",
   "metadata": {
    "collapsed": true
   },
   "source": [
    "### <font color=#0000FF>for range 的使用(一)</font>\n",
    "* range()\n",
    "* np.linespace()  \n",
    "* np.arange()"
   ]
  },
  {
   "cell_type": "code",
   "execution_count": 66,
   "metadata": {},
   "outputs": [
    {
     "name": "stdout",
     "output_type": "stream",
     "text": [
      "*\n",
      "*\n",
      "*\n",
      "*\n",
      "*\n"
     ]
    }
   ],
   "source": [
    "for _ in range(5):\n",
    "    print(\"*\")"
   ]
  },
  {
   "cell_type": "code",
   "execution_count": 64,
   "metadata": {},
   "outputs": [
    {
     "name": "stdout",
     "output_type": "stream",
     "text": [
      "0\n",
      "1\n",
      "2\n",
      "3\n",
      "4\n"
     ]
    }
   ],
   "source": [
    "for i in range(5):\n",
    "    print(i)"
   ]
  },
  {
   "cell_type": "markdown",
   "metadata": {},
   "source": [
    "撰寫一個九九乘法表"
   ]
  },
  {
   "cell_type": "code",
   "execution_count": 67,
   "metadata": {},
   "outputs": [
    {
     "name": "stdout",
     "output_type": "stream",
     "text": [
      "1\n",
      "2\n",
      "3\n",
      "4\n",
      "5\n",
      "6\n",
      "7\n",
      "8\n",
      "9\n"
     ]
    }
   ],
   "source": [
    "for i in range(1, 10):\n",
    "    print(i)"
   ]
  },
  {
   "cell_type": "code",
   "execution_count": 70,
   "metadata": {},
   "outputs": [
    {
     "name": "stdout",
     "output_type": "stream",
     "text": [
      "1 * 1 = 1\n",
      "1 * 2 = 2\n",
      "1 * 3 = 3\n",
      "1 * 4 = 4\n",
      "1 * 5 = 5\n",
      "1 * 6 = 6\n",
      "\n",
      "2 * 1 = 2\n",
      "2 * 2 = 4\n",
      "2 * 3 = 6\n",
      "2 * 4 = 8\n",
      "2 * 5 = 10\n",
      "2 * 6 = 12\n",
      "\n",
      "3 * 1 = 3\n",
      "3 * 2 = 6\n",
      "3 * 3 = 9\n",
      "3 * 4 = 12\n",
      "3 * 5 = 15\n",
      "3 * 6 = 18\n",
      "\n",
      "4 * 1 = 4\n",
      "4 * 2 = 8\n",
      "4 * 3 = 12\n",
      "4 * 4 = 16\n",
      "4 * 5 = 20\n",
      "4 * 6 = 24\n",
      "\n",
      "5 * 1 = 5\n",
      "5 * 2 = 10\n",
      "5 * 3 = 15\n",
      "5 * 4 = 20\n",
      "5 * 5 = 25\n",
      "5 * 6 = 30\n",
      "\n",
      "6 * 1 = 6\n",
      "6 * 2 = 12\n",
      "6 * 3 = 18\n",
      "6 * 4 = 24\n",
      "6 * 5 = 30\n",
      "6 * 6 = 36\n",
      "\n",
      "7 * 1 = 7\n",
      "7 * 2 = 14\n",
      "7 * 3 = 21\n",
      "7 * 4 = 28\n",
      "7 * 5 = 35\n",
      "7 * 6 = 42\n",
      "\n",
      "8 * 1 = 8\n",
      "8 * 2 = 16\n",
      "8 * 3 = 24\n",
      "8 * 4 = 32\n",
      "8 * 5 = 40\n",
      "8 * 6 = 48\n",
      "\n",
      "9 * 1 = 9\n",
      "9 * 2 = 18\n",
      "9 * 3 = 27\n",
      "9 * 4 = 36\n",
      "9 * 5 = 45\n",
      "9 * 6 = 54\n",
      "\n"
     ]
    }
   ],
   "source": [
    "for i in range(1, 10):\n",
    "    for j in range(1, 7):\n",
    "        print(\"{} * {} = {}\".format(i, j, i*j))\n",
    "    print()    "
   ]
  },
  {
   "cell_type": "markdown",
   "metadata": {},
   "source": [
    "<font color=#0000FF>定義涵數</font>"
   ]
  },
  {
   "cell_type": "code",
   "execution_count": 78,
   "metadata": {},
   "outputs": [],
   "source": [
    "def list99(n=9, m=9) :\n",
    "    for i in range(1, n+1):\n",
    "        for j in range(1, m+1):\n",
    "            print(\"{} * {} = {}\".format(i, j, i*j))\n",
    "        print()   "
   ]
  },
  {
   "cell_type": "code",
   "execution_count": null,
   "metadata": {},
   "outputs": [],
   "source": [
    "list99(5,6)"
   ]
  },
  {
   "cell_type": "code",
   "execution_count": null,
   "metadata": {},
   "outputs": [],
   "source": [
    "list99()"
   ]
  },
  {
   "cell_type": "markdown",
   "metadata": {},
   "source": [
    "<font color=#0000FF>比較 range(), np.linspace(), np.arange()</font>"
   ]
  },
  {
   "cell_type": "code",
   "execution_count": 1,
   "metadata": {
    "collapsed": true
   },
   "outputs": [],
   "source": [
    "import numpy as np"
   ]
  },
  {
   "cell_type": "markdown",
   "metadata": {},
   "source": [
    "<font color=#0000FF>range() : 只可用於整數，start、stop、step，含起值、不含迄值</font>"
   ]
  },
  {
   "cell_type": "code",
   "execution_count": 3,
   "metadata": {
    "collapsed": true
   },
   "outputs": [],
   "source": [
    "# range(stop) -> range object\n",
    "# range(start, stop[, step]) -> range object\n",
    "# Return an object that produces a sequence of integers from start (inclusive) to stop (exclusive) by step."
   ]
  },
  {
   "cell_type": "code",
   "execution_count": 87,
   "metadata": {},
   "outputs": [
    {
     "data": {
      "text/plain": [
       "range(1, 11, 2)"
      ]
     },
     "execution_count": 87,
     "metadata": {},
     "output_type": "execute_result"
    }
   ],
   "source": [
    "range(1,11,2)"
   ]
  },
  {
   "cell_type": "markdown",
   "metadata": {},
   "source": [
    "<font color=#0000FF>np.arange() : 可用於整數、浮點型態，start、stop、step，含起值、不含迄值</font>"
   ]
  },
  {
   "cell_type": "code",
   "execution_count": 2,
   "metadata": {
    "collapsed": true
   },
   "outputs": [],
   "source": [
    "# np.arange([start,] stop[, step,], dtype=None) \n",
    "# Return evenly spaced values within a given interval.\n",
    "#\n",
    "# [note]\n",
    "# stop : number\n",
    "#     End of interval.  The interval does not include this value."
   ]
  },
  {
   "cell_type": "code",
   "execution_count": 85,
   "metadata": {},
   "outputs": [
    {
     "data": {
      "text/plain": [
       "array([ 1. ,  1.5,  2. ,  2.5,  3. ,  3.5,  4. ,  4.5,  5. ,  5.5,  6. ,\n",
       "        6.5,  7. ,  7.5,  8. ,  8.5,  9. ,  9.5, 10. , 10.5])"
      ]
     },
     "execution_count": 85,
     "metadata": {},
     "output_type": "execute_result"
    }
   ],
   "source": [
    "np.arange(1,11,0.5)"
   ]
  },
  {
   "cell_type": "markdown",
   "metadata": {},
   "source": [
    "<font color=#0000FF>np.linspace : 可用於整數、浮點型態，start、stop、<b><u>num</u></b>，，含起值、預設有含迄值(endpoint=True)</font>"
   ]
  },
  {
   "cell_type": "code",
   "execution_count": 1,
   "metadata": {
    "collapsed": true
   },
   "outputs": [],
   "source": [
    "# np.linspace(start, stop, num=50, endpoint=True, retstep=False, dtype=None)\n",
    "# Return evenly spaced numbers over a specified interval.\n",
    "# \n",
    "# [note]\n",
    "# stop : scalar\n",
    "#     The end value of the sequence, unless `endpoint` is set to False.\n",
    "\n",
    "# np.linspace(start=1,stop=11,num=10)\n",
    "# np.linspace(start=1,stop=11,num=10,dtype=int)\n",
    "# np.linspace(start=1,stop=11,num=10,retstep=True,dtype=int)\n",
    "# np.linspace(start=1,stop=11,num=10,endpoint=False,retstep=True)"
   ]
  },
  {
   "cell_type": "code",
   "execution_count": 88,
   "metadata": {},
   "outputs": [
    {
     "data": {
      "text/plain": [
       "array([ 1.        ,  1.52631579,  2.05263158,  2.57894737,  3.10526316,\n",
       "        3.63157895,  4.15789474,  4.68421053,  5.21052632,  5.73684211,\n",
       "        6.26315789,  6.78947368,  7.31578947,  7.84210526,  8.36842105,\n",
       "        8.89473684,  9.42105263,  9.94736842, 10.47368421, 11.        ])"
      ]
     },
     "execution_count": 88,
     "metadata": {},
     "output_type": "execute_result"
    }
   ],
   "source": [
    "np.linspace(1,11,20)"
   ]
  },
  {
   "cell_type": "markdown",
   "metadata": {},
   "source": [
    "<font color=#0000FF>請計算兩個 list 內的值相加</font>"
   ]
  },
  {
   "cell_type": "code",
   "execution_count": 95,
   "metadata": {},
   "outputs": [
    {
     "name": "stdout",
     "output_type": "stream",
     "text": [
      "4\n",
      "[3, 10, 14, 30]\n"
     ]
    }
   ],
   "source": [
    "#兩個 list 等長\n",
    "listA = [1,3,5,10]\n",
    "listB = [2,7,9,20]\n",
    "newList = []\n",
    "print(len(listA))\n",
    "for i in range(len(listA)):\n",
    "    newList = newList + [listA[i]+listB[i]]  #將元素逐一加入 newList 內\n",
    "print(newList)    "
   ]
  },
  {
   "cell_type": "code",
   "execution_count": 99,
   "metadata": {},
   "outputs": [
    {
     "name": "stdout",
     "output_type": "stream",
     "text": [
      "4\n",
      "[3, 10, 14, 20]\n"
     ]
    }
   ],
   "source": [
    "#兩個 list 不等長\n",
    "listA = [1,3,5]      # 長度 : 3\n",
    "listB = [2,7,9,20]   # 長度 : 4\n",
    "n = max(len(listA), len(listB))\n",
    "newList = []\n",
    "print(n)\n",
    "for i in range(n):\n",
    "    newList = newList + [(listA[i] if i < len(listA) else 0) + \\\n",
    "                         (listB[i] if i < len(listB) else 0)]\n",
    "print(newList)    "
   ]
  },
  {
   "cell_type": "code",
   "execution_count": 100,
   "metadata": {},
   "outputs": [
    {
     "name": "stdout",
     "output_type": "stream",
     "text": [
      "5\n",
      "[3, 10, 14, 29, 12]\n"
     ]
    }
   ],
   "source": [
    "listA = [1,3,5,29,12]\n",
    "listB = [2,7,9]\n",
    "n = max(len(listA), len(listB))\n",
    "newList = []\n",
    "print(n)\n",
    "for i in range(n):\n",
    "    newList = newList + [(listA[i] if i < len(listA) else 0) + \\\n",
    "                         (listB[i] if i < len(listB) else 0)]\n",
    "print(newList)   "
   ]
  },
  {
   "cell_type": "code",
   "execution_count": 101,
   "metadata": {},
   "outputs": [],
   "source": [
    "def addList(listA, listB) :\n",
    "    n = max(len(listA), len(listB))\n",
    "    newList = []\n",
    "    print(n)\n",
    "    for i in range(n):\n",
    "        newList = newList + [(listA[i] if i < len(listA) else 0) + \\\n",
    "                             (listB[i] if i < len(listB) else 0)]\n",
    "    print(newList)       "
   ]
  },
  {
   "cell_type": "code",
   "execution_count": 102,
   "metadata": {},
   "outputs": [
    {
     "name": "stdout",
     "output_type": "stream",
     "text": [
      "5\n",
      "[6, 8, 10, 9, 10]\n"
     ]
    }
   ],
   "source": [
    "addList([1,2,3],[5,6,7,9,10])"
   ]
  },
  {
   "cell_type": "markdown",
   "metadata": {},
   "source": [
    "#### <font color=#0000FF>上課練習(2019/03/12)</font>\n",
    "請寫一個程式讓使用者與電腦玩猜數字遊戲，電腦會產生一個 1 ~ 100 之間的亂數，條件如下 : \n",
    "1. 最多可猜 10 次\n",
    "2. 電腦必須告知太大、還是太小\n",
    "3. 倘若與答案相距 5 之內(含)，除了說太大、太小之外，還要說接近了。\n",
    "4. 答對要說答對\n",
    "5. 最後必須告知使用者總共答了幾次，並將所有使用者輸入的數字列印出來。"
   ]
  },
  {
   "cell_type": "code",
   "execution_count": 16,
   "metadata": {},
   "outputs": [
    {
     "name": "stdout",
     "output_type": "stream",
     "text": [
      "x\n",
      "x\n",
      "x\n",
      "x\n",
      "x\n",
      "5\n"
     ]
    }
   ],
   "source": [
    "for i in range(1, 6):\n",
    "    print('x')\n",
    "print(i)    "
   ]
  },
  {
   "cell_type": "code",
   "execution_count": 12,
   "metadata": {},
   "outputs": [],
   "source": [
    "import numpy as np"
   ]
  },
  {
   "cell_type": "markdown",
   "metadata": {},
   "source": [
    "【常用的random函數】\n",
    "- np.random.random()\n",
    "- np.random.randint()\n",
    "- np.random.choice()   # 類似 R 的 sample()"
   ]
  },
  {
   "cell_type": "code",
   "execution_count": 14,
   "metadata": {},
   "outputs": [
    {
     "data": {
      "text/plain": [
       "array([5, 6, 3, 4, 2, 1, 3, 4, 2, 6])"
      ]
     },
     "execution_count": 14,
     "metadata": {},
     "output_type": "execute_result"
    }
   ],
   "source": [
    "np.random.choice(range(1,7), 10, replace=True)"
   ]
  },
  {
   "cell_type": "code",
   "execution_count": 31,
   "metadata": {},
   "outputs": [
    {
     "name": "stdout",
     "output_type": "stream",
     "text": [
      "亂數 : 83\n"
     ]
    }
   ],
   "source": [
    "# step 1 整體的概念\n",
    "rnd = int(np.random.randint(1,101,1))   # 因為輸出的結果是 [ ] list，所以轉換成 int\n",
    "print('亂數 : {}'.format(rnd))\n",
    "for i in range(1, 11):\n",
    "    pass"
   ]
  },
  {
   "cell_type": "code",
   "execution_count": 38,
   "metadata": {},
   "outputs": [
    {
     "name": "stdout",
     "output_type": "stream",
     "text": [
      "亂數 : 48\n",
      "[1]請猜猜 : 48\n",
      "答對了\n"
     ]
    }
   ],
   "source": [
    "# step 2 加入迴圈內的判斷條件\n",
    "rnd = int(np.random.randint(1,101,1))\n",
    "print('亂數 : {}'.format(rnd))\n",
    "for i in range(1, 11):\n",
    "    usr = int(input('[{}]請猜猜 : '.format(i)))\n",
    "    if usr == rnd :\n",
    "        print('答對了')\n",
    "        break             #break直接跳離開回圈 , continue直接跳回迴圈的開始\n",
    "    elif usr > rnd :\n",
    "        print('太大'+ ('且接近了' if abs(usr - rnd) <= 5 else ''))\n",
    "    else :\n",
    "        print('太小'+ ('且接近了' if abs(usr - rnd) <= 5 else ''))"
   ]
  },
  {
   "cell_type": "code",
   "execution_count": 40,
   "metadata": {},
   "outputs": [
    {
     "name": "stdout",
     "output_type": "stream",
     "text": [
      "亂數 : 65\n",
      "[1]請猜猜 : 10\n",
      "太小\n",
      "[2]請猜猜 : 80\n",
      "太大\n",
      "[3]請猜猜 : 65\n",
      "答對了\n",
      "[10, 80, 65]\n"
     ]
    }
   ],
   "source": [
    "# step 3 加入 lst 收集使用者輸入的資料\n",
    "rnd = int(np.random.randint(1,101,1))\n",
    "print('亂數 : {}'.format(rnd))\n",
    "lst = [] # list\n",
    "for i in range(1, 11):\n",
    "    usr = int(input('[{}]請猜猜 : '.format(i)))\n",
    "    lst = lst + [usr]\n",
    "    if usr == rnd :\n",
    "        print('答對了')\n",
    "        break             #break直接跳離開回圈 , continue直接跳回迴圈的開始\n",
    "    elif usr > rnd :\n",
    "        print('太大'+ ('且接近了' if abs(usr - rnd) <= 5 else ''))\n",
    "    else :\n",
    "        print('太小'+ ('且接近了' if abs(usr - rnd) <= 5 else ''))\n",
    "print(lst)        "
   ]
  },
  {
   "cell_type": "code",
   "execution_count": null,
   "metadata": {},
   "outputs": [],
   "source": [
    "def getMsg(usr, rnd, itvl) :\n",
    "    \n",
    "    \n",
    "    return msg"
   ]
  },
  {
   "cell_type": "code",
   "execution_count": 43,
   "metadata": {},
   "outputs": [],
   "source": [
    "def getMsg(usr, rnd, itvl=5) :\n",
    "    if usr == rnd :\n",
    "        msg='答對了'\n",
    "    elif usr > rnd :\n",
    "        msg='太大'+ ('且接近了' if abs(usr - rnd) <= itvl else '')\n",
    "    else :\n",
    "        msg='太小'+ ('且接近了' if abs(usr - rnd) <= itvl else '')\n",
    "    return msg"
   ]
  },
  {
   "cell_type": "code",
   "execution_count": 44,
   "metadata": {},
   "outputs": [
    {
     "name": "stdout",
     "output_type": "stream",
     "text": [
      "亂數 : 29\n",
      "[1]請猜猜 : 20\n",
      "太小\n",
      "[2]請猜猜 : 23\n",
      "太小且接近了\n",
      "[3]請猜猜 : 50\n",
      "太大\n",
      "[4]請猜猜 : 29\n",
      "答對了\n",
      "[20, 23, 50, 29]\n"
     ]
    }
   ],
   "source": [
    "# step 4 改寫成函數\n",
    "rnd = int(np.random.randint(1,101,1))\n",
    "print('亂數 : {}'.format(rnd))\n",
    "lst = [] # list\n",
    "for i in range(1, 11):\n",
    "    usr = int(input('[{}]請猜猜 : '.format(i)))\n",
    "    lst = lst + [usr]\n",
    "    msg = getMsg(usr, rnd, 6)\n",
    "    print(msg)\n",
    "    if msg == '答對了' :\n",
    "        break\n",
    "    \n",
    "print(lst)   "
   ]
  },
  {
   "cell_type": "code",
   "execution_count": null,
   "metadata": {},
   "outputs": [],
   "source": [
    "# step 5 將所有數值抽離出來\n",
    "rndMin = 1\n",
    "rndMax = 100\n",
    "interval = 6\n",
    "times = 10\n",
    "\n",
    "rnd = int(np.random.randint(rndMin,rndMax+1,1))\n",
    "print('亂數 : {}'.format(rnd))\n",
    "lst = [] # list\n",
    "for i in range(1, times+1):\n",
    "    usr = int(input('[{}]請猜猜 : '.format(i)))\n",
    "    lst = lst + [usr]\n",
    "    msg = getMsg(usr, rnd, interval)\n",
    "    print(msg)\n",
    "    if msg == '答對了' :\n",
    "        break\n",
    "    \n",
    "print(lst)  "
   ]
  },
  {
   "cell_type": "markdown",
   "metadata": {
    "collapsed": true
   },
   "source": [
    "### <font color=#0000FF>foreach 的使用(二)</font>"
   ]
  },
  {
   "cell_type": "code",
   "execution_count": 48,
   "metadata": {},
   "outputs": [],
   "source": [
    "import os"
   ]
  },
  {
   "cell_type": "code",
   "execution_count": 49,
   "metadata": {},
   "outputs": [
    {
     "name": "stdout",
     "output_type": "stream",
     "text": [
      "['.ipynb_checkpoints', 'images', 'images.zip', 'Jupyter_Notebook_Keyboard_Shortcuts.pdf', 'PyData', 'Unit00--Markdown.html', 'Unit00--Markdown.ipynb', 'Unit00--基礎環境安裝.html', 'Unit01--Python的基本認識與操作(學生版).ipynb', 'Unit01--Python的基本認識與操作(老師上課資料).html', 'Unit01--Python的基本認識與操作(老師上課資料).ipynb', 'Unit02--流程控制與迴圈(學生版).ipynb', 'Unit02--流程控制與迴圈(老師上課資料).html', 'Unit02--流程控制與迴圈(老師上課資料).ipynb']\n"
     ]
    }
   ],
   "source": [
    "print(os.listdir())"
   ]
  },
  {
   "cell_type": "code",
   "execution_count": 50,
   "metadata": {},
   "outputs": [
    {
     "name": "stdout",
     "output_type": "stream",
     "text": [
      ".ipynb_checkpoints\n",
      "images\n",
      "images.zip\n",
      "Jupyter_Notebook_Keyboard_Shortcuts.pdf\n",
      "PyData\n",
      "Unit00--Markdown.html\n",
      "Unit00--Markdown.ipynb\n",
      "Unit00--基礎環境安裝.html\n",
      "Unit01--Python的基本認識與操作(學生版).ipynb\n",
      "Unit01--Python的基本認識與操作(老師上課資料).html\n",
      "Unit01--Python的基本認識與操作(老師上課資料).ipynb\n",
      "Unit02--流程控制與迴圈(學生版).ipynb\n",
      "Unit02--流程控制與迴圈(老師上課資料).html\n",
      "Unit02--流程控制與迴圈(老師上課資料).ipynb\n"
     ]
    }
   ],
   "source": [
    "lsts = os.listdir()\n",
    "for lst in lsts:\n",
    "    print(lst)"
   ]
  },
  {
   "cell_type": "code",
   "execution_count": 52,
   "metadata": {},
   "outputs": [
    {
     "name": "stdout",
     "output_type": "stream",
     "text": [
      ".ipynb_checkpoints\n",
      "images\n",
      "images.zip\n",
      "Jupyter_Notebook_Keyboard_Shortcuts.pdf\n",
      "PyData\n",
      "Unit00--Markdown.html\n",
      "Unit00--Markdown.ipynb\n",
      "Unit00--基礎環境安裝.html\n",
      "Unit01--Python的基本認識與操作(學生版).ipynb\n",
      "Unit01--Python的基本認識與操作(老師上課資料).html\n",
      "Unit01--Python的基本認識與操作(老師上課資料).ipynb\n",
      "Unit02--流程控制與迴圈(學生版).ipynb\n",
      "Unit02--流程控制與迴圈(老師上課資料).html\n",
      "Unit02--流程控制與迴圈(老師上課資料).ipynb\n"
     ]
    }
   ],
   "source": [
    "lsts = os.listdir()\n",
    "for i in range(len(lsts)) :\n",
    "    print(lsts[i])"
   ]
  },
  {
   "cell_type": "markdown",
   "metadata": {
    "collapsed": true
   },
   "source": [
    "### <font color=#0000FF>for與 dict 的使用(三)</font>\n",
    "- list : [ ]\n",
    "- tuple : ( )\n",
    "- set : { }\n",
    "- dict : { } key-value"
   ]
  },
  {
   "cell_type": "code",
   "execution_count": 53,
   "metadata": {},
   "outputs": [
    {
     "name": "stdout",
     "output_type": "stream",
     "text": [
      "{'a': 300, 'b': 200, 'c': 400}\n"
     ]
    }
   ],
   "source": [
    "d = {'a':100, 'b':200, 'a':300, 'c':400}\n",
    "print(d)"
   ]
  },
  {
   "cell_type": "code",
   "execution_count": 56,
   "metadata": {},
   "outputs": [
    {
     "name": "stdout",
     "output_type": "stream",
     "text": [
      "dict_items([('a', 300), ('b', 200), ('c', 400)])\n",
      "dict_keys(['a', 'b', 'c'])\n",
      "dict_values([300, 200, 400])\n"
     ]
    }
   ],
   "source": [
    "print(d.items())\n",
    "print(d.keys())\n",
    "print(d.values())"
   ]
  },
  {
   "cell_type": "code",
   "execution_count": 57,
   "metadata": {},
   "outputs": [
    {
     "name": "stdout",
     "output_type": "stream",
     "text": [
      "3\n"
     ]
    }
   ],
   "source": [
    "print(len(d.items()))"
   ]
  },
  {
   "cell_type": "code",
   "execution_count": 58,
   "metadata": {},
   "outputs": [
    {
     "name": "stdout",
     "output_type": "stream",
     "text": [
      "key : a\n",
      "value : 300\n",
      "key : b\n",
      "value : 200\n",
      "key : c\n",
      "value : 400\n"
     ]
    }
   ],
   "source": [
    "for k, v in d.items():\n",
    "    print('key : {}'.format(k))\n",
    "    print('value : {}'.format(v))"
   ]
  },
  {
   "cell_type": "markdown",
   "metadata": {},
   "source": [
    "### <font color=#0000FF>for與 string 使用(四)</font>"
   ]
  },
  {
   "cell_type": "code",
   "execution_count": 59,
   "metadata": {},
   "outputs": [
    {
     "data": {
      "text/plain": [
       "['L', 'e', 't', 't', 'e', 'r', 's']"
      ]
     },
     "execution_count": 59,
     "metadata": {},
     "output_type": "execute_result"
    }
   ],
   "source": [
    "list('Letters')"
   ]
  },
  {
   "cell_type": "code",
   "execution_count": 61,
   "metadata": {},
   "outputs": [
    {
     "data": {
      "text/plain": [
       "'Letters'"
      ]
     },
     "execution_count": 61,
     "metadata": {},
     "output_type": "execute_result"
    }
   ],
   "source": [
    "\"\".join(['L', 'e', 't', 't', 'e', 'r', 's'])"
   ]
  },
  {
   "cell_type": "code",
   "execution_count": 62,
   "metadata": {},
   "outputs": [
    {
     "data": {
      "text/plain": [
       "'L;e;t;t;e;r;s'"
      ]
     },
     "execution_count": 62,
     "metadata": {},
     "output_type": "execute_result"
    }
   ],
   "source": [
    "\";\".join(['L', 'e', 't', 't', 'e', 'r', 's'])"
   ]
  },
  {
   "cell_type": "code",
   "execution_count": 60,
   "metadata": {},
   "outputs": [
    {
     "name": "stdout",
     "output_type": "stream",
     "text": [
      "L\n",
      "e\n",
      "t\n",
      "t\n",
      "e\n",
      "r\n",
      "s\n"
     ]
    }
   ],
   "source": [
    "for w in 'Letters':\n",
    "    print(w)"
   ]
  },
  {
   "cell_type": "markdown",
   "metadata": {},
   "source": [
    "### <font color=#0000FF>for與 list 使用(五)</font>\n",
    "- [有關在 matplotlib 顯示數學表示式 (LaTex)](https://wizardforcel.gitbooks.io/matplotlib-user-guide/4.6.html)"
   ]
  },
  {
   "cell_type": "markdown",
   "metadata": {
    "collapsed": true
   },
   "source": [
    "<font color=#0000FF>寫一個以下數列的和</font>\n",
    "- $\\sum_{x=1}^{20}x^2$\n",
    "- $\\sum_{x=1}^{20}\\sqrt{x}$\n",
    "- $\\sum_{x=1}^{20}\\frac{1}{x}$"
   ]
  },
  {
   "cell_type": "code",
   "execution_count": null,
   "metadata": {},
   "outputs": [],
   "source": [
    "<font color=#0000FF>寫一個以下數列的和</font>\n",
    "- $\\sum_{x=1}^{20}x^2$\n",
    "- $\\sum_{x=1}^{20}\\sqrt{x}$\n",
    "- $\\sum_{x=1}^{20}\\frac{1}{x}$"
   ]
  },
  {
   "cell_type": "markdown",
   "metadata": {},
   "source": [
    "- $\\sum_{i=1}^n$\n",
    "- $\\beta$\n",
    "- $\\frac{1-x_i}{1-y_i}$"
   ]
  },
  {
   "cell_type": "code",
   "execution_count": null,
   "metadata": {},
   "outputs": [],
   "source": [
    "- $\\sum_{i=1}^n$\n",
    "- $\\beta$\n",
    "- $\\frac{1-x_i}{1-y_i}$"
   ]
  },
  {
   "cell_type": "code",
   "execution_count": 72,
   "metadata": {},
   "outputs": [
    {
     "name": "stdout",
     "output_type": "stream",
     "text": [
      "[1, 4, 9, 16, 25, 36, 49, 64, 81, 100, 121, 144, 169, 196, 225, 256, 289, 324, 361, 400]\n"
     ]
    }
   ],
   "source": [
    "print([x**2 for x in range(1,21)])"
   ]
  },
  {
   "cell_type": "code",
   "execution_count": 68,
   "metadata": {},
   "outputs": [
    {
     "data": {
      "text/plain": [
       "2870"
      ]
     },
     "execution_count": 68,
     "metadata": {},
     "output_type": "execute_result"
    }
   ],
   "source": [
    "sum([x**2 for x in range(1,21)])"
   ]
  },
  {
   "cell_type": "markdown",
   "metadata": {},
   "source": [
    "### <font color=#0000FF>for與 list、if 混合使用(六)</font>"
   ]
  },
  {
   "cell_type": "code",
   "execution_count": 78,
   "metadata": {},
   "outputs": [
    {
     "data": {
      "text/plain": [
       "[2, 4, 6, 8, 10, 12, 14, 16, 18, 20]"
      ]
     },
     "execution_count": 78,
     "metadata": {},
     "output_type": "execute_result"
    }
   ],
   "source": [
    "# 列出1-20之間偶數數值\n",
    "[x for x in range(1,21) if x %2 == 0]"
   ]
  },
  {
   "cell_type": "code",
   "execution_count": 80,
   "metadata": {},
   "outputs": [
    {
     "name": "stdout",
     "output_type": "stream",
     "text": [
      "[1, 4, 3, 16, 5, 36, 7, 64, 9, 100, 11, 144, 13, 196, 15, 256, 17, 324, 19, 400]\n"
     ]
    }
   ],
   "source": [
    "# 列出1-20之間，偶數就平方，奇數就直接輸出\n",
    "print([x if x%2 !=0 else x**2 for x in range(1,21)])"
   ]
  },
  {
   "cell_type": "code",
   "execution_count": 82,
   "metadata": {},
   "outputs": [
    {
     "name": "stdout",
     "output_type": "stream",
     "text": [
      "[False, True, False, True, False, True, False, True, False, True, False, True, False, True, False, True, False, True, False, True]\n"
     ]
    }
   ],
   "source": [
    "print([True if x % 2 == 0 else False for x in range(1,21)])"
   ]
  },
  {
   "cell_type": "code",
   "execution_count": 83,
   "metadata": {},
   "outputs": [
    {
     "data": {
      "text/plain": [
       "False"
      ]
     },
     "execution_count": 83,
     "metadata": {},
     "output_type": "execute_result"
    }
   ],
   "source": [
    "all([True if x % 2 == 0 else False for x in range(1,21)])"
   ]
  },
  {
   "cell_type": "code",
   "execution_count": 85,
   "metadata": {},
   "outputs": [
    {
     "data": {
      "text/plain": [
       "True"
      ]
     },
     "execution_count": 85,
     "metadata": {},
     "output_type": "execute_result"
    }
   ],
   "source": [
    "any([True if x % 2 == 0 else False for x in range(1,21)])"
   ]
  },
  {
   "cell_type": "markdown",
   "metadata": {},
   "source": [
    "### <font color=#0000FF>nested (巢狀) for 使用(七)</font>"
   ]
  },
  {
   "cell_type": "code",
   "execution_count": 87,
   "metadata": {},
   "outputs": [
    {
     "data": {
      "text/plain": [
       "[6, 12, 18]"
      ]
     },
     "execution_count": 87,
     "metadata": {},
     "output_type": "execute_result"
    }
   ],
   "source": [
    "# 列出1-20之間既是2的倍數，又是3的倍數\n",
    "[x for x in range(1,21) if x%2 == 0 if x%3==0]"
   ]
  },
  {
   "cell_type": "code",
   "execution_count": 88,
   "metadata": {},
   "outputs": [
    {
     "data": {
      "text/plain": [
       "[6, 12, 18]"
      ]
     },
     "execution_count": 88,
     "metadata": {},
     "output_type": "execute_result"
    }
   ],
   "source": [
    "[x for x in range(1,21) if x%2 == 0 and x%3==0]"
   ]
  },
  {
   "cell_type": "markdown",
   "metadata": {},
   "source": [
    "### <font color=#0000FF>string module</font>"
   ]
  },
  {
   "cell_type": "code",
   "execution_count": 89,
   "metadata": {},
   "outputs": [],
   "source": [
    "import string"
   ]
  },
  {
   "cell_type": "code",
   "execution_count": 97,
   "metadata": {},
   "outputs": [
    {
     "name": "stdout",
     "output_type": "stream",
     "text": [
      "abcdefghijklmnopqrstuvwxyzABCDEFGHIJKLMNOPQRSTUVWXYZ\n",
      "abcdefghijklmnopqrstuvwxyz\n",
      "ABCDEFGHIJKLMNOPQRSTUVWXYZ\n",
      "It's A Dog\n",
      "0123456789\n",
      "!\"#$%&'()*+,-./:;<=>?@[\\]^_`{|}~\n",
      "0123456789abcdefghijklmnopqrstuvwxyzABCDEFGHIJKLMNOPQRSTUVWXYZ!\"#$%&'()*+,-./:;<=>?@[\\]^_`{|}~ \t\n",
      "\r",
      "\u000b",
      "\f",
      "\n"
     ]
    }
   ],
   "source": [
    "print(string.ascii_letters)\n",
    "print(string.ascii_lowercase)\n",
    "print(string.ascii_uppercase)\n",
    "print(string.capwords(\"it's a dog\"))\n",
    "print(string.digits)\n",
    "print(string.punctuation)\n",
    "print(string.printable)"
   ]
  },
  {
   "cell_type": "code",
   "execution_count": 98,
   "metadata": {},
   "outputs": [
    {
     "name": "stdout",
     "output_type": "stream",
     "text": [
      "Hello Python\n",
      "Hello PythonHello Python\n",
      "False\n",
      "True\n",
      "True\n",
      "Hello \n"
     ]
    }
   ],
   "source": [
    "w1 = 'Hello'\n",
    "w2 = 'Python'\n",
    "w = w1 + ' ' + w2\n",
    "print(w)\n",
    "print(w*2)\n",
    "print('p' in w)\n",
    "print('p' not in w)\n",
    "print('P' in w)\n",
    "print(w[0:6])"
   ]
  },
  {
   "cell_type": "code",
   "execution_count": 101,
   "metadata": {},
   "outputs": [
    {
     "name": "stdout",
     "output_type": "stream",
     "text": [
      "2\n",
      "-1\n"
     ]
    }
   ],
   "source": [
    "print(w.find('llo'))\n",
    "print(w.find('x'))   #找不到就回傳 -1"
   ]
  },
  {
   "cell_type": "markdown",
   "metadata": {
    "collapsed": true
   },
   "source": [
    "<font color=#0000FF>【練習題】撰寫一個 質數 的判斷程式</font>"
   ]
  },
  {
   "cell_type": "code",
   "execution_count": 3,
   "metadata": {},
   "outputs": [
    {
     "name": "stdout",
     "output_type": "stream",
     "text": [
      "False\n"
     ]
    }
   ],
   "source": [
    "num = 18\n",
    "isPrimeFlag = True\n",
    "for i in range(2, num):\n",
    "    if num%i == 0 :\n",
    "        isPrimeFlag = False\n",
    "        break                  #只要有一次被整除就跳離開迴圈，不要繼續做\n",
    "print(isPrimeFlag)     "
   ]
  },
  {
   "cell_type": "code",
   "execution_count": 5,
   "metadata": {},
   "outputs": [
    {
     "name": "stdout",
     "output_type": "stream",
     "text": [
      "17 是 質數\n"
     ]
    }
   ],
   "source": [
    "num = 17\n",
    "isPrimeFlag = True\n",
    "for i in range(2, num):\n",
    "    if num%i == 0 :\n",
    "        isPrimeFlag = False\n",
    "        break                  #只要有一次被整除就跳離開迴圈，不要繼續做\n",
    "print(\"{} {} 質數\".format(num, \"是\" if isPrimeFlag else \"不是\"))"
   ]
  },
  {
   "cell_type": "code",
   "execution_count": 8,
   "metadata": {},
   "outputs": [],
   "source": [
    "def isPrime(num):\n",
    "#     num = 17\n",
    "    isPrimeFlag = True\n",
    "    for i in range(2, num):\n",
    "        if num%i == 0 :\n",
    "            isPrimeFlag = False\n",
    "            break                  #只要有一次被整除就跳離開迴圈，不要繼續做\n",
    "#     print(\"{} {} 質數\".format(num, \"是\" if isPrimeFlag else \"不是\"))    \n",
    "    return isPrimeFlag"
   ]
  },
  {
   "cell_type": "code",
   "execution_count": 9,
   "metadata": {},
   "outputs": [
    {
     "data": {
      "text/plain": [
       "True"
      ]
     },
     "execution_count": 9,
     "metadata": {},
     "output_type": "execute_result"
    }
   ],
   "source": [
    "isPrime(17)"
   ]
  },
  {
   "cell_type": "code",
   "execution_count": 12,
   "metadata": {},
   "outputs": [
    {
     "name": "stdout",
     "output_type": "stream",
     "text": [
      "17 是 質數\n"
     ]
    }
   ],
   "source": [
    "num = 17\n",
    "print(\"{} {} 質數\".format(num, \"是\" if isPrime(num) else \"不是\"))"
   ]
  },
  {
   "cell_type": "markdown",
   "metadata": {},
   "source": [
    "<font color=#FF0000>以下是錯誤的示範</font>"
   ]
  },
  {
   "cell_type": "code",
   "execution_count": 17,
   "metadata": {},
   "outputs": [
    {
     "name": "stdout",
     "output_type": "stream",
     "text": [
      "2 是質數\n",
      "3 不是質數\n",
      "4 是質數\n",
      "5 是質數\n",
      "6 是質數\n",
      "7 不是質數\n",
      "8 是質數\n",
      "9 是質數\n",
      "10 是質數\n",
      "11 是質數\n",
      "12 是質數\n",
      "13 是質數\n",
      "14 是質數\n",
      "15 是質數\n",
      "16 是質數\n",
      "17 是質數\n",
      "18 是質數\n",
      "19 是質數\n",
      "20 是質數\n"
     ]
    }
   ],
   "source": [
    "num = 21\n",
    "for i in range(2, num):\n",
    "    if num%i == 0 :\n",
    "        print(\"{} {}\".format(i, \"不是質數\"))\n",
    "#         break\n",
    "    else :    \n",
    "        print(\"{} {}\".format(i, \"是質數\"))  \n",
    "#         break\n",
    "# compile error / runtime error\n"
   ]
  },
  {
   "cell_type": "markdown",
   "metadata": {},
   "source": [
    "### <font color=#0000FF>使用while迴圈</font>"
   ]
  },
  {
   "cell_type": "code",
   "execution_count": 20,
   "metadata": {},
   "outputs": [
    {
     "name": "stdout",
     "output_type": "stream",
     "text": [
      "False\n"
     ]
    }
   ],
   "source": [
    "num = 21\n",
    "isPrimeFlag = True\n",
    "i = 2\n",
    "while isPrimeFlag and i < num:\n",
    "    if num%i == 0 :\n",
    "        isPrimeFlag = False\n",
    "    i = i + 1\n",
    "print(isPrimeFlag)"
   ]
  },
  {
   "cell_type": "code",
   "execution_count": 25,
   "metadata": {},
   "outputs": [],
   "source": [
    "def isPrime(num):\n",
    "    isPrimeFlag = True\n",
    "    i = 2\n",
    "    while isPrimeFlag and i < num:\n",
    "        if num%i == 0 :\n",
    "            isPrimeFlag = False\n",
    "        i = i + 1    \n",
    "    return isPrimeFlag    "
   ]
  },
  {
   "cell_type": "code",
   "execution_count": 24,
   "metadata": {},
   "outputs": [
    {
     "name": "stdout",
     "output_type": "stream",
     "text": [
      "21 不是 質數\n"
     ]
    }
   ],
   "source": [
    "num = 21\n",
    "print(\"{} {} 質數\".format(num, \"是\" if isPrime(num) else \"不是\"))"
   ]
  },
  {
   "cell_type": "markdown",
   "metadata": {},
   "source": [
    "迴圈可以使用以下兩個跳躍\n",
    "- <font color=#0000FF>break</font> : 直接跳離開迴圈\n",
    "- <font color=#0000FF>continue</font> : 在continue以下的程式不會執行，直接跳回迴圈的開頭(for / while)"
   ]
  },
  {
   "cell_type": "markdown",
   "metadata": {},
   "source": [
    "<font color=#0000FF>【練習題】撰寫一個函數multiples(min, max, factors)，可以將某一區間的數，依據使用者輸入的因素將其倍數分開</font><br>\n",
    "例如使用者輸入 multiples(1,50,[2,3,5])，可以分成\n",
    "<pre>\n",
    "[2, 4, 6, 8, 10, 12, 14, 16, 18, 20, 22, 24, 26, 28, 30, 32, 34, 36, 38, 40, 42, 44, 46, 48, 50]\n",
    "[3, 6, 9, 12, 15, 18, 21, 24, 27, 30, 33, 36, 39, 42, 45, 48]\n",
    "[5, 10, 15, 20, 25, 30, 35, 40, 45, 50]\n",
    "</pre>"
   ]
  },
  {
   "cell_type": "code",
   "execution_count": 34,
   "metadata": {},
   "outputs": [
    {
     "name": "stdout",
     "output_type": "stream",
     "text": [
      "4\n"
     ]
    }
   ],
   "source": [
    "factors = [2,3,5,6]\n",
    "n = len(factors)\n",
    "lst = [[] for _ in range(n)]   # 創造出一個 list lst 內有 n 個 list\n",
    "print(len(lst))"
   ]
  },
  {
   "cell_type": "code",
   "execution_count": 36,
   "metadata": {},
   "outputs": [
    {
     "name": "stdout",
     "output_type": "stream",
     "text": [
      "[2, 4, 6, 8, 10, 12, 14, 16, 18, 20, 22, 24, 26, 28, 30, 32, 34, 36, 38, 40, 42, 44, 46, 48, 50]\n",
      "[3, 6, 9, 12, 15, 18, 21, 24, 27, 30, 33, 36, 39, 42, 45, 48]\n",
      "[5, 10, 15, 20, 25, 30, 35, 40, 45, 50]\n",
      "[6, 12, 18, 24, 30, 36, 42, 48]\n"
     ]
    }
   ],
   "source": [
    "factors = [2,3,5,6]\n",
    "n = len(factors)\n",
    "lst = [[] for _ in range(n)]\n",
    "for i in range(n) :                           # 依據 factors 內有幾個元素就跑幾次\n",
    "    lst[i] = [j for j in range(1,51) if j%factors[i]==0]  # lst[i] 代表 lst 內的第 i 個 list\n",
    "\n",
    "    \n",
    "for i in range(n) :\n",
    "    print(lst[i])"
   ]
  },
  {
   "cell_type": "code",
   "execution_count": 38,
   "metadata": {},
   "outputs": [],
   "source": [
    "def multiples(min, max, factors):\n",
    "#     factors = [2,3,5,6]\n",
    "    n = len(factors)\n",
    "    lst = [[] for _ in range(n)]\n",
    "    for i in range(n) :                           # 依據 factors 內有幾個元素就跑幾次\n",
    "        lst[i] = [j for j in range(min,max+1) if j%factors[i]==0]  # lst[i] 代表 lst 內的第 i 個 list\n",
    "    return lst        "
   ]
  },
  {
   "cell_type": "code",
   "execution_count": 44,
   "metadata": {},
   "outputs": [
    {
     "name": "stdout",
     "output_type": "stream",
     "text": [
      "[2, 4, 6, 8, 10, 12, 14, 16, 18, 20, 22, 24, 26, 28, 30, 32, 34, 36, 38, 40, 42, 44, 46, 48, 50, 52, 54, 56, 58, 60, 62, 64, 66, 68, 70, 72, 74, 76, 78, 80, 82, 84, 86, 88, 90, 92, 94, 96, 98, 100]\n",
      "[6, 12, 18, 24, 30, 36, 42, 48, 54, 60, 66, 72, 78, 84, 90, 96]\n",
      "[8, 16, 24, 32, 40, 48, 56, 64, 72, 80, 88, 96]\n",
      "[10, 20, 30, 40, 50, 60, 70, 80, 90, 100]\n",
      "[11, 22, 33, 44, 55, 66, 77, 88, 99]\n"
     ]
    }
   ],
   "source": [
    "lst2 = multiples(1,100,[2,6,8,10,11])\n",
    "\n",
    "for i in range(len(lst2)):\n",
    "    print(lst2[i])"
   ]
  },
  {
   "cell_type": "markdown",
   "metadata": {},
   "source": [
    "### <font color=#0000FF>【homework01】2019/03/05</font>"
   ]
  },
  {
   "cell_type": "markdown",
   "metadata": {},
   "source": [
    "<pre>\n",
    "(001-01)請利用for迴圈撰寫一個以下10層的輸出\n",
    "\n",
    "*\n",
    "***\n",
    "*****\n",
    "*******\n",
    "*********\n",
    "***********\n",
    "*************\n",
    "***************\n",
    "*****************\n",
    "*******************\n",
    "</pre>"
   ]
  },
  {
   "cell_type": "code",
   "execution_count": null,
   "metadata": {},
   "outputs": [],
   "source": []
  },
  {
   "cell_type": "markdown",
   "metadata": {},
   "source": [
    "<pre>\n",
    "(001-02)請將以上的輸出改成以下的聖誕樹\n",
    "\n",
    "         *\n",
    "        ***\n",
    "       *****\n",
    "      *******\n",
    "     *********\n",
    "    ***********\n",
    "   *************\n",
    "  ***************\n",
    " *****************\n",
    "*******************\n",
    "</pre>"
   ]
  },
  {
   "cell_type": "code",
   "execution_count": null,
   "metadata": {},
   "outputs": [],
   "source": []
  },
  {
   "cell_type": "markdown",
   "metadata": {},
   "source": [
    "<pre>\n",
    "(001-03)請將以上的輸出改成以下的聖誕樹\n",
    "可以考慮 X if condition else Y\n",
    "\n",
    "         *\n",
    "        *-*\n",
    "       *-*-*\n",
    "      *-*-*-*\n",
    "     *-*-*-*-*\n",
    "    *-*-*-*-*-*\n",
    "   *-*-*-*-*-*-*\n",
    "  *-*-*-*-*-*-*-*\n",
    " *-*-*-*-*-*-*-*-*\n",
    "*-*-*-*-*-*-*-*-*-*\n",
    "</pre>"
   ]
  },
  {
   "cell_type": "code",
   "execution_count": null,
   "metadata": {},
   "outputs": [],
   "source": []
  },
  {
   "cell_type": "markdown",
   "metadata": {},
   "source": [
    "(001-04)請將以上的程式改寫成函數 XmasTree(layers, marker=\"*\")，可以由外部輸入層數layers，以及輸出的星號 * 也可以更改"
   ]
  },
  {
   "cell_type": "code",
   "execution_count": null,
   "metadata": {},
   "outputs": [],
   "source": [
    "# Solution\n",
    "def XmasTree(layers=10, marker=\"*\") :\n",
    "    \n",
    "    \n",
    "    "
   ]
  },
  {
   "cell_type": "markdown",
   "metadata": {},
   "source": [
    "<pre>\n",
    "XmasTree(layers=4, marker=\"$\")\n",
    "   $\n",
    "  $-$\n",
    " $-$-$\n",
    "$-$-$-$\n",
    "</pre>"
   ]
  },
  {
   "cell_type": "markdown",
   "metadata": {},
   "source": [
    "(002)選擇性作答\n",
    "<font color=#0000FF>(007-01)請協助我家小朋友，寫一個以下的九九乘法表</font>\n",
    "<pre>\n",
    "1 * 1 = 1\t2 * 1 = 2\t 3 * 1 = 3\t\n",
    "1 * 2 = 2\t2 * 2 = 4\t 3 * 2 = 6\t\n",
    "1 * 3 = 3\t2 * 3 = 6\t 3 * 3 = 9\t\n",
    "1 * 4 = 4\t2 * 4 = 8\t 3 * 4 = 12\t\n",
    "1 * 5 = 5\t2 * 5 = 10\t3 * 5 = 15\t\n",
    "1 * 6 = 6\t2 * 6 = 12\t3 * 6 = 18\t\n",
    "1 * 7 = 7\t2 * 7 = 14\t3 * 7 = 21\t\n",
    "1 * 8 = 8\t2 * 8 = 16\t3 * 8 = 24\t\n",
    "1 * 9 = 9\t2 * 9 = 18\t3 * 9 = 27\t\n",
    "\n",
    "4 * 1 = 4\t 5 * 1 = 5\t 6 * 1 = 6\t\n",
    "4 * 2 = 8\t 5 * 2 = 10\t6 * 2 = 12\t\n",
    "4 * 3 = 12\t5 * 3 = 15\t6 * 3 = 18\t\n",
    "4 * 4 = 16\t5 * 4 = 20\t6 * 4 = 24\t\n",
    "4 * 5 = 20\t5 * 5 = 25\t6 * 5 = 30\t\n",
    "4 * 6 = 24\t5 * 6 = 30\t6 * 6 = 36\t\n",
    "4 * 7 = 28\t5 * 7 = 35\t6 * 7 = 42\t\n",
    "4 * 8 = 32\t5 * 8 = 40\t6 * 8 = 48\t\n",
    "4 * 9 = 36\t5 * 9 = 45\t6 * 9 = 54\t\n",
    "\n",
    "7 * 1 = 7\t 8 * 1 = 8\t 9 * 1 = 9\t\n",
    "7 * 2 = 14\t8 * 2 = 16\t9 * 2 = 18\t\n",
    "7 * 3 = 21\t8 * 3 = 24\t9 * 3 = 27\t\n",
    "7 * 4 = 28\t8 * 4 = 32\t9 * 4 = 36\t\n",
    "7 * 5 = 35\t8 * 5 = 40\t9 * 5 = 45\t\n",
    "7 * 6 = 42\t8 * 6 = 48\t9 * 6 = 54\t\n",
    "7 * 7 = 49\t8 * 7 = 56\t9 * 7 = 63\t\n",
    "7 * 8 = 56\t8 * 8 = 64\t9 * 8 = 72\t\n",
    "7 * 9 = 63\t8 * 9 = 72\t9 * 9 = 81\n",
    "</pre>"
   ]
  },
  {
   "cell_type": "code",
   "execution_count": null,
   "metadata": {},
   "outputs": [],
   "source": []
  },
  {
   "cell_type": "markdown",
   "metadata": {},
   "source": [
    "### <font color=#0000FF>【homework02】2019/03/12</font>"
   ]
  },
  {
   "cell_type": "markdown",
   "metadata": {},
   "source": [
    "<font color=#0000FF>(001-01)大家總是喜歡玩猜拳遊戲，請寫一個與電腦猜拳的遊戲，(1)剪刀 < (2)石頭 < (3)布 < (1)剪刀 <br>\n",
    "使用者輸入1, 2, 3來代表，電腦輸出要是剪刀、石頭、布</font>\n",
    "* 1 : 剪刀\n",
    "* 2 : 石頭\n",
    "* 3 : 布"
   ]
  },
  {
   "cell_type": "code",
   "execution_count": null,
   "metadata": {},
   "outputs": [],
   "source": [
    "['剪刀', '石頭', '布']\n",
    "['獵人', '老虎', '槍']\n",
    "['蟲', '雞', '老虎', '棒']"
   ]
  },
  {
   "cell_type": "markdown",
   "metadata": {},
   "source": [
    "<font color=#0000FF>(001-02)請將以上的遊戲改成 獵人、老虎、槍，(1)獵人 < (2)老虎 < (3)槍 < (1)獵人<br>\n",
    "使用者輸入1, 2, 3來代表，電腦輸出要是獵人、老虎、槍</font>\n",
    "* 1 : 獵人\n",
    "* 2 : 老虎\n",
    "* 3 : 槍"
   ]
  },
  {
   "cell_type": "code",
   "execution_count": null,
   "metadata": {},
   "outputs": [],
   "source": []
  },
  {
   "cell_type": "markdown",
   "metadata": {},
   "source": [
    "<font color=#0000FF>(001-03)請將以上的遊戲改成，棒打老虎雞吃蟲，(1)蟲 < (2)雞 < (3)老虎 < (4)棒 < (1)蟲<br>\n",
    "使用者輸入1, 2, 3, 4來代表，電腦輸出要是蟲、雞、老虎、棒</font>\n",
    "* 1 : 蟲\n",
    "* 2 : 雞\n",
    "* 3 : 老虎\n",
    "* 4 : 棒   "
   ]
  },
  {
   "cell_type": "code",
   "execution_count": null,
   "metadata": {},
   "outputs": [],
   "source": []
  },
  {
   "cell_type": "markdown",
   "metadata": {},
   "source": [
    "<font color=#0000FF>(002-01)小時候我們常常玩猜數字遊戲，現在我們要寫一個小小的遊戲與電腦玩，規則如下:</font>\n",
    "1. 電腦先隨機產生一組四位數的數字，例如:<font color=#FF0000>5691</font>，每一個數字不可以重複，左邊第一個數字不可以為0\n",
    "2. 使用者不斷猜這一組數字，只要猜到的數字有在其中，位置相同數字相同就給個A，位置不同數字相同就給個B，例如猜 <font color=#FF0000>1650</font>，因為有猜到 1, 5, 6，其中 6 的位置又相同，其他位置不同，所以電腦要給 1A2B。"
   ]
  },
  {
   "cell_type": "code",
   "execution_count": 6,
   "metadata": {},
   "outputs": [],
   "source": [
    "import numpy as np\n",
    "import string"
   ]
  },
  {
   "cell_type": "code",
   "execution_count": 7,
   "metadata": {},
   "outputs": [
    {
     "name": "stdout",
     "output_type": "stream",
     "text": [
      "5213\n"
     ]
    }
   ],
   "source": [
    "num = 4\n",
    "rnd = '0'\n",
    "while rnd[0] == '0':\n",
    "    rnd = ''.join(np.random.choice(list(string.digits),num,replace=False))\n",
    "print('{}'.format(rnd))\n",
    "\n",
    "usr = ''\n",
    "while not usr.digits()\n",
    "    usr = input('請輸入四位數:')\n",
    "print('使用者數字')\n",
    "if usr[i] =="
   ]
  },
  {
   "cell_type": "markdown",
   "metadata": {},
   "source": [
    "<font color=#0000FF>(002-02)以上的題目，請用迴圈更改成可以不斷猜，直到使用者輸入\"0000\"表示放棄不玩，或是猜對為止。結束後，系統必須告知答案，以及使用者總共玩了幾次，猜過哪些數字</font>"
   ]
  },
  {
   "cell_type": "code",
   "execution_count": null,
   "metadata": {},
   "outputs": [],
   "source": [
    "def Guess(nDigits = 4):\n",
    "    rnd = '0'\n",
    "    while rnd[0] == '0'\n",
    "        rnd = ''.join(np.random.choice(list(string.digits), nDigits,replace=False))\n",
    "    print('電腦亂數:{}'.format(rnd))\n",
    "    \n",
    "    A = B = 0\n",
    "    lists = list()\n",
    "    while A != nDigits:\n",
    "        usr = int(input)"
   ]
  },
  {
   "cell_type": "markdown",
   "metadata": {},
   "source": [
    "### <font color=#0000FF>【homework03】2019/03/19</font>"
   ]
  },
  {
   "cell_type": "markdown",
   "metadata": {},
   "source": [
    "<font color=#0000FF>(001)判斷質數的函數默寫10遍</font>"
   ]
  },
  {
   "cell_type": "code",
   "execution_count": null,
   "metadata": {},
   "outputs": [],
   "source": []
  },
  {
   "cell_type": "markdown",
   "metadata": {},
   "source": [
    "<font color=#0000FF>(002)\n",
    "依據以上的練習 multiples(min, max, factors) 函數，讓使用者輸入 factors 內的因素值，直到使用者輸入 0 為止。請注意你如何架構這整個程式，請不要破破碎碎，儘量使用函數。</font>"
   ]
  },
  {
   "cell_type": "code",
   "execution_count": null,
   "metadata": {},
   "outputs": [],
   "source": [
    "multiples(1,100,userInput())"
   ]
  }
 ],
 "metadata": {
  "kernelspec": {
   "display_name": "Python 3",
   "language": "python",
   "name": "python3"
  },
  "language_info": {
   "codemirror_mode": {
    "name": "ipython",
    "version": 3
   },
   "file_extension": ".py",
   "mimetype": "text/x-python",
   "name": "python",
   "nbconvert_exporter": "python",
   "pygments_lexer": "ipython3",
   "version": "3.7.3"
  }
 },
 "nbformat": 4,
 "nbformat_minor": 2
}
