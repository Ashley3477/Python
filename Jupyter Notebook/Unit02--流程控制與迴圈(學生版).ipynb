{
 "cells": [
  {
   "cell_type": "markdown",
   "metadata": {},
   "source": [
    "【臺北大學】Python程式設計<br>\n",
    "【授課老師】[陳祥輝 (Email : HsiangHui.Chen@gmail.com)](mailto:HsiangHui.Chen@gmail.com)<br>\n",
    "【facebook】[陳祥輝老師的臉書 (歡迎加好友)](https://goo.gl/osivhx)<br>\n",
    "【參考書籍】[從零開始學Python程式設計（適用Python 3.5以上）](http://www.drmaster.com.tw/Bookinfo.asp?BookID=MP31821)<br>\n",
    "【主要議題】流程控制與迴圈"
   ]
  },
  {
   "cell_type": "markdown",
   "metadata": {},
   "source": [
    "【重點提要】\n",
    "1. 循序結構(Sequential)\n",
    "2. 選擇結構(Selection) : \n",
    "    * if ... elif ... elif ... else \n",
    "    * X if C else Y\n",
    "3. 迭代結構(Iteration) : for / while, break / continue"
   ]
  },
  {
   "cell_type": "markdown",
   "metadata": {},
   "source": [
    "【參考資料】\n",
    "* [有關在 matplotlib 顯示數學表示式 (LaTex)](https://wizardforcel.gitbooks.io/matplotlib-user-guide/4.6.html)"
   ]
  },
  {
   "cell_type": "markdown",
   "metadata": {},
   "source": [
    "【比較以下不同用法的差異】\n",
    "* import numpy as np\n",
    "* import numpy.random as rnd1\n",
    "* from numpy import random as rnd2\n",
    "* from numpy.random import random"
   ]
  },
  {
   "cell_type": "code",
   "execution_count": 1,
   "metadata": {},
   "outputs": [
    {
     "name": "stdout",
     "output_type": "stream",
     "text": [
      "【日期時間】2019/04/23 07:25:45\n",
      "【工作目錄】D:\\python\\Jupyter Notebook\n",
      "【主機名稱】DESKTOP-IH04AAB (192.168.0.191)\n"
     ]
    }
   ],
   "source": [
    "#-*-coding:UTF-8-*- \n",
    "import os, time, glob, socket\n",
    "\n",
    "print(\"【日期時間】{}\".format(time.strftime(\"%Y/%m/%d %H:%M:%S\")))\n",
    "print(\"【工作目錄】{}\".format(os.getcwd()))\n",
    "print(\"【主機名稱】{} ({})\".format(socket.gethostname(),socket.gethostbyname(socket.gethostname())))"
   ]
  },
  {
   "cell_type": "markdown",
   "metadata": {},
   "source": [
    "### <font color=#0000FF>Python的基本資料型態</font>"
   ]
  },
  {
   "cell_type": "markdown",
   "metadata": {},
   "source": [
    "#### Python Primitive data types (基本資料型態)\n",
    "\n",
    "* Numeric Types \n",
    "    - int()\n",
    "    - float()\n",
    "    - complex()\n",
    "* bool()\n",
    "* str()\n",
    "* None"
   ]
  },
  {
   "cell_type": "markdown",
   "metadata": {},
   "source": [
    "### <font color=#0000FF>import模組的各種寫法</font>"
   ]
  },
  {
   "cell_type": "markdown",
   "metadata": {},
   "source": [
    "【比較以下不同用法的差異】\n",
    "* import numpy as np\n",
    "* from numpy import *\n",
    "* import numpy.random as rnd1\n",
    "* from numpy import random as rnd2\n",
    "* from numpy.random import *\n",
    "* from numpy.random import random"
   ]
  },
  {
   "cell_type": "markdown",
   "metadata": {},
   "source": [
    "<table>\n",
    "<tr><td>\n",
    "<img src='images/importDiag.png' width=400 height=300 alt=\"這裡是放一張 importDiag.png 的示意圖\"></td><td>\n",
    "<img src='images/importNumpy.png' width=400 height=300 alt=\"這裡是放一張 importNumpy.png 的示意圖\">\n",
    "</td></tr>\n",
    "</table>"
   ]
  },
  {
   "cell_type": "code",
   "execution_count": null,
   "metadata": {},
   "outputs": [],
   "source": []
  },
  {
   "cell_type": "markdown",
   "metadata": {},
   "source": [
    "### <font color=#0000FF>選擇結構(Selection)</font>"
   ]
  },
  {
   "cell_type": "markdown",
   "metadata": {},
   "source": [
    "<font color=#0000FF>\n",
    "if ... elif ... elif ... else ...\n",
    "</font>"
   ]
  },
  {
   "cell_type": "code",
   "execution_count": null,
   "metadata": {},
   "outputs": [],
   "source": []
  },
  {
   "cell_type": "markdown",
   "metadata": {},
   "source": [
    "<font color=#0000FF>\n",
    "X if Condition else Y\n",
    "</font>"
   ]
  },
  {
   "cell_type": "code",
   "execution_count": null,
   "metadata": {},
   "outputs": [],
   "source": []
  },
  {
   "cell_type": "markdown",
   "metadata": {},
   "source": [
    "### <font color=#0000FF>迭代結構(Iteration)</font>"
   ]
  },
  {
   "cell_type": "markdown",
   "metadata": {
    "collapsed": true
   },
   "source": [
    "### <font color=#0000FF>for range 的使用(一)</font>\n",
    "* range()\n",
    "* np.linespace()  \n",
    "* np.arange()"
   ]
  },
  {
   "cell_type": "code",
   "execution_count": null,
   "metadata": {},
   "outputs": [],
   "source": []
  },
  {
   "cell_type": "markdown",
   "metadata": {},
   "source": [
    "<font color=#0000FF>比較 range(), np.linspace(), np.arange()</font>"
   ]
  },
  {
   "cell_type": "code",
   "execution_count": 2,
   "metadata": {},
   "outputs": [],
   "source": [
    "import numpy as np"
   ]
  },
  {
   "cell_type": "markdown",
   "metadata": {},
   "source": [
    "<font color=#0000FF>range() : 只可用於整數，start、stop、step，含起值、不含迄值</font>"
   ]
  },
  {
   "cell_type": "code",
   "execution_count": 3,
   "metadata": {},
   "outputs": [],
   "source": [
    "# range(stop) -> range object\n",
    "# range(start, stop[, step]) -> range object\n",
    "# Return an object that produces a sequence of integers from start (inclusive) to stop (exclusive) by step."
   ]
  },
  {
   "cell_type": "markdown",
   "metadata": {},
   "source": [
    "<font color=#0000FF>np.arange() : 可用於整數、浮點型態，start、stop、step，含起值、不含迄值</font>"
   ]
  },
  {
   "cell_type": "code",
   "execution_count": 4,
   "metadata": {},
   "outputs": [],
   "source": [
    "# np.arange([start,] stop[, step,], dtype=None) \n",
    "# Return evenly spaced values within a given interval.\n",
    "#\n",
    "# [note]\n",
    "# stop : number\n",
    "#     End of interval.  The interval does not include this value."
   ]
  },
  {
   "cell_type": "markdown",
   "metadata": {},
   "source": [
    "<font color=#0000FF>np.linspace : 可用於整數、浮點型態，start、stop、<b><u>num</u></b>，，含起值、預設有含迄值(endpoint=True)</font>"
   ]
  },
  {
   "cell_type": "code",
   "execution_count": 5,
   "metadata": {},
   "outputs": [],
   "source": [
    "# np.linspace(start, stop, num=50, endpoint=True, retstep=False, dtype=None)\n",
    "# Return evenly spaced numbers over a specified interval.\n",
    "# \n",
    "# [note]\n",
    "# stop : scalar\n",
    "#     The end value of the sequence, unless `endpoint` is set to False.\n",
    "\n",
    "# np.linspace(start=1,stop=11,num=10)\n",
    "# np.linspace(start=1,stop=11,num=10,dtype=int)\n",
    "# np.linspace(start=1,stop=11,num=10,retstep=True,dtype=int)\n",
    "# np.linspace(start=1,stop=11,num=10,endpoint=False,retstep=True)"
   ]
  },
  {
   "cell_type": "markdown",
   "metadata": {
    "collapsed": true
   },
   "source": [
    "### <font color=#0000FF>foreach 的使用(二)</font>"
   ]
  },
  {
   "cell_type": "markdown",
   "metadata": {
    "collapsed": true
   },
   "source": [
    "### <font color=#0000FF>for與 dict 的使用(三)</font>"
   ]
  },
  {
   "cell_type": "code",
   "execution_count": null,
   "metadata": {},
   "outputs": [],
   "source": []
  },
  {
   "cell_type": "markdown",
   "metadata": {},
   "source": [
    "### <font color=#0000FF>for與 string 使用(四)</font>"
   ]
  },
  {
   "cell_type": "code",
   "execution_count": null,
   "metadata": {},
   "outputs": [],
   "source": []
  },
  {
   "cell_type": "markdown",
   "metadata": {},
   "source": [
    "### <font color=#0000FF>for與 list 使用(五)</font>\n",
    "- [有關在 matplotlib 顯示數學表示式 (LaTex)](https://wizardforcel.gitbooks.io/matplotlib-user-guide/4.6.html)"
   ]
  },
  {
   "cell_type": "markdown",
   "metadata": {
    "collapsed": true
   },
   "source": [
    "<font color=#0000FF>寫一個以下數列的和</font>\n",
    "- $\\sum_{x=1}^{20}x^2$\n",
    "- $\\sum_{x=1}^{20}\\sqrt{x}$\n",
    "- $\\sum_{x=1}^{20}\\frac{1}{x}$"
   ]
  },
  {
   "cell_type": "code",
   "execution_count": null,
   "metadata": {},
   "outputs": [],
   "source": []
  },
  {
   "cell_type": "markdown",
   "metadata": {},
   "source": [
    "### <font color=#0000FF>for與 list、if 混合使用(六)</font>"
   ]
  },
  {
   "cell_type": "code",
   "execution_count": null,
   "metadata": {},
   "outputs": [],
   "source": []
  },
  {
   "cell_type": "markdown",
   "metadata": {},
   "source": [
    "### <font color=#0000FF>nested (巢狀) for 使用(七)</font>"
   ]
  },
  {
   "cell_type": "code",
   "execution_count": null,
   "metadata": {},
   "outputs": [],
   "source": []
  },
  {
   "cell_type": "markdown",
   "metadata": {},
   "source": [
    "### <font color=#0000FF>string module</font>"
   ]
  },
  {
   "cell_type": "code",
   "execution_count": null,
   "metadata": {},
   "outputs": [],
   "source": []
  },
  {
   "cell_type": "markdown",
   "metadata": {
    "collapsed": true
   },
   "source": [
    "<font color=#0000FF>【練習題】撰寫一個 質數 的判斷程式</font>"
   ]
  },
  {
   "cell_type": "code",
   "execution_count": null,
   "metadata": {},
   "outputs": [],
   "source": []
  },
  {
   "cell_type": "markdown",
   "metadata": {},
   "source": [
    "請判斷輸入的數值是否為 3且5的倍數, 3的倍數, 5的倍數, 皆不是"
   ]
  },
  {
   "cell_type": "code",
   "execution_count": 7,
   "metadata": {},
   "outputs": [
    {
     "name": "stdout",
     "output_type": "stream",
     "text": [
      "請輸入一個數值:5\n",
      "5的倍數\n"
     ]
    }
   ],
   "source": [
    "usr = input('請輸入一個數值:')\n",
    "usr = int(usr)\n",
    "if usr % 3 ==0 and usr % 5 == 0:\n",
    "    print('3且5的倍數')\n",
    "elif usr % 3 == 0:\n",
    "    print('3的倍數')\n",
    "elif usr % 5 == 0:\n",
    "    print('5的倍數')\n",
    "else :\n",
    "    print('皆不是')"
   ]
  },
  {
   "cell_type": "markdown",
   "metadata": {},
   "source": [
    "如果你只可以使用 np.random.random() 函數，如何產生一個一位的整數值"
   ]
  },
  {
   "cell_type": "code",
   "execution_count": 8,
   "metadata": {},
   "outputs": [],
   "source": [
    "import numpy as np"
   ]
  },
  {
   "cell_type": "code",
   "execution_count": 9,
   "metadata": {},
   "outputs": [
    {
     "name": "stdout",
     "output_type": "stream",
     "text": [
      "9.748313261802991\n",
      "9\n"
     ]
    }
   ],
   "source": [
    "rnd = np.random.random()*10\n",
    "print(rnd)\n",
    "print(int(rnd))"
   ]
  },
  {
   "cell_type": "markdown",
   "metadata": {},
   "source": [
    "由系統產生一個兩位數的整數，讓使用者來猜\n",
    "\n",
    "介於 該亂數 5 之內，顯示 接近了\n",
    "大於該亂數 顯示 太大了\n",
    "小於該亂數 顯示 太小了\n",
    "剛好命中，顯示 答對了"
   ]
  },
  {
   "cell_type": "code",
   "execution_count": 10,
   "metadata": {},
   "outputs": [
    {
     "name": "stdout",
     "output_type": "stream",
     "text": [
      "rnd= 27.82677065141287\n",
      "請輸入一個數值:23\n",
      "接近了\n"
     ]
    }
   ],
   "source": [
    "rnd = np.random.random()*100\n",
    "print(\"rnd=\", rnd)\n",
    "usr = int(input('請輸入一個數值:'))\n",
    "if rnd == usr:\n",
    "    print('答對了')\n",
    "elif usr -5> rnd:\n",
    "    print('太大了')\n",
    "elif usr +5< rnd:\n",
    "    print('太小了')\n",
    "else :\n",
    "    print('接近了')\n"
   ]
  },
  {
   "cell_type": "markdown",
   "metadata": {},
   "source": [
    "上課練習(2019/03/12)\n",
    "請寫一個程式讓使用者與電腦玩猜數字遊戲，電腦會產生一個 1 ~ 100 之間的亂數，條件如下 :\n",
    "\n",
    "最多可猜 10 次\n",
    "電腦必須告知太大、還是太小\n",
    "倘若與答案相距 5 之內(含)，除了說太大、太小之外，還要說接近了。\n",
    "答對要說答對\n",
    "最後必須告知使用者總共答了幾次，並將所有使用者輸入的數字列印出來。"
   ]
  },
  {
   "cell_type": "markdown",
   "metadata": {},
   "source": [
    "<font color=#0000FF>【練習題】撰寫一個 質數 的判斷程式</font>"
   ]
  },
  {
   "cell_type": "code",
   "execution_count": 12,
   "metadata": {},
   "outputs": [
    {
     "name": "stdout",
     "output_type": "stream",
     "text": [
      "18不是質數\n"
     ]
    }
   ],
   "source": [
    "num = 18\n",
    "isPrimeFlag = True\n",
    "for i in range(2,num):\n",
    "    if num%i == 0:\n",
    "        isPrimeFlag =False\n",
    "        break\n",
    "print(\"{}{}質數\".format(num,\"是\"if isPrimeFlag else \"不是\"))"
   ]
  },
  {
   "cell_type": "code",
   "execution_count": 14,
   "metadata": {},
   "outputs": [],
   "source": [
    "def isPrime(num):\n",
    "    isPrimeFlag = True\n",
    "    for i in range(2,num):\n",
    "        if num%i == 0:\n",
    "            isPrimeFlag=False\n",
    "            break\n",
    "    return isPrimeFlag"
   ]
  },
  {
   "cell_type": "code",
   "execution_count": 16,
   "metadata": {},
   "outputs": [],
   "source": [
    "def isPrime(num):\n",
    "    isPrimeFlag = True\n",
    "    for i in range(2,num):\n",
    "        if num%i == 0:\n",
    "            isPrimeFlag=False\n",
    "            break\n",
    "    return isPrimeFlag"
   ]
  },
  {
   "cell_type": "code",
   "execution_count": null,
   "metadata": {},
   "outputs": [],
   "source": [
    "def isPrime(num):\n",
    "    for i in range(2,num):\n",
    "        if num%i == 0:\n",
    "            isPrimeFlag = False\n",
    "            break\n",
    "    print(\"{}{}質數\".format(num,\"是\"))"
   ]
  },
  {
   "cell_type": "code",
   "execution_count": 17,
   "metadata": {},
   "outputs": [],
   "source": [
    "def isPrime(num):\n",
    "    isPrimeFlag = True\n",
    "    for i in range(2,num):\n",
    "        if num%i == 0:\n",
    "            isPrimeFlag =False\n",
    "            break\n",
    "    return isPrimeFlag"
   ]
  },
  {
   "cell_type": "code",
   "execution_count": null,
   "metadata": {},
   "outputs": [],
   "source": []
  },
  {
   "cell_type": "code",
   "execution_count": null,
   "metadata": {},
   "outputs": [],
   "source": []
  },
  {
   "cell_type": "code",
   "execution_count": null,
   "metadata": {},
   "outputs": [],
   "source": []
  },
  {
   "cell_type": "code",
   "execution_count": null,
   "metadata": {},
   "outputs": [],
   "source": []
  },
  {
   "cell_type": "code",
   "execution_count": null,
   "metadata": {},
   "outputs": [],
   "source": []
  },
  {
   "cell_type": "code",
   "execution_count": null,
   "metadata": {},
   "outputs": [],
   "source": []
  },
  {
   "cell_type": "code",
   "execution_count": 15,
   "metadata": {},
   "outputs": [
    {
     "data": {
      "text/plain": [
       "False"
      ]
     },
     "execution_count": 15,
     "metadata": {},
     "output_type": "execute_result"
    }
   ],
   "source": [
    "isPrime(46)"
   ]
  },
  {
   "cell_type": "code",
   "execution_count": null,
   "metadata": {},
   "outputs": [],
   "source": [
    "def isPrime(num):\n",
    "    isPrimeFlag = True\n",
    "    i = 2\n",
    "    while i < num "
   ]
  },
  {
   "cell_type": "code",
   "execution_count": null,
   "metadata": {},
   "outputs": [],
   "source": []
  },
  {
   "cell_type": "code",
   "execution_count": null,
   "metadata": {},
   "outputs": [],
   "source": []
  },
  {
   "cell_type": "code",
   "execution_count": null,
   "metadata": {},
   "outputs": [],
   "source": []
  }
 ],
 "metadata": {
  "kernelspec": {
   "display_name": "Python 3",
   "language": "python",
   "name": "python3"
  },
  "language_info": {
   "codemirror_mode": {
    "name": "ipython",
    "version": 3
   },
   "file_extension": ".py",
   "mimetype": "text/x-python",
   "name": "python",
   "nbconvert_exporter": "python",
   "pygments_lexer": "ipython3",
   "version": "3.7.3"
  }
 },
 "nbformat": 4,
 "nbformat_minor": 2
}
