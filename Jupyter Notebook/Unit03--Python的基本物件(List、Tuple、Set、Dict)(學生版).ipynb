{
 "cells": [
  {
   "cell_type": "markdown",
   "metadata": {},
   "source": [
    "【臺北大學】Python程式設計<br>\n",
    "【授課老師】[陳祥輝 (Email : HsiangHui.Chen@gmail.com)](mailto:HsiangHui.Chen@gmail.com)<br>\n",
    "【facebook】[陳祥輝老師的臉書 (歡迎加好友)](https://goo.gl/osivhx)<br>\n",
    "【參考書籍】[從零開始學Python程式設計（適用Python 3.5以上）](http://www.drmaster.com.tw/Bookinfo.asp?BookID=MP31821)<br>\n",
    "【主要議題】Python的基本物件(List/Tuple/Set/Dict/Strings)"
   ]
  },
  {
   "cell_type": "markdown",
   "metadata": {},
   "source": [
    "【重點提要】\n",
    "* List : <font color=#FF0000>[ ]</font>\n",
    "* Tuple : <font color=#FF0000>( )</font>\n",
    "* Set : <font color=#FF0000>{ }</font>\n",
    "* Dict : <font color=#FF0000>{ }</font>\n",
    "* Strings : \n",
    "\n",
    "【參考資料】\n",
    "* [The Python Tutorial -- Data Structures](https://docs.python.org/3/tutorial/datastructures.html)\n",
    "* [tutorialspoint]\n",
    "    * [Python - Lists](https://www.tutorialspoint.com/python/python_lists.htm)\n",
    "    * [Python - Tuples](https://www.tutorialspoint.com/python/python_tuples.htm)\n",
    "    * [Python - Dictionary](https://www.tutorialspoint.com/python/python_dictionary.htm)\n",
    "    * [Python - Strings](https://www.tutorialspoint.com/python/python_strings.htm)\n",
    "* [Basic formatting of String](https://pyformat.info/)    "
   ]
  },
  {
   "cell_type": "markdown",
   "metadata": {},
   "source": [
    "### <font color=#0000FF>List [ ]</font>\n",
    "<font color=#0000FF>[The <u>list</u> data type has some more methods. Here are all of the methods of <u>list</u> objects:](https://docs.python.org/3/tutorial/datastructures.html)</font>\n",
    "* **list.append(x)**\n",
    "    * Add an item to the end of the list. \n",
    "    * Equivalent to <font color=#FF0000>a[len(a):] = [x]</font>.\n",
    "\n",
    "* **list.extend(iterable)**\n",
    "    * Extend the list by appending all the items from the iterable. \n",
    "    * Equivalent to <font color=#F0000>a[len(a):] = iterable</font>.\n",
    "\n",
    "* **list.insert(i, x)**\n",
    "    * Insert an item at a given position. \n",
    "    * The first argument is the index of the element before which to insert, so a.insert(0, x) inserts at the front of the list, and a.insert(len(a), x) is equivalent to a.append(x).\n",
    "\n",
    "* **list.remove(x)**\n",
    "    * Remove the ***first item*** from the list whose value is x. It is an error if there is no such item.\n",
    "\n",
    "* **list.pop([i])**\n",
    "    * Remove the item at the given position in the list, and return it. If no index is specified, a.pop() removes and returns the last item in the list. (The square brackets around the i in the method signature denote that the parameter is optional, not that you should type square brackets at that position.\n",
    "\n",
    "* **list.clear()**\n",
    "    * Remove all items from the list. Equivalent to <font color=#F0000>del a[:]</font>.\n",
    "\n",
    "* **list.index(x[, start[, end]])**\n",
    "    * Return zero-based index in the list of the first item whose value is x. Raises a ValueError if there is no such item.\n",
    "    * The optional arguments start and end are interpreted as in the slice notation and are used to limit the search to a particular subsequence of the list. The returned index is computed relative to the beginning of the full sequence rather than the start argument.\n",
    "\n",
    "* **list.count(x)**\n",
    "    * Return the number of times x appears in the list.\n",
    "\n",
    "* **list.sort(key=None, reverse=False)**\n",
    "    * Sort the items of the list <font color=#F0000>in place</font> (the arguments can be used for sort customization, see sorted() for their explanation).\n",
    "\n",
    "* **list.reverse()**\n",
    "    * Reverse the elements of the list <font color=#F0000>in place</font>.\n",
    "\n",
    "* **list.copy()**\n",
    "    * Return a shallow copy of the list. \n",
    "    * Equivalent to <font color=#F0000>a[:]</font>."
   ]
  },
  {
   "cell_type": "code",
   "execution_count": 2,
   "metadata": {},
   "outputs": [],
   "source": [
    "# -*- coding: utf-8 -*-\n",
    "import os, time, socket\n",
    "\n",
    "print(\"【日期時間】{}\".format(time.strftime(\"%Y/%m/%d %H:%M:%S\")))\n",
    "print(\"【工作目錄】{}\".format(os.getcwd()))\n",
    "print(\"【主機名稱】{} ({})\".format(socket.gethostname(),socket.gethostbyname(socket.gethostname())))"
   ]
  },
  {
   "cell_type": "markdown",
   "metadata": {},
   "source": [
    "<font color=#0000FF>list的基本認識</font>"
   ]
  },
  {
   "cell_type": "code",
   "execution_count": null,
   "metadata": {
    "collapsed": true
   },
   "outputs": [],
   "source": []
  },
  {
   "cell_type": "code",
   "execution_count": null,
   "metadata": {
    "collapsed": true
   },
   "outputs": [],
   "source": []
  },
  {
   "cell_type": "code",
   "execution_count": null,
   "metadata": {
    "collapsed": true
   },
   "outputs": [],
   "source": []
  },
  {
   "cell_type": "markdown",
   "metadata": {},
   "source": [
    "###### <font color=#0000FF>del statement</font>"
   ]
  },
  {
   "cell_type": "code",
   "execution_count": null,
   "metadata": {
    "collapsed": true
   },
   "outputs": [],
   "source": []
  },
  {
   "cell_type": "code",
   "execution_count": null,
   "metadata": {
    "collapsed": true
   },
   "outputs": [],
   "source": []
  },
  {
   "cell_type": "code",
   "execution_count": null,
   "metadata": {
    "collapsed": true
   },
   "outputs": [],
   "source": []
  },
  {
   "cell_type": "markdown",
   "metadata": {
    "collapsed": true
   },
   "source": [
    "### <font color=#FF0000>slice of list(切片)</font>\n",
    "<pre>\n",
    "* a[start:end]      : items start through end-1\n",
    "* a[start:]         : items start through the rest of the array\n",
    "* a[:end]           : items from the beginning through end-1\n",
    "* a[:]              : a copy of the whole array\n",
    "* a[start:end:step] : start through not past end, by step\n",
    "</pre>"
   ]
  },
  {
   "cell_type": "code",
   "execution_count": null,
   "metadata": {
    "collapsed": true
   },
   "outputs": [],
   "source": []
  },
  {
   "cell_type": "markdown",
   "metadata": {},
   "source": [
    "### <font color=#0000FF>Tuple : ( )</font>\n",
    "* Tuples are ***immutable(不可變)***, and usually contain a ***heterogeneous(異質)*** sequence of elements that are accessed via unpacking (see later in this section) or indexing (or even by attribute in the case of namedtuples). \n",
    "* Lists are ***mutable(可變)***, and their elements are usually ***homogeneous(同質)*** and are accessed by iterating over the list."
   ]
  },
  {
   "cell_type": "code",
   "execution_count": null,
   "metadata": {
    "collapsed": true
   },
   "outputs": [],
   "source": []
  },
  {
   "cell_type": "markdown",
   "metadata": {},
   "source": [
    "### <font color=#0000FF>Set : { }</font>\n",
    "* A set is an unordered collection with <u>no duplicate elements</u>. \n",
    "* Basic uses include membership testing and eliminating duplicate entries. \n",
    "* Set objects also support mathematical operations like \n",
    "    * union\n",
    "    * intersection\n",
    "    * difference\n",
    "    * symmetric difference."
   ]
  },
  {
   "cell_type": "code",
   "execution_count": null,
   "metadata": {
    "collapsed": true
   },
   "outputs": [],
   "source": []
  },
  {
   "cell_type": "markdown",
   "metadata": {},
   "source": [
    "### <font color=#0000FF>Dict : { }</font>\n",
    "\n",
    "* len(d)\n",
    "    * Return the number of items in the dictionary d.\n",
    "* d[key]\n",
    "    * Return the item of d with key key. Raises a KeyError if key is not in the map.\n",
    "* d[key] = value\n",
    "    * Set (or update) d[key] to value.\n",
    "* del d[key]\n",
    "    * Remove d[key] from d. Raises a KeyError if key is not in the map.\n",
    "* key in d\n",
    "    * Return True if d has a key key, else False.\n",
    "* key not in d\n",
    "    * Equivalent to not key in d.\n",
    "* iter(d)\n",
    "    * Return an iterator over the keys of the dictionary. This is a shortcut for iter(d.keys()).\n",
    "* clear()\n",
    "    * Remove all items from the dictionary.\n",
    "* copy()\n",
    "    * Return a shallow copy of the dictionary.\n",
    "* fromkeys() \n",
    "    * is a class method that returns a new dictionary. value defaults to None.\n",
    "    * classmethod fromkeys(seq[, value])\n",
    "    * Create a new dictionary with keys from seq and values set to value.\n",
    "* get(key[, default])\n",
    "    * Return the value for key if key is in the dictionary, else default. \n",
    "    * If default is not given, it defaults to None, so that this method never raises a KeyError.\n",
    "* items()\n",
    "    * Return a new view of the dictionary’s items ((key, value) pairs).\n",
    "* keys()\n",
    "    * Return a new view of the dictionary’s keys. See the documentation of view objects.\n",
    "* pop(key[, default])\n",
    "    * If key is in the dictionary, remove it and return its value, else return default. \n",
    "    * If default is not given and key is not in the dictionary, a KeyError is raised.\n",
    "* popitem()\n",
    "    * Remove and return an arbitrary (key, value) pair from the dictionary.\n",
    "    * popitem() is useful to destructively iterate over a dictionary, as often used in set algorithms. \n",
    "    * If the dictionary is empty, calling popitem() raises a KeyError.\n",
    "* setdefault(key[, default])\n",
    "    * If key is in the dictionary, return its value. If not, insert key with a value of default and return default. \n",
    "    * default defaults to None.\n",
    "* update([other])\n",
    "    * Update the dictionary with the key/value pairs from other, overwriting existing keys. Return None.\n",
    "    * update() accepts either another dictionary object or an iterable of key/value pairs (as tuples or other iterables of length two). \n",
    "    * If keyword arguments are specified, the dictionary is then updated with those key/value pairs: d.update(red=1, blue=2).\n",
    "* values()\n",
    "    * Return a new view of the dictionary’s values."
   ]
  },
  {
   "cell_type": "code",
   "execution_count": null,
   "metadata": {
    "collapsed": true
   },
   "outputs": [],
   "source": []
  },
  {
   "cell_type": "code",
   "execution_count": null,
   "metadata": {
    "collapsed": true
   },
   "outputs": [],
   "source": []
  },
  {
   "cell_type": "code",
   "execution_count": null,
   "metadata": {
    "collapsed": true
   },
   "outputs": [],
   "source": []
  },
  {
   "cell_type": "markdown",
   "metadata": {},
   "source": [
    "### <font color=#0000FF>Strings</font>"
   ]
  },
  {
   "cell_type": "markdown",
   "metadata": {},
   "source": [
    "<font color=#0000FF>【字串格式format】</font>\n",
    "* Old : '%s %s' % ('one', 'two')\n",
    "* New : '{ } { }'.format('one', 'two')\n",
    "* Output : one two\n",
    "\n",
    "【數值】\n",
    "* Old : '%d %d' % (1, 2)\n",
    "* New :'{1} {0}'.format(2, 1)\n",
    "* Output : 1 2"
   ]
  },
  {
   "cell_type": "code",
   "execution_count": null,
   "metadata": {
    "collapsed": true
   },
   "outputs": [],
   "source": []
  },
  {
   "cell_type": "markdown",
   "metadata": {},
   "source": [
    "<font color=#0000FF>\n",
    "【字串函數】\n",
    "</font>"
   ]
  },
  {
   "cell_type": "markdown",
   "metadata": {
    "collapsed": true
   },
   "source": [
    "<font color=#0000FF>【練習題】請寫一個函數int findSubStr(sentence,sub)，可以輸入一個字串與子字串，回應出該子字串出現過幾次</font>"
   ]
  },
  {
   "cell_type": "code",
   "execution_count": null,
   "metadata": {},
   "outputs": [],
   "source": []
  },
  {
   "cell_type": "code",
   "execution_count": null,
   "metadata": {},
   "outputs": [],
   "source": []
  }
 ],
 "metadata": {
  "kernelspec": {
   "display_name": "Python 3",
   "language": "python",
   "name": "python3"
  },
  "language_info": {
   "codemirror_mode": {
    "name": "ipython",
    "version": 3
   },
   "file_extension": ".py",
   "mimetype": "text/x-python",
   "name": "python",
   "nbconvert_exporter": "python",
   "pygments_lexer": "ipython3",
   "version": "3.7.1"
  }
 },
 "nbformat": 4,
 "nbformat_minor": 2
}
