{
 "cells": [
  {
   "cell_type": "markdown",
   "metadata": {},
   "source": [
    "【臺北大學】Python程式設計<br>\n",
    "【授課老師】[陳祥輝 (Email : HsiangHui.Chen@gmail.com)](mailto:HsiangHui.Chen@gmail.com)<br>\n",
    "【facebook】[陳祥輝老師的臉書 (歡迎加好友)](https://goo.gl/osivhx)<br>\n",
    "【參考書籍】[從零開始學Python程式設計（適用Python 3.5以上）](http://www.drmaster.com.tw/Bookinfo.asp?BookID=MP31821)<br>\n",
    "【主要議題】讀、寫檔案與匯入、匯出資料檔案"
   ]
  },
  {
   "cell_type": "markdown",
   "metadata": {},
   "source": [
    "【重點提要】\n",
    "1. os module\n",
    "2. glob module\n",
    "3. 基本的純文字檔open/read/write/close\n",
    "4. 序列檔案的讀、寫 pickle\n",
    "5. 匯入/匯出 csv 檔案格式\n",
    "    * 使用 pandas module，讀入 DataFrame\n",
    "6. 匯入/匯出 excel 檔案格式 (使用 pandas & csv module)"
   ]
  },
  {
   "cell_type": "markdown",
   "metadata": {},
   "source": [
    "### <font color=#0000FF>ODBC的下載與安裝</font>\n",
    "* [下載 ODBC Driver for SQL Server](https://docs.microsoft.com/zh-tw/sql/connect/odbc/download-odbc-driver-for-sql-server?view=sql-server-2017)\n",
    "* [Microsoft® ODBC Driver 17 for SQL Server® - Windows, Linux, & macOS](https://www.microsoft.com/en-us/download/details.aspx?id=56567)\n",
    "\n",
    "### <font color=#0000FF>安裝pymssql</font>\n",
    "* pip install pymssql"
   ]
  },
  {
   "cell_type": "code",
   "execution_count": 77,
   "metadata": {},
   "outputs": [
    {
     "name": "stdout",
     "output_type": "stream",
     "text": [
      "【日期時間】2019/04/02 17:18:25\n",
      "【工作目錄】C:\\data\n",
      "【主機名稱】B1F06-Teacher (10.137.30.96)\n"
     ]
    }
   ],
   "source": [
    "# -*- coding: utf-8 -*-\n",
    "import os, time, glob, pickle, socket\n",
    "import pandas as pd\n",
    "\n",
    "print(\"【日期時間】{}\".format(time.strftime(\"%Y/%m/%d %H:%M:%S\")))\n",
    "print(\"【工作目錄】{}\".format(os.getcwd()))\n",
    "print(\"【主機名稱】{} ({})\".format(socket.gethostname(),socket.gethostbyname(socket.gethostname())))"
   ]
  },
  {
   "cell_type": "code",
   "execution_count": 2,
   "metadata": {},
   "outputs": [
    {
     "name": "stdout",
     "output_type": "stream",
     "text": [
      "+0800 Tue Tuesday Mar March Tue Mar 26 17:13:55 2019 05 PM\n"
     ]
    }
   ],
   "source": [
    "print(time.strftime('%z %a %A %b %B %c %I %p'))"
   ]
  },
  {
   "cell_type": "markdown",
   "metadata": {},
   "source": [
    "#### time.strftime()\n",
    "* %Y : Year with century as a decimal number.\n",
    "* %m : Month as a decimal number [01,12].\n",
    "* %d : Day of the month as a decimal number [01,31].\n",
    "* %H : Hour (24-hour clock) as a decimal number [00,23].\n",
    "* %M : Minute as a decimal number [00,59].\n",
    "* %S : Second as a decimal number [00,61].\n",
    "---\n",
    "* %z : Time zone offset from UTC.\n",
    "* %a : Locale's abbreviated weekday name.\n",
    "* %A : Locale's full weekday name.\n",
    "* %b : Locale's abbreviated month name.\n",
    "* %B : Locale's full month name.\n",
    "* %c : Locale's appropriate date and time representation.\n",
    "* %I : Hour (12-hour clock) as a decimal number [01,12].\n",
    "* %p : Locale's equivalent of either AM or PM."
   ]
  },
  {
   "cell_type": "markdown",
   "metadata": {},
   "source": [
    "### <font color=#0000FF>os 模組</font>\n",
    "* os.getcwd()\n",
    "* os.chdir(path)\n",
    "* os.path.exists(path)\n",
    "* os.mkdir(path)\n",
    "* os.makedirs(name)\n",
    "* os.remove(path)\n",
    "* os.removedirs()"
   ]
  },
  {
   "cell_type": "code",
   "execution_count": 5,
   "metadata": {},
   "outputs": [],
   "source": [
    "import os"
   ]
  },
  {
   "cell_type": "code",
   "execution_count": 6,
   "metadata": {},
   "outputs": [
    {
     "data": {
      "text/plain": [
       "'F:\\\\1072臺北大學統計系Python\\\\1072臺北大學統計系Python上課資料'"
      ]
     },
     "execution_count": 6,
     "metadata": {},
     "output_type": "execute_result"
    }
   ],
   "source": [
    "os.getcwd()"
   ]
  },
  {
   "cell_type": "code",
   "execution_count": 7,
   "metadata": {},
   "outputs": [],
   "source": [
    "os.chdir(\"C:\\\\Data\")"
   ]
  },
  {
   "cell_type": "code",
   "execution_count": 8,
   "metadata": {},
   "outputs": [],
   "source": [
    "os.chdir(\"C:/Data\")"
   ]
  },
  {
   "cell_type": "code",
   "execution_count": 10,
   "metadata": {},
   "outputs": [],
   "source": [
    "os.chdir(r\"C:\\Data\")  # r : raw string , b : byte , u : unicode\n",
    "# raw string : 代表後面的字串中每一個都是一般字元，沒有特殊字元，像 \\ 就是特殊字元，跳脫字元(escape character)"
   ]
  },
  {
   "cell_type": "markdown",
   "metadata": {
    "collapsed": true
   },
   "source": [
    "### <font color=#0000FF>glob 模組 — Unix style pathname pattern expansion</font>\n",
    "* glob.glob(pathname, *, recursive=False)\n",
    "    * If recursive is true, the pattern '**' will match any files and zero or more directories and subdirectories."
   ]
  },
  {
   "cell_type": "code",
   "execution_count": 11,
   "metadata": {},
   "outputs": [],
   "source": [
    "import glob"
   ]
  },
  {
   "cell_type": "code",
   "execution_count": 15,
   "metadata": {},
   "outputs": [
    {
     "name": "stdout",
     "output_type": "stream",
     "text": [
      "28736\n"
     ]
    },
    {
     "data": {
      "text/plain": [
       "['C:\\\\data\\\\fruits-360\\\\Training\\\\Apple Braeburn\\\\109_100.jpg',\n",
       " 'C:\\\\data\\\\fruits-360\\\\Training\\\\Apple Braeburn\\\\10_100.jpg',\n",
       " 'C:\\\\data\\\\fruits-360\\\\Training\\\\Apple Braeburn\\\\110_100.jpg',\n",
       " 'C:\\\\data\\\\fruits-360\\\\Training\\\\Apple Braeburn\\\\111_100.jpg',\n",
       " 'C:\\\\data\\\\fruits-360\\\\Training\\\\Apple Braeburn\\\\112_100.jpg',\n",
       " 'C:\\\\data\\\\fruits-360\\\\Training\\\\Apple Braeburn\\\\113_100.jpg',\n",
       " 'C:\\\\data\\\\fruits-360\\\\Training\\\\Apple Braeburn\\\\114_100.jpg',\n",
       " 'C:\\\\data\\\\fruits-360\\\\Training\\\\Apple Braeburn\\\\115_100.jpg',\n",
       " 'C:\\\\data\\\\fruits-360\\\\Training\\\\Apple Braeburn\\\\116_100.jpg',\n",
       " 'C:\\\\data\\\\fruits-360\\\\Training\\\\Apple Braeburn\\\\117_100.jpg',\n",
       " 'C:\\\\data\\\\fruits-360\\\\Training\\\\Apple Braeburn\\\\118_100.jpg']"
      ]
     },
     "execution_count": 15,
     "metadata": {},
     "output_type": "execute_result"
    }
   ],
   "source": [
    "path = r\"C:\\data\\fruits-360\\Training\"\n",
    "files = glob.glob(path + r\"\\**\\*.jpg\", recursive=True)\n",
    "#pattern : regular expression (正規表示式 or 正則表示式)\n",
    "print(len(files))\n",
    "files[10:21]"
   ]
  },
  {
   "cell_type": "markdown",
   "metadata": {},
   "source": [
    "### <font color=#0000FF>基本的純文字檔open/read/write/close</font>\n",
    "\n",
    "檔案的模式(mode) :\n",
    "\n",
    "- r : read only (唯獨)\n",
    "- w : write (寫入)\n",
    "- a : append (附加資料)\n",
    "\n",
    "---\n",
    "\n",
    "- t : text mode (文字模式)\n",
    "- b : binary mode (二進位模式)"
   ]
  },
  {
   "cell_type": "code",
   "execution_count": 3,
   "metadata": {},
   "outputs": [],
   "source": [
    "os.chdir(r\"C:\\data\")"
   ]
  },
  {
   "cell_type": "code",
   "execution_count": 7,
   "metadata": {},
   "outputs": [],
   "source": [
    "outf = open(file=\"test.txt\", mode=\"wt\")  # mode : w 會開新檔，會將存在的檔案清空\n",
    "outf.write(\"Hello Python 01\\n\")\n",
    "outf.write(\"Hello Python 02\\n\")\n",
    "outf.write(\"Hello Python 03\\n\")\n",
    "outf.flush()                             # 強制將 buffer (緩衝區) 內的資料寫入硬碟\n",
    "outf.close()"
   ]
  },
  {
   "cell_type": "code",
   "execution_count": 8,
   "metadata": {},
   "outputs": [],
   "source": [
    "outf = open(file=\"test.txt\", mode=\"at\")  # mode : a 會不斷附加資料到檔案的最後面\n",
    "outf.write(\"Hello Python 101\\n\")\n",
    "outf.write(\"Hello Python 102\\n\")\n",
    "outf.write(\"Hello Python 103\\n\")\n",
    "outf.flush()                             # 強制將 buffer (緩衝區) 內的資料寫入硬碟\n",
    "outf.close()"
   ]
  },
  {
   "cell_type": "markdown",
   "metadata": {},
   "source": [
    "#### <font color=#0000FF>整篇文章逐行讀入</font>"
   ]
  },
  {
   "cell_type": "code",
   "execution_count": 12,
   "metadata": {},
   "outputs": [
    {
     "name": "stdout",
     "output_type": "stream",
     "text": [
      "Hello Python 01\n",
      "Hello Python 02\n",
      "Hello Python 03\n",
      "Hello Python 101\n",
      "Hello Python 102\n",
      "Hello Python 103\n"
     ]
    }
   ],
   "source": [
    "inpf = open(file=\"test.txt\", mode=\"rt\")\n",
    "\n",
    "msg = inpf.readline()\n",
    "while msg != \"\" :\n",
    "    print(msg, end=\"\")\n",
    "    msg = inpf.readline()\n",
    "    \n",
    "inpf.close()"
   ]
  },
  {
   "cell_type": "markdown",
   "metadata": {},
   "source": [
    "#### <font color=#0000FF>整篇文章讀進來成為一個 str</font>"
   ]
  },
  {
   "cell_type": "code",
   "execution_count": 16,
   "metadata": {},
   "outputs": [
    {
     "name": "stdout",
     "output_type": "stream",
     "text": [
      "Hello Python 01\n",
      "Hello Python 02\n",
      "Hello Python 03\n",
      "Hello Python 101\n",
      "Hello Python 102\n",
      "Hello Python 103\n",
      "\n",
      "<class 'str'>\n"
     ]
    }
   ],
   "source": [
    "inpf = open(file=\"test.txt\", mode=\"rt\")\n",
    "\n",
    "msg = inpf.read()\n",
    "print(msg)\n",
    "print(type(msg))\n",
    "\n",
    "inpf.close()"
   ]
  },
  {
   "cell_type": "markdown",
   "metadata": {},
   "source": [
    "#### <font color=#0000FF>一次將多行讀入，每一行成為一個list內的元素</font>"
   ]
  },
  {
   "cell_type": "code",
   "execution_count": 38,
   "metadata": {},
   "outputs": [
    {
     "name": "stdout",
     "output_type": "stream",
     "text": [
      "['Hello Python 01\\n', 'Hello Python 02\\n', 'Hello Python 03\\n', 'Hello Python 101\\n', 'Hello Python 102\\n', 'Hello Python 103\\n']\n",
      "<class 'list'>\n"
     ]
    }
   ],
   "source": [
    "inpf = open(file=\"test.txt\", mode=\"rt\")\n",
    "\n",
    "msg = inpf.readlines()\n",
    "print(msg)\n",
    "print(type(msg))\n",
    "\n",
    "inpf.close()"
   ]
  },
  {
   "cell_type": "markdown",
   "metadata": {},
   "source": [
    "#### <font color=#0000FF>使用 with 來開啟檔案，離開 with 區塊自動會關閉檔案</font>"
   ]
  },
  {
   "cell_type": "code",
   "execution_count": 3,
   "metadata": {},
   "outputs": [
    {
     "data": {
      "text/plain": [
       "'C:\\\\data'"
      ]
     },
     "execution_count": 3,
     "metadata": {},
     "output_type": "execute_result"
    }
   ],
   "source": [
    "os.chdir(r'C:\\data')\n",
    "os.getcwd()"
   ]
  },
  {
   "cell_type": "code",
   "execution_count": null,
   "metadata": {},
   "outputs": [],
   "source": [
    "outf = open(file=\"test.txt\", mode=\"wt\")  # mode : w 會開新檔，會將存在的檔案清空\n",
    "outf.write(\"Hello Python 01\\n\")\n",
    "outf.write(\"Hello Python 02\\n\")\n",
    "outf.write(\"Hello Python 03\\n\")\n",
    "outf.flush()                             # 強制將 buffer (緩衝區) 內的資料寫入硬碟\n",
    "outf.close()"
   ]
  },
  {
   "cell_type": "code",
   "execution_count": 4,
   "metadata": {},
   "outputs": [],
   "source": [
    "with open(file=\"test.txt\", mode=\"wt\") as outf :\n",
    "    outf.write(\"Hello Python 01\\n\")\n",
    "    outf.write(\"Hello Python 02\\n\")\n",
    "    outf.write(\"Hello Python 03\\n\")"
   ]
  },
  {
   "cell_type": "code",
   "execution_count": 10,
   "metadata": {},
   "outputs": [
    {
     "name": "stdout",
     "output_type": "stream",
     "text": [
      "Hello Python 01\n",
      "Hello Python 02\n",
      "Hello Python 03\n",
      "\n"
     ]
    }
   ],
   "source": [
    "with open(file=\"test.txt\", mode=\"rt\") as intf :\n",
    "    msg = intf.read()\n",
    "    print(msg)"
   ]
  },
  {
   "cell_type": "markdown",
   "metadata": {},
   "source": [
    "### <font color=#0000FF>序列檔案(二進位檔案)的讀、寫 pickle</font>"
   ]
  },
  {
   "cell_type": "code",
   "execution_count": 13,
   "metadata": {},
   "outputs": [
    {
     "name": "stdout",
     "output_type": "stream",
     "text": [
      "[[3, 6, 9, 12, 15, 18, 21, 24, 27, 30, 33, 36, 39, 42, 45, 48, 51, 54, 57, 60, 63, 66, 69, 72, 75, 78, 81, 84, 87, 90, 93, 96, 99], [5, 10, 15, 20, 25, 30, 35, 40, 45, 50, 55, 60, 65, 70, 75, 80, 85, 90, 95, 100], [9, 18, 27, 36, 45, 54, 63, 72, 81, 90, 99], [11, 22, 33, 44, 55, 66, 77, 88, 99]]\n"
     ]
    }
   ],
   "source": [
    "factors = [3,5,9,11]\n",
    "n = len(factors)\n",
    "lst = [[] for _ in range(n)]\n",
    "for i in range(n):\n",
    "    lst[i] = [j for j in range(1,101) if j%factors[i]==0]\n",
    "print(lst)    "
   ]
  },
  {
   "cell_type": "markdown",
   "metadata": {},
   "source": [
    "以下的cell純欣賞，切勿模仿"
   ]
  },
  {
   "cell_type": "code",
   "execution_count": 14,
   "metadata": {},
   "outputs": [
    {
     "name": "stdout",
     "output_type": "stream",
     "text": [
      "[[3, 6, 9, 12, 15, 18, 21, 24, 27, 30, 33, 36, 39, 42, 45, 48, 51, 54, 57, 60, 63, 66, 69, 72, 75, 78, 81, 84, 87, 90, 93, 96, 99], [5, 10, 15, 20, 25, 30, 35, 40, 45, 50, 55, 60, 65, 70, 75, 80, 85, 90, 95, 100], [9, 18, 27, 36, 45, 54, 63, 72, 81, 90, 99], [11, 22, 33, 44, 55, 66, 77, 88, 99]]\n"
     ]
    }
   ],
   "source": [
    "factors = [3,5,9,11]\n",
    "n = len(factors)\n",
    "# lst = [[] for _ in range(n)]\n",
    "# for i in range(n):\n",
    "#     lst[i] = [j for j in range(1,101) if j%factors[i]==0]\n",
    "lst = [[j for j in range(1,101) if j%factors[i]==0] for i in range(n)]    \n",
    "print(lst)  "
   ]
  },
  {
   "cell_type": "code",
   "execution_count": 16,
   "metadata": {},
   "outputs": [],
   "source": [
    "with open(file=\"myList.lst\",mode=\"wb\") as outf:\n",
    "    pickle.dump(lst, outf)        #dump() 寫出去"
   ]
  },
  {
   "cell_type": "code",
   "execution_count": 18,
   "metadata": {},
   "outputs": [],
   "source": [
    "del lst"
   ]
  },
  {
   "cell_type": "code",
   "execution_count": 21,
   "metadata": {},
   "outputs": [],
   "source": [
    "with open(file=\"myList.lst\",mode=\"rb\") as inpf :\n",
    "    lst2 = pickle.load(file=inpf) #load() 載入"
   ]
  },
  {
   "cell_type": "code",
   "execution_count": 22,
   "metadata": {
    "scrolled": true
   },
   "outputs": [
    {
     "name": "stdout",
     "output_type": "stream",
     "text": [
      "[[3, 6, 9, 12, 15, 18, 21, 24, 27, 30, 33, 36, 39, 42, 45, 48, 51, 54, 57, 60, 63, 66, 69, 72, 75, 78, 81, 84, 87, 90, 93, 96, 99], [5, 10, 15, 20, 25, 30, 35, 40, 45, 50, 55, 60, 65, 70, 75, 80, 85, 90, 95, 100], [9, 18, 27, 36, 45, 54, 63, 72, 81, 90, 99], [11, 22, 33, 44, 55, 66, 77, 88, 99]]\n"
     ]
    }
   ],
   "source": [
    "print(lst2)"
   ]
  },
  {
   "cell_type": "markdown",
   "metadata": {},
   "source": [
    "### <font color=#0000FF>讀入一篇中文新聞，並計算每一個字出現的次數</font>\n",
    "- 請先至上課資料內下載以下檔案，放置於C:\\Data\n",
    "    - 中文新聞.txt\n",
    "    - 英文新聞.txt"
   ]
  },
  {
   "cell_type": "markdown",
   "metadata": {},
   "source": [
    "#### <font color=#0000FF>1. 載入檔案</font>"
   ]
  },
  {
   "cell_type": "code",
   "execution_count": 24,
   "metadata": {
    "scrolled": true
   },
   "outputs": [
    {
     "name": "stdout",
     "output_type": "stream",
     "text": [
      "中央氣象局預報員張承傳今天指出，南方雲系北移，\n",
      "今天南部和東南部持續有雨；關島附近有一熱帶性低氣壓，最快下周一\n",
      "（16日）發展成今年第9號颱風山神（Son Tinh）。\n",
      "張承傳說，今天南方雲系北移影響，暖濕的東南風配合地形抬升，東南部地\n",
      "區及恆春半島整天不定時有陣雨，並有局部大雨發生的機率；東部、東北部地區及南\n",
      "部山區也有局部短暫陣雨，午後因熱對流西半部地區有局部短暫雷陣雨，北部平地天氣大致晴朗穩定。\n",
      "氣溫方面，白天西半部高溫約攝氏34至35度，較為悶熱，尤其桃園、大台北與高屏\n",
      "地區有機會出現36度，而雲量多、易下雨的東部及東南部高溫約32至33度。\n",
      "他補充，位在關島附近有一個熱帶性低氣壓，最快16日發展為今年第9\n",
      "號颱風山神，至於對台灣影響還要持續觀察。\n",
      "中央大學大氣科學系兼任副教授吳德榮今天在「三立準氣象．老大洩天機」專欄中說，目前關島\n",
      "西北方海面和帛琉群島北方都有熱帶擾動，都在季風低壓環流內蘊釀發展，由於兩者可能相互影響，\n",
      "加上季風低壓環境對熱帶擾動的導引作用及太平洋高壓勢力等因素，因此預報困難度大增，\n",
      "目前無法判斷是否影響台灣。\n"
     ]
    }
   ],
   "source": [
    "with open(file=\"中文新聞.txt\",mode=\"rt\") as inpf :\n",
    "    news = inpf.read()\n",
    "print(news)    "
   ]
  },
  {
   "cell_type": "code",
   "execution_count": null,
   "metadata": {},
   "outputs": [],
   "source": [
    "str.replace()"
   ]
  },
  {
   "cell_type": "code",
   "execution_count": 26,
   "metadata": {},
   "outputs": [
    {
     "name": "stdout",
     "output_type": "stream",
     "text": [
      "中央氣象局預報員張承傳今天指出，南方雲系北移，今天南部和東南部持續有雨；關島附近有一熱帶性低氣壓，最快下周一（16日）發展成今年第9號颱風山神（Son Tinh）。張承傳說，今天南方雲系北移影響，暖濕的東南風配合地形抬升，東南部地區及恆春半島整天不定時有陣雨，並有局部大雨發生的機率；東部、東北部地區及南部山區也有局部短暫陣雨，午後因熱對流西半部地區有局部短暫雷陣雨，北部平地天氣大致晴朗穩定。氣溫方面，白天西半部高溫約攝氏34至35度，較為悶熱，尤其桃園、大台北與高屏地區有機會出現36度，而雲量多、易下雨的東部及東南部高溫約32至33度。他補充，位在關島附近有一個熱帶性低氣壓，最快16日發展為今年第9號颱風山神，至於對台灣影響還要持續觀察。中央大學大氣科學系兼任副教授吳德榮今天在「三立準氣象．老大洩天機」專欄中說，目前關島西北方海面和帛琉群島北方都有熱帶擾動，都在季風低壓環流內蘊釀發展，由於兩者可能相互影響，加上季風低壓環境對熱帶擾動的導引作用及太平洋高壓勢力等因素，因此預報困難度大增，目前無法判斷是否影響台灣。\n"
     ]
    }
   ],
   "source": [
    "with open(file=\"中文新聞.txt\",mode=\"rt\", encoding=\"utf-8\") as inpf :\n",
    "    news = inpf.read()\n",
    "    news = news.replace(\"\\n\",\"\")\n",
    "print(news)   "
   ]
  },
  {
   "cell_type": "markdown",
   "metadata": {},
   "source": [
    "#### <font color=#0000FF>2. 計算每個字的次數</font>"
   ]
  },
  {
   "cell_type": "code",
   "execution_count": 30,
   "metadata": {},
   "outputs": [
    {
     "name": "stdout",
     "output_type": "stream",
     "text": [
      "dict_items([('a', 2), ('b', 1)])\n"
     ]
    }
   ],
   "source": [
    "d = dict()\n",
    "words = ['a','b','a']\n",
    "for w in words :\n",
    "    if d.get(w) == None:\n",
    "        d[w] = 1\n",
    "    else :\n",
    "        d[w] = d.get(w) + 1\n",
    "print(d.items())        "
   ]
  },
  {
   "cell_type": "code",
   "execution_count": 37,
   "metadata": {},
   "outputs": [
    {
     "name": "stdout",
     "output_type": "stream",
     "text": [
      "dict_items([('中', 3), ('央', 2), ('氣', 7), ('象', 2), ('局', 4), ('預', 2), ('報', 2), ('員', 1), ('張', 2), ('承', 2), ('傳', 2), ('今', 6), ('天', 8), ('指', 1), ('出', 2), ('，', 22), ('南', 8), ('方', 5), ('雲', 3), ('系', 3), ('北', 7), ('移', 2), ('部', 14), ('和', 2), ('東', 7), ('持', 2), ('續', 2), ('有', 9), ('雨', 6), ('；', 2), ('關', 3), ('島', 5), ('附', 2), ('近', 2), ('一', 3), ('熱', 6), ('帶', 4), ('性', 2), ('低', 4), ('壓', 5), ('最', 2), ('快', 2), ('下', 2), ('周', 1), ('（', 2), ('1', 2), ('6', 3), ('日', 2), ('）', 2), ('發', 4), ('展', 3), ('成', 1), ('年', 2), ('第', 2), ('9', 2), ('號', 2), ('颱', 2), ('風', 5), ('山', 3), ('神', 2), ('S', 1), ('o', 1), ('n', 2), (' ', 1), ('T', 1), ('i', 1), ('h', 1), ('。', 5), ('說', 2), ('影', 4), ('響', 4), ('暖', 1), ('濕', 1), ('的', 4), ('配', 1), ('合', 1), ('地', 6), ('形', 1), ('抬', 1), ('升', 1), ('區', 5), ('及', 4), ('恆', 1), ('春', 1), ('半', 3), ('整', 1), ('不', 1), ('定', 2), ('時', 1), ('陣', 3), ('並', 1), ('大', 7), ('生', 1), ('機', 3), ('率', 1), ('、', 3), ('也', 1), ('短', 2), ('暫', 2), ('午', 1), ('後', 1), ('因', 3), ('對', 3), ('流', 2), ('西', 3), ('雷', 1), ('平', 2), ('致', 1), ('晴', 1), ('朗', 1), ('穩', 1), ('溫', 3), ('面', 2), ('白', 1), ('高', 4), ('約', 2), ('攝', 1), ('氏', 1), ('3', 6), ('4', 1), ('至', 3), ('5', 1), ('度', 4), ('較', 1), ('為', 2), ('悶', 1), ('尤', 1), ('其', 1), ('桃', 1), ('園', 1), ('台', 3), ('與', 1), ('屏', 1), ('會', 1), ('現', 1), ('而', 1), ('量', 1), ('多', 1), ('易', 1), ('2', 1), ('他', 1), ('補', 1), ('充', 1), ('位', 1), ('在', 3), ('個', 1), ('於', 2), ('灣', 2), ('還', 1), ('要', 1), ('觀', 1), ('察', 1), ('學', 2), ('科', 1), ('兼', 1), ('任', 1), ('副', 1), ('教', 1), ('授', 1), ('吳', 1), ('德', 1), ('榮', 1), ('「', 1), ('三', 1), ('立', 1), ('準', 1), ('．', 1), ('老', 1), ('洩', 1), ('」', 1), ('專', 1), ('欄', 1), ('目', 2), ('前', 2), ('海', 1), ('帛', 1), ('琉', 1), ('群', 1), ('都', 2), ('擾', 2), ('動', 2), ('季', 2), ('環', 2), ('內', 1), ('蘊', 1), ('釀', 1), ('由', 1), ('兩', 1), ('者', 1), ('可', 1), ('能', 1), ('相', 1), ('互', 1), ('加', 1), ('上', 1), ('境', 1), ('導', 1), ('引', 1), ('作', 1), ('用', 1), ('太', 1), ('洋', 1), ('勢', 1), ('力', 1), ('等', 1), ('素', 1), ('此', 1), ('困', 1), ('難', 1), ('增', 1), ('無', 1), ('法', 1), ('判', 1), ('斷', 1), ('是', 1), ('否', 1)])\n"
     ]
    }
   ],
   "source": [
    "d = dict()\n",
    "for w in news:\n",
    "    if d.get(w) == None :\n",
    "        d[w] = 1\n",
    "    else :\n",
    "        d[w] = d.get(w) + 1\n",
    "print(d.items())        "
   ]
  },
  {
   "cell_type": "code",
   "execution_count": 35,
   "metadata": {},
   "outputs": [
    {
     "name": "stdout",
     "output_type": "stream",
     "text": [
      "dict_items([('中', 3), ('央', 2), ('氣', 7), ('象', 2), ('局', 4), ('預', 2), ('報', 2), ('員', 1), ('張', 2), ('承', 2), ('傳', 2), ('今', 6), ('天', 8), ('指', 1), ('出', 2), ('，', 22), ('南', 8), ('方', 5), ('雲', 3), ('系', 3), ('北', 7), ('移', 2), ('部', 14), ('和', 2), ('東', 7), ('持', 2), ('續', 2), ('有', 9), ('雨', 6), ('；', 2), ('關', 3), ('島', 5), ('附', 2), ('近', 2), ('一', 3), ('熱', 6), ('帶', 4), ('性', 2), ('低', 4), ('壓', 5), ('最', 2), ('快', 2), ('下', 2), ('周', 1), ('（', 2), ('1', 2), ('6', 3), ('日', 2), ('）', 2), ('發', 4), ('展', 3), ('成', 1), ('年', 2), ('第', 2), ('9', 2), ('號', 2), ('颱', 2), ('風', 5), ('山', 3), ('神', 2), ('S', 1), ('o', 1), ('n', 2), (' ', 1), ('T', 1), ('i', 1), ('h', 1), ('。', 5), ('說', 2), ('影', 4), ('響', 4), ('暖', 1), ('濕', 1), ('的', 4), ('配', 1), ('合', 1), ('地', 6), ('形', 1), ('抬', 1), ('升', 1), ('區', 5), ('及', 4), ('恆', 1), ('春', 1), ('半', 3), ('整', 1), ('不', 1), ('定', 2), ('時', 1), ('陣', 3), ('並', 1), ('大', 7), ('生', 1), ('機', 3), ('率', 1), ('、', 3), ('也', 1), ('短', 2), ('暫', 2), ('午', 1), ('後', 1), ('因', 3), ('對', 3), ('流', 2), ('西', 3), ('雷', 1), ('平', 2), ('致', 1), ('晴', 1), ('朗', 1), ('穩', 1), ('溫', 3), ('面', 2), ('白', 1), ('高', 4), ('約', 2), ('攝', 1), ('氏', 1), ('3', 6), ('4', 1), ('至', 3), ('5', 1), ('度', 4), ('較', 1), ('為', 2), ('悶', 1), ('尤', 1), ('其', 1), ('桃', 1), ('園', 1), ('台', 3), ('與', 1), ('屏', 1), ('會', 1), ('現', 1), ('而', 1), ('量', 1), ('多', 1), ('易', 1), ('2', 1), ('他', 1), ('補', 1), ('充', 1), ('位', 1), ('在', 3), ('個', 1), ('於', 2), ('灣', 2), ('還', 1), ('要', 1), ('觀', 1), ('察', 1), ('學', 2), ('科', 1), ('兼', 1), ('任', 1), ('副', 1), ('教', 1), ('授', 1), ('吳', 1), ('德', 1), ('榮', 1), ('「', 1), ('三', 1), ('立', 1), ('準', 1), ('．', 1), ('老', 1), ('洩', 1), ('」', 1), ('專', 1), ('欄', 1), ('目', 2), ('前', 2), ('海', 1), ('帛', 1), ('琉', 1), ('群', 1), ('都', 2), ('擾', 2), ('動', 2), ('季', 2), ('環', 2), ('內', 1), ('蘊', 1), ('釀', 1), ('由', 1), ('兩', 1), ('者', 1), ('可', 1), ('能', 1), ('相', 1), ('互', 1), ('加', 1), ('上', 1), ('境', 1), ('導', 1), ('引', 1), ('作', 1), ('用', 1), ('太', 1), ('洋', 1), ('勢', 1), ('力', 1), ('等', 1), ('素', 1), ('此', 1), ('困', 1), ('難', 1), ('增', 1), ('無', 1), ('法', 1), ('判', 1), ('斷', 1), ('是', 1), ('否', 1)])\n"
     ]
    }
   ],
   "source": [
    "d = dict()\n",
    "for w in news:\n",
    "    d[w] = 1 if d.get(w) == None else d.get(w) + 1\n",
    "print(d.items())    "
   ]
  },
  {
   "cell_type": "markdown",
   "metadata": {},
   "source": [
    "<font color=#0000FF>去除不要的文字或符號 stop_words</font>"
   ]
  },
  {
   "cell_type": "code",
   "execution_count": 44,
   "metadata": {},
   "outputs": [
    {
     "name": "stdout",
     "output_type": "stream",
     "text": [
      "dict_items([('中', 3), ('央', 2), ('氣', 7), ('象', 2), ('局', 4), ('預', 2), ('報', 2), ('員', 1), ('張', 2), ('承', 2), ('傳', 2), ('今', 6), ('天', 8), ('指', 1), ('出', 2), ('南', 8), ('方', 5), ('雲', 3), ('系', 3), ('北', 7), ('移', 2), ('部', 14), ('和', 2), ('東', 7), ('持', 2), ('續', 2), ('有', 9), ('雨', 6), ('關', 3), ('島', 5), ('附', 2), ('近', 2), ('一', 3), ('熱', 6), ('帶', 4), ('性', 2), ('低', 4), ('壓', 5), ('最', 2), ('快', 2), ('下', 2), ('周', 1), ('1', 2), ('6', 3), ('日', 2), ('發', 4), ('展', 3), ('成', 1), ('年', 2), ('第', 2), ('9', 2), ('號', 2), ('颱', 2), ('風', 5), ('山', 3), ('神', 2), ('S', 1), ('o', 1), ('n', 2), ('T', 1), ('i', 1), ('h', 1), ('說', 2), ('影', 4), ('響', 4), ('暖', 1), ('濕', 1), ('的', 4), ('配', 1), ('合', 1), ('地', 6), ('形', 1), ('抬', 1), ('升', 1), ('區', 5), ('及', 4), ('恆', 1), ('春', 1), ('半', 3), ('整', 1), ('不', 1), ('定', 2), ('時', 1), ('陣', 3), ('並', 1), ('大', 7), ('生', 1), ('機', 3), ('率', 1), ('、', 3), ('也', 1), ('短', 2), ('暫', 2), ('午', 1), ('後', 1), ('因', 3), ('對', 3), ('流', 2), ('西', 3), ('雷', 1), ('平', 2), ('致', 1), ('晴', 1), ('朗', 1), ('穩', 1), ('溫', 3), ('面', 2), ('白', 1), ('高', 4), ('約', 2), ('攝', 1), ('氏', 1), ('3', 6), ('4', 1), ('至', 3), ('5', 1), ('度', 4), ('較', 1), ('為', 2), ('悶', 1), ('尤', 1), ('其', 1), ('桃', 1), ('園', 1), ('台', 3), ('與', 1), ('屏', 1), ('會', 1), ('現', 1), ('而', 1), ('量', 1), ('多', 1), ('易', 1), ('2', 1), ('他', 1), ('補', 1), ('充', 1), ('位', 1), ('在', 3), ('個', 1), ('於', 2), ('灣', 2), ('還', 1), ('要', 1), ('觀', 1), ('察', 1), ('學', 2), ('科', 1), ('兼', 1), ('任', 1), ('副', 1), ('教', 1), ('授', 1), ('吳', 1), ('德', 1), ('榮', 1), ('三', 1), ('立', 1), ('準', 1), ('老', 1), ('洩', 1), ('專', 1), ('欄', 1), ('目', 2), ('前', 2), ('海', 1), ('帛', 1), ('琉', 1), ('群', 1), ('都', 2), ('擾', 2), ('動', 2), ('季', 2), ('環', 2), ('內', 1), ('蘊', 1), ('釀', 1), ('由', 1), ('兩', 1), ('者', 1), ('可', 1), ('能', 1), ('相', 1), ('互', 1), ('加', 1), ('上', 1), ('境', 1), ('導', 1), ('引', 1), ('作', 1), ('用', 1), ('太', 1), ('洋', 1), ('勢', 1), ('力', 1), ('等', 1), ('素', 1), ('此', 1), ('困', 1), ('難', 1), ('增', 1), ('無', 1), ('法', 1), ('判', 1), ('斷', 1), ('是', 1), ('否', 1)])\n"
     ]
    }
   ],
   "source": [
    "d = dict()\n",
    "stopWords = ['「','」','；','。','．',' ','）','（','，','\\n']\n",
    "for w in news:\n",
    "    if w not in stopWords :\n",
    "        d[w] = 1 if d.get(w) == None else d.get(w) + 1\n",
    "print(d.items()) "
   ]
  },
  {
   "cell_type": "markdown",
   "metadata": {},
   "source": [
    "#### <font color=#0000FF>3. 改寫成函數</font>"
   ]
  },
  {
   "cell_type": "code",
   "execution_count": 55,
   "metadata": {},
   "outputs": [],
   "source": [
    "def countChtWords(fileName, stopWords) :\n",
    "    d = dict()\n",
    "#     stopWords = ['「','」','；','。','．',' ','）','（','，','\\n']\n",
    "    \n",
    "    with open(file=fileName,mode=\"rt\") as inpf :\n",
    "        news = inpf.read()\n",
    "    for w in news:\n",
    "        if w not in stopWords :\n",
    "            d[w] = 1 if d.get(w) == None else d.get(w) + 1        \n",
    "    return d        "
   ]
  },
  {
   "cell_type": "code",
   "execution_count": 58,
   "metadata": {},
   "outputs": [],
   "source": [
    "fname = '中文新聞.txt'\n",
    "sw = ['「','」','；','。','．',' ','）','（','，','\\n']\n",
    "myDict = countChtWords(fileName=fname, stopWords=sw)"
   ]
  },
  {
   "cell_type": "markdown",
   "metadata": {},
   "source": [
    "#### <font color=#0000FF>依據key遞增排序</font>"
   ]
  },
  {
   "cell_type": "code",
   "execution_count": 66,
   "metadata": {},
   "outputs": [
    {
     "name": "stdout",
     "output_type": "stream",
     "text": [
      "[('1', 2), ('2', 1), ('3', 6), ('4', 1), ('5', 1), ('6', 3), ('9', 2), ('S', 1), ('T', 1), ('h', 1), ('i', 1), ('n', 2), ('o', 1), ('、', 3), ('一', 3), ('三', 1), ('上', 1), ('下', 2), ('不', 1), ('並', 1), ('中', 3), ('也', 1), ('互', 1), ('今', 6), ('他', 1), ('任', 1), ('位', 1), ('低', 4), ('作', 1), ('個', 1), ('傳', 2), ('充', 1), ('內', 1), ('兩', 1), ('其', 1), ('兼', 1), ('出', 2), ('判', 1), ('前', 2), ('副', 1), ('力', 1), ('加', 1), ('動', 2), ('勢', 1), ('北', 7), ('區', 5), ('升', 1), ('午', 1), ('半', 3), ('南', 8), ('及', 4), ('可', 1), ('台', 3), ('合', 1), ('否', 1), ('吳', 1), ('周', 1), ('和', 2), ('員', 1), ('因', 3), ('困', 1), ('園', 1), ('在', 3), ('地', 6), ('報', 2), ('境', 1), ('增', 1), ('壓', 5), ('多', 1), ('大', 7), ('天', 8), ('太', 1), ('央', 2), ('季', 2), ('學', 2), ('定', 2), ('察', 1), ('專', 1), ('對', 3), ('導', 1), ('尤', 1), ('局', 4), ('屏', 1), ('展', 3), ('山', 3), ('島', 5), ('帛', 1), ('帶', 4), ('平', 2), ('年', 2), ('度', 4), ('引', 1), ('張', 2), ('形', 1), ('影', 4), ('後', 1), ('德', 1), ('快', 2), ('性', 2), ('恆', 1), ('悶', 1), ('成', 1), ('承', 2), ('抬', 1), ('持', 2), ('指', 1), ('授', 1), ('擾', 2), ('攝', 1), ('教', 1), ('整', 1), ('斷', 1), ('方', 5), ('於', 2), ('日', 2), ('易', 1), ('春', 1), ('是', 1), ('時', 1), ('晴', 1), ('暖', 1), ('暫', 2), ('最', 2), ('會', 1), ('有', 9), ('朗', 1), ('東', 7), ('桃', 1), ('榮', 1), ('機', 3), ('欄', 1), ('此', 1), ('氏', 1), ('氣', 7), ('法', 1), ('洋', 1), ('洩', 1), ('流', 2), ('海', 1), ('準', 1), ('溫', 3), ('濕', 1), ('灣', 2), ('為', 2), ('無', 1), ('熱', 6), ('率', 1), ('現', 1), ('琉', 1), ('環', 2), ('生', 1), ('用', 1), ('由', 1), ('發', 4), ('白', 1), ('的', 4), ('目', 2), ('相', 1), ('短', 2), ('神', 2), ('科', 1), ('移', 2), ('穩', 1), ('立', 1), ('第', 2), ('等', 1), ('系', 3), ('約', 2), ('素', 1), ('續', 2), ('群', 1), ('老', 1), ('者', 1), ('而', 1), ('能', 1), ('至', 3), ('致', 1), ('與', 1), ('蘊', 1), ('號', 2), ('補', 1), ('西', 3), ('要', 1), ('觀', 1), ('說', 2), ('象', 2), ('較', 1), ('近', 2), ('還', 1), ('部', 14), ('都', 2), ('配', 1), ('釀', 1), ('量', 1), ('關', 3), ('附', 2), ('陣', 3), ('難', 1), ('雨', 6), ('雲', 3), ('雷', 1), ('面', 2), ('響', 4), ('預', 2), ('風', 5), ('颱', 2), ('高', 4)]\n"
     ]
    }
   ],
   "source": [
    "print(sorted(myDict.items(), key=lambda x:x[0], reverse=False))"
   ]
  },
  {
   "cell_type": "markdown",
   "metadata": {},
   "source": [
    "#### <font color=#0000FF>依據value遞減排序</font>"
   ]
  },
  {
   "cell_type": "code",
   "execution_count": 64,
   "metadata": {
    "scrolled": false
   },
   "outputs": [
    {
     "name": "stdout",
     "output_type": "stream",
     "text": [
      "[('部', 14), ('有', 9), ('天', 8), ('南', 8), ('氣', 7), ('北', 7), ('東', 7), ('大', 7), ('今', 6), ('雨', 6), ('熱', 6), ('地', 6), ('3', 6), ('方', 5), ('島', 5), ('壓', 5), ('風', 5), ('區', 5), ('局', 4), ('帶', 4), ('低', 4), ('發', 4), ('影', 4), ('響', 4), ('的', 4), ('及', 4), ('高', 4), ('度', 4), ('中', 3), ('雲', 3), ('系', 3), ('關', 3), ('一', 3), ('6', 3), ('展', 3), ('山', 3), ('半', 3), ('陣', 3), ('機', 3), ('、', 3), ('因', 3), ('對', 3), ('西', 3), ('溫', 3), ('至', 3), ('台', 3), ('在', 3), ('央', 2), ('象', 2), ('預', 2), ('報', 2), ('張', 2), ('承', 2), ('傳', 2), ('出', 2), ('移', 2), ('和', 2), ('持', 2), ('續', 2), ('附', 2), ('近', 2), ('性', 2), ('最', 2), ('快', 2), ('下', 2), ('1', 2), ('日', 2), ('年', 2), ('第', 2), ('9', 2), ('號', 2), ('颱', 2), ('神', 2), ('n', 2), ('說', 2), ('定', 2), ('短', 2), ('暫', 2), ('流', 2), ('平', 2), ('面', 2), ('約', 2), ('為', 2), ('於', 2), ('灣', 2), ('學', 2), ('目', 2), ('前', 2), ('都', 2), ('擾', 2), ('動', 2), ('季', 2), ('環', 2), ('員', 1), ('指', 1), ('周', 1), ('成', 1), ('S', 1), ('o', 1), ('T', 1), ('i', 1), ('h', 1), ('暖', 1), ('濕', 1), ('配', 1), ('合', 1), ('形', 1), ('抬', 1), ('升', 1), ('恆', 1), ('春', 1), ('整', 1), ('不', 1), ('時', 1), ('並', 1), ('生', 1), ('率', 1), ('也', 1), ('午', 1), ('後', 1), ('雷', 1), ('致', 1), ('晴', 1), ('朗', 1), ('穩', 1), ('白', 1), ('攝', 1), ('氏', 1), ('4', 1), ('5', 1), ('較', 1), ('悶', 1), ('尤', 1), ('其', 1), ('桃', 1), ('園', 1), ('與', 1), ('屏', 1), ('會', 1), ('現', 1), ('而', 1), ('量', 1), ('多', 1), ('易', 1), ('2', 1), ('他', 1), ('補', 1), ('充', 1), ('位', 1), ('個', 1), ('還', 1), ('要', 1), ('觀', 1), ('察', 1), ('科', 1), ('兼', 1), ('任', 1), ('副', 1), ('教', 1), ('授', 1), ('吳', 1), ('德', 1), ('榮', 1), ('三', 1), ('立', 1), ('準', 1), ('老', 1), ('洩', 1), ('專', 1), ('欄', 1), ('海', 1), ('帛', 1), ('琉', 1), ('群', 1), ('內', 1), ('蘊', 1), ('釀', 1), ('由', 1), ('兩', 1), ('者', 1), ('可', 1), ('能', 1), ('相', 1), ('互', 1), ('加', 1), ('上', 1), ('境', 1), ('導', 1), ('引', 1), ('作', 1), ('用', 1), ('太', 1), ('洋', 1), ('勢', 1), ('力', 1), ('等', 1), ('素', 1), ('此', 1), ('困', 1), ('難', 1), ('增', 1), ('無', 1), ('法', 1), ('判', 1), ('斷', 1), ('是', 1), ('否', 1)]\n"
     ]
    }
   ],
   "source": [
    "print(sorted(myDict.items(), key=lambda x:x[1], reverse=True))"
   ]
  },
  {
   "cell_type": "code",
   "execution_count": 68,
   "metadata": {},
   "outputs": [],
   "source": [
    "with open(file=\"英文新聞.txt\",mode='rt') as inpf:\n",
    "    news = inpf.read()\n",
    "# print(news)    "
   ]
  },
  {
   "cell_type": "code",
   "execution_count": 70,
   "metadata": {},
   "outputs": [
    {
     "name": "stdout",
     "output_type": "stream",
     "text": [
      "<class 'list'>\n"
     ]
    }
   ],
   "source": [
    "news = news.split(\" \")\n",
    "print(type(news))"
   ]
  },
  {
   "cell_type": "code",
   "execution_count": 72,
   "metadata": {},
   "outputs": [],
   "source": [
    "print(news)"
   ]
  },
  {
   "cell_type": "code",
   "execution_count": 74,
   "metadata": {},
   "outputs": [],
   "source": [
    "for w in news:\n",
    "    print(w)"
   ]
  },
  {
   "cell_type": "markdown",
   "metadata": {},
   "source": [
    "### <font color=#0000FF>匯入/匯出 csv 檔案格式 (使用 pandas module)</font>\n",
    "\n",
    "Signature: <br>\n",
    "pd.read_csv(filepath_or_buffer, sep=',', delimiter=None, header='infer', names=None, index_col=None, usecols=None, squeeze=False, prefix=None, mangle_dupe_cols=True, dtype=None, engine=None, converters=None, true_values=None, false_values=None, skipinitialspace=False, skiprows=None, nrows=None, na_values=None, keep_default_na=True, na_filter=True, verbose=False, skip_blank_lines=True, parse_dates=False, infer_datetime_format=False, keep_date_col=False, date_parser=None, dayfirst=False, iterator=False, chunksize=None, compression='infer', thousands=None, decimal=b'.', lineterminator=None, quotechar='\"', quoting=0, escapechar=None, comment=None, encoding=None, dialect=None, tupleize_cols=False, error_bad_lines=True, warn_bad_lines=True, skipfooter=0, skip_footer=0, doublequote=True, delim_whitespace=False, as_recarray=False, compact_ints=False, use_unsigned=False, low_memory=True, buffer_lines=None, memory_map=False, float_precision=None)"
   ]
  },
  {
   "cell_type": "code",
   "execution_count": 78,
   "metadata": {},
   "outputs": [],
   "source": [
    "os.chdir(r'C:\\Data\\PyData')"
   ]
  },
  {
   "cell_type": "code",
   "execution_count": 79,
   "metadata": {},
   "outputs": [],
   "source": [
    "airQty = pd.read_csv('AirQty2016-06-01.csv',sep=',',engine='python')"
   ]
  },
  {
   "cell_type": "code",
   "execution_count": 80,
   "metadata": {},
   "outputs": [
    {
     "name": "stdout",
     "output_type": "stream",
     "text": [
      "<class 'pandas.core.frame.DataFrame'>\n"
     ]
    }
   ],
   "source": [
    "print(type(airQty))"
   ]
  },
  {
   "cell_type": "code",
   "execution_count": 86,
   "metadata": {},
   "outputs": [
    {
     "data": {
      "text/plain": [
       "(76, 17)"
      ]
     },
     "execution_count": 86,
     "metadata": {},
     "output_type": "execute_result"
    }
   ],
   "source": [
    "print(airQty.shape)"
   ]
  },
  {
   "cell_type": "code",
   "execution_count": 89,
   "metadata": {},
   "outputs": [
    {
     "data": {
      "text/html": [
       "<div>\n",
       "<style scoped>\n",
       "    .dataframe tbody tr th:only-of-type {\n",
       "        vertical-align: middle;\n",
       "    }\n",
       "\n",
       "    .dataframe tbody tr th {\n",
       "        vertical-align: top;\n",
       "    }\n",
       "\n",
       "    .dataframe thead th {\n",
       "        text-align: right;\n",
       "    }\n",
       "</style>\n",
       "<table border=\"1\" class=\"dataframe\">\n",
       "  <thead>\n",
       "    <tr style=\"text-align: right;\">\n",
       "      <th></th>\n",
       "      <th>SiteName</th>\n",
       "      <th>County</th>\n",
       "      <th>PSI</th>\n",
       "      <th>MajorPollutant</th>\n",
       "      <th>Status</th>\n",
       "      <th>SO2</th>\n",
       "      <th>CO</th>\n",
       "      <th>O3</th>\n",
       "      <th>PM10</th>\n",
       "      <th>PM2.5</th>\n",
       "      <th>NO2</th>\n",
       "      <th>WindSpeed</th>\n",
       "      <th>WindDirec</th>\n",
       "      <th>FPMI</th>\n",
       "      <th>NOx</th>\n",
       "      <th>NO</th>\n",
       "      <th>PublishTime</th>\n",
       "    </tr>\n",
       "  </thead>\n",
       "  <tbody>\n",
       "    <tr>\n",
       "      <th>0</th>\n",
       "      <td>麥寮</td>\n",
       "      <td>雲林縣</td>\n",
       "      <td>36</td>\n",
       "      <td>NaN</td>\n",
       "      <td>良好</td>\n",
       "      <td>1.2</td>\n",
       "      <td>0.11</td>\n",
       "      <td>10.0</td>\n",
       "      <td>35.0</td>\n",
       "      <td>7</td>\n",
       "      <td>4.5</td>\n",
       "      <td>2.2</td>\n",
       "      <td>182.0</td>\n",
       "      <td>1</td>\n",
       "      <td>6.78</td>\n",
       "      <td>2.30</td>\n",
       "      <td>2016/6/1 02:00</td>\n",
       "    </tr>\n",
       "    <tr>\n",
       "      <th>1</th>\n",
       "      <td>關山</td>\n",
       "      <td>臺東縣</td>\n",
       "      <td>23</td>\n",
       "      <td>NaN</td>\n",
       "      <td>良好</td>\n",
       "      <td>1.2</td>\n",
       "      <td>NaN</td>\n",
       "      <td>5.1</td>\n",
       "      <td>21.0</td>\n",
       "      <td>7</td>\n",
       "      <td>3.6</td>\n",
       "      <td>0.7</td>\n",
       "      <td>232.0</td>\n",
       "      <td>1</td>\n",
       "      <td>4.89</td>\n",
       "      <td>1.32</td>\n",
       "      <td>2016/6/1 02:00</td>\n",
       "    </tr>\n",
       "    <tr>\n",
       "      <th>2</th>\n",
       "      <td>馬公</td>\n",
       "      <td>澎湖縣</td>\n",
       "      <td>16</td>\n",
       "      <td>NaN</td>\n",
       "      <td>良好</td>\n",
       "      <td>0.8</td>\n",
       "      <td>0.09</td>\n",
       "      <td>20.0</td>\n",
       "      <td>5.0</td>\n",
       "      <td>2</td>\n",
       "      <td>1.7</td>\n",
       "      <td>2.5</td>\n",
       "      <td>173.0</td>\n",
       "      <td>1</td>\n",
       "      <td>3.26</td>\n",
       "      <td>1.53</td>\n",
       "      <td>2016/6/1 02:00</td>\n",
       "    </tr>\n",
       "  </tbody>\n",
       "</table>\n",
       "</div>"
      ],
      "text/plain": [
       "  SiteName County  PSI MajorPollutant Status  SO2    CO    O3  PM10  PM2.5  \\\n",
       "0       麥寮    雲林縣   36            NaN     良好  1.2  0.11  10.0  35.0      7   \n",
       "1       關山    臺東縣   23            NaN     良好  1.2   NaN   5.1  21.0      7   \n",
       "2       馬公    澎湖縣   16            NaN     良好  0.8  0.09  20.0   5.0      2   \n",
       "\n",
       "   NO2  WindSpeed  WindDirec  FPMI   NOx    NO     PublishTime  \n",
       "0  4.5        2.2      182.0     1  6.78  2.30  2016/6/1 02:00  \n",
       "1  3.6        0.7      232.0     1  4.89  1.32  2016/6/1 02:00  \n",
       "2  1.7        2.5      173.0     1  3.26  1.53  2016/6/1 02:00  "
      ]
     },
     "execution_count": 89,
     "metadata": {},
     "output_type": "execute_result"
    }
   ],
   "source": [
    "airQty.head(n=3)"
   ]
  },
  {
   "cell_type": "code",
   "execution_count": null,
   "metadata": {},
   "outputs": [],
   "source": [
    "print(airQty.County)\n",
    "print(airQty['County'])"
   ]
  },
  {
   "cell_type": "code",
   "execution_count": null,
   "metadata": {},
   "outputs": [],
   "source": [
    "airQty['PM2.5']"
   ]
  },
  {
   "cell_type": "code",
   "execution_count": 94,
   "metadata": {},
   "outputs": [
    {
     "data": {
      "text/plain": [
       "Index(['SiteName', 'County', 'PSI', 'MajorPollutant', 'Status', 'SO2', 'CO',\n",
       "       'O3', 'PM10', 'PM2.5', 'NO2', 'WindSpeed', 'WindDirec', 'FPMI', 'NOx',\n",
       "       'NO', 'PublishTime'],\n",
       "      dtype='object')"
      ]
     },
     "execution_count": 94,
     "metadata": {},
     "output_type": "execute_result"
    }
   ],
   "source": [
    "airQty.columns   #列出 DataFrame 的所有 columns Name"
   ]
  },
  {
   "cell_type": "code",
   "execution_count": null,
   "metadata": {},
   "outputs": [],
   "source": [
    "airQty[['SiteName', 'County', 'PSI']]  #欲列出多個 columns 時，要加上 [ ]"
   ]
  },
  {
   "cell_type": "markdown",
   "metadata": {},
   "source": [
    "### <font color=#0000FF>匯入/匯出 excel 檔案格式</font>\n",
    "\n",
    "Signature: <br>\n",
    "pd.read_excel(io, sheetname=0, header=0, skiprows=None, skip_footer=0, index_col=None, names=None, parse_cols=None, parse_dates=False, date_parser=None, na_values=None, thousands=None, convert_float=True, has_index_names=None, converters=None, dtype=None, true_values=None, false_values=None, engine=None, squeeze=False, **kwds)"
   ]
  },
  {
   "cell_type": "code",
   "execution_count": 96,
   "metadata": {},
   "outputs": [],
   "source": [
    "airQty = pd.read_excel(\"AirQty2016-06-01.xlsx\",sheet_name='2016-06-01')"
   ]
  },
  {
   "cell_type": "code",
   "execution_count": 97,
   "metadata": {},
   "outputs": [
    {
     "data": {
      "text/html": [
       "<div>\n",
       "<style scoped>\n",
       "    .dataframe tbody tr th:only-of-type {\n",
       "        vertical-align: middle;\n",
       "    }\n",
       "\n",
       "    .dataframe tbody tr th {\n",
       "        vertical-align: top;\n",
       "    }\n",
       "\n",
       "    .dataframe thead th {\n",
       "        text-align: right;\n",
       "    }\n",
       "</style>\n",
       "<table border=\"1\" class=\"dataframe\">\n",
       "  <thead>\n",
       "    <tr style=\"text-align: right;\">\n",
       "      <th></th>\n",
       "      <th>SiteName</th>\n",
       "      <th>County</th>\n",
       "      <th>PSI</th>\n",
       "      <th>MajorPollutant</th>\n",
       "      <th>Status</th>\n",
       "      <th>SO2</th>\n",
       "      <th>CO</th>\n",
       "      <th>O3</th>\n",
       "      <th>PM10</th>\n",
       "      <th>PM2.5</th>\n",
       "      <th>NO2</th>\n",
       "      <th>WindSpeed</th>\n",
       "      <th>WindDirec</th>\n",
       "      <th>FPMI</th>\n",
       "      <th>NOx</th>\n",
       "      <th>NO</th>\n",
       "      <th>PublishTime</th>\n",
       "    </tr>\n",
       "  </thead>\n",
       "  <tbody>\n",
       "    <tr>\n",
       "      <th>0</th>\n",
       "      <td>麥寮</td>\n",
       "      <td>雲林縣</td>\n",
       "      <td>36</td>\n",
       "      <td>NaN</td>\n",
       "      <td>良好</td>\n",
       "      <td>1.2</td>\n",
       "      <td>0.11</td>\n",
       "      <td>10.0</td>\n",
       "      <td>35.0</td>\n",
       "      <td>7</td>\n",
       "      <td>4.5</td>\n",
       "      <td>2.2</td>\n",
       "      <td>182.0</td>\n",
       "      <td>1</td>\n",
       "      <td>6.78</td>\n",
       "      <td>2.30</td>\n",
       "      <td>2016-06-01 02:00:00</td>\n",
       "    </tr>\n",
       "    <tr>\n",
       "      <th>1</th>\n",
       "      <td>關山</td>\n",
       "      <td>臺東縣</td>\n",
       "      <td>23</td>\n",
       "      <td>NaN</td>\n",
       "      <td>良好</td>\n",
       "      <td>1.2</td>\n",
       "      <td>NaN</td>\n",
       "      <td>5.1</td>\n",
       "      <td>21.0</td>\n",
       "      <td>7</td>\n",
       "      <td>3.6</td>\n",
       "      <td>0.7</td>\n",
       "      <td>232.0</td>\n",
       "      <td>1</td>\n",
       "      <td>4.89</td>\n",
       "      <td>1.32</td>\n",
       "      <td>2016-06-01 02:00:00</td>\n",
       "    </tr>\n",
       "    <tr>\n",
       "      <th>2</th>\n",
       "      <td>馬公</td>\n",
       "      <td>澎湖縣</td>\n",
       "      <td>16</td>\n",
       "      <td>NaN</td>\n",
       "      <td>良好</td>\n",
       "      <td>0.8</td>\n",
       "      <td>0.09</td>\n",
       "      <td>20.0</td>\n",
       "      <td>5.0</td>\n",
       "      <td>2</td>\n",
       "      <td>1.7</td>\n",
       "      <td>2.5</td>\n",
       "      <td>173.0</td>\n",
       "      <td>1</td>\n",
       "      <td>3.26</td>\n",
       "      <td>1.53</td>\n",
       "      <td>2016-06-01 02:00:00</td>\n",
       "    </tr>\n",
       "  </tbody>\n",
       "</table>\n",
       "</div>"
      ],
      "text/plain": [
       "  SiteName County  PSI MajorPollutant Status  SO2    CO    O3  PM10  PM2.5  \\\n",
       "0       麥寮    雲林縣   36            NaN     良好  1.2  0.11  10.0  35.0      7   \n",
       "1       關山    臺東縣   23            NaN     良好  1.2   NaN   5.1  21.0      7   \n",
       "2       馬公    澎湖縣   16            NaN     良好  0.8  0.09  20.0   5.0      2   \n",
       "\n",
       "   NO2  WindSpeed  WindDirec  FPMI   NOx    NO         PublishTime  \n",
       "0  4.5        2.2      182.0     1  6.78  2.30 2016-06-01 02:00:00  \n",
       "1  3.6        0.7      232.0     1  4.89  1.32 2016-06-01 02:00:00  \n",
       "2  1.7        2.5      173.0     1  3.26  1.53 2016-06-01 02:00:00  "
      ]
     },
     "execution_count": 97,
     "metadata": {},
     "output_type": "execute_result"
    }
   ],
   "source": [
    "airQty.head(n=3)"
   ]
  },
  {
   "cell_type": "code",
   "execution_count": 98,
   "metadata": {},
   "outputs": [],
   "source": [
    "airQty = pd.read_excel(\"AirQty2016-06-01.xlsx\",sheet_name=0)"
   ]
  },
  {
   "cell_type": "code",
   "execution_count": 99,
   "metadata": {},
   "outputs": [
    {
     "data": {
      "text/html": [
       "<div>\n",
       "<style scoped>\n",
       "    .dataframe tbody tr th:only-of-type {\n",
       "        vertical-align: middle;\n",
       "    }\n",
       "\n",
       "    .dataframe tbody tr th {\n",
       "        vertical-align: top;\n",
       "    }\n",
       "\n",
       "    .dataframe thead th {\n",
       "        text-align: right;\n",
       "    }\n",
       "</style>\n",
       "<table border=\"1\" class=\"dataframe\">\n",
       "  <thead>\n",
       "    <tr style=\"text-align: right;\">\n",
       "      <th></th>\n",
       "      <th>SiteName</th>\n",
       "      <th>County</th>\n",
       "      <th>PSI</th>\n",
       "      <th>MajorPollutant</th>\n",
       "      <th>Status</th>\n",
       "      <th>SO2</th>\n",
       "      <th>CO</th>\n",
       "      <th>O3</th>\n",
       "      <th>PM10</th>\n",
       "      <th>PM2.5</th>\n",
       "      <th>NO2</th>\n",
       "      <th>WindSpeed</th>\n",
       "      <th>WindDirec</th>\n",
       "      <th>FPMI</th>\n",
       "      <th>NOx</th>\n",
       "      <th>NO</th>\n",
       "      <th>PublishTime</th>\n",
       "    </tr>\n",
       "  </thead>\n",
       "  <tbody>\n",
       "    <tr>\n",
       "      <th>73</th>\n",
       "      <td>萬里</td>\n",
       "      <td>新北市</td>\n",
       "      <td>35</td>\n",
       "      <td>NaN</td>\n",
       "      <td>良好</td>\n",
       "      <td>2.6</td>\n",
       "      <td>0.27</td>\n",
       "      <td>8.7</td>\n",
       "      <td>28.0</td>\n",
       "      <td>15</td>\n",
       "      <td>8.8</td>\n",
       "      <td>2.4</td>\n",
       "      <td>212.0</td>\n",
       "      <td>2</td>\n",
       "      <td>9.84</td>\n",
       "      <td>1.05</td>\n",
       "      <td>2016-06-01 02:00:00</td>\n",
       "    </tr>\n",
       "    <tr>\n",
       "      <th>74</th>\n",
       "      <td>汐止</td>\n",
       "      <td>新北市</td>\n",
       "      <td>39</td>\n",
       "      <td>NaN</td>\n",
       "      <td>良好</td>\n",
       "      <td>2.2</td>\n",
       "      <td>0.41</td>\n",
       "      <td>0.9</td>\n",
       "      <td>37.0</td>\n",
       "      <td>18</td>\n",
       "      <td>15.0</td>\n",
       "      <td>0.6</td>\n",
       "      <td>331.0</td>\n",
       "      <td>2</td>\n",
       "      <td>21.52</td>\n",
       "      <td>6.42</td>\n",
       "      <td>2016-06-01 02:00:00</td>\n",
       "    </tr>\n",
       "    <tr>\n",
       "      <th>75</th>\n",
       "      <td>基隆</td>\n",
       "      <td>基隆市</td>\n",
       "      <td>36</td>\n",
       "      <td>NaN</td>\n",
       "      <td>良好</td>\n",
       "      <td>3.4</td>\n",
       "      <td>0.30</td>\n",
       "      <td>3.7</td>\n",
       "      <td>32.0</td>\n",
       "      <td>16</td>\n",
       "      <td>16.0</td>\n",
       "      <td>1.1</td>\n",
       "      <td>276.0</td>\n",
       "      <td>2</td>\n",
       "      <td>19.35</td>\n",
       "      <td>3.04</td>\n",
       "      <td>2016-06-01 02:00:00</td>\n",
       "    </tr>\n",
       "  </tbody>\n",
       "</table>\n",
       "</div>"
      ],
      "text/plain": [
       "   SiteName County  PSI MajorPollutant Status  SO2    CO   O3  PM10  PM2.5  \\\n",
       "73       萬里    新北市   35            NaN     良好  2.6  0.27  8.7  28.0     15   \n",
       "74       汐止    新北市   39            NaN     良好  2.2  0.41  0.9  37.0     18   \n",
       "75       基隆    基隆市   36            NaN     良好  3.4  0.30  3.7  32.0     16   \n",
       "\n",
       "     NO2  WindSpeed  WindDirec  FPMI    NOx    NO         PublishTime  \n",
       "73   8.8        2.4      212.0     2   9.84  1.05 2016-06-01 02:00:00  \n",
       "74  15.0        0.6      331.0     2  21.52  6.42 2016-06-01 02:00:00  \n",
       "75  16.0        1.1      276.0     2  19.35  3.04 2016-06-01 02:00:00  "
      ]
     },
     "execution_count": 99,
     "metadata": {},
     "output_type": "execute_result"
    }
   ],
   "source": [
    "airQty.tail(n=3)"
   ]
  },
  {
   "cell_type": "markdown",
   "metadata": {},
   "source": [
    "### <font color=#0000FF>JSON (<u>J</u>ava<u>S</u>cript <u>O</u>bject <u>N</u>otation，JavaScript物件表示法)</font>\n",
    "- key:value \n",
    "- { } : 物件\n",
    "- \\[ \\] : 陣列，元素之間用 , 隔開"
   ]
  },
  {
   "cell_type": "markdown",
   "metadata": {},
   "source": [
    "【JSON On-Line Parser】\n",
    "- [JSON Editor Online - view, edit and format JSON online](https://jsoneditoronline.org/)\n",
    "- [Best JSON Editor Online - JSON Formatter](https://jsonformatter.org/json-editor)\n",
    "- [Best JSON Viewer and JSON Beautifier Online - Code Beautify](https://codebeautify.org/jsonviewer)\n",
    "- [Json Parser Online](http://jsonparseronline.com/)"
   ]
  },
  {
   "cell_type": "markdown",
   "metadata": {},
   "source": [
    "【參考資料】\n",
    "- [Python JSON](http://www.runoob.com/python/python-json.html)"
   ]
  },
  {
   "cell_type": "code",
   "execution_count": null,
   "metadata": {},
   "outputs": [],
   "source": []
  },
  {
   "cell_type": "code",
   "execution_count": null,
   "metadata": {},
   "outputs": [],
   "source": []
  },
  {
   "cell_type": "code",
   "execution_count": null,
   "metadata": {},
   "outputs": [],
   "source": []
  },
  {
   "cell_type": "markdown",
   "metadata": {},
   "source": [
    "<font color=#0000FF>json模組的編碼與解編碼</font>\n",
    "- json.dumps() : 將 Python 物件編碼成 JSON 字串\n",
    "- json.loads() : 將JSON字串，解碼為 Python 物件"
   ]
  },
  {
   "cell_type": "code",
   "execution_count": null,
   "metadata": {},
   "outputs": [],
   "source": []
  },
  {
   "cell_type": "code",
   "execution_count": null,
   "metadata": {},
   "outputs": [],
   "source": []
  },
  {
   "cell_type": "markdown",
   "metadata": {
    "collapsed": true
   },
   "source": [
    "### <font color=#0000FF>Python 連線 MS SQL SERVER 讀入資料</font>\n",
    "<font color=#0000FF>[使用 pyodbc 模組]</font>\n",
    "* import pyodbc\n",
    "* pyodbc.connect()的連線字串\n",
    "    * 'DSN=DataSourceName;UID=user;PWD=password'\n",
    "    * 'DRIVER={SQL Server Native Client 11.0};SERVER=localhost;DATABASE=testdb;UID=user;PWD=password'\n",
    "\n",
    "<font color=#0000FF>[使用 pymssql 模組]</font>\n",
    "* pip install --upgrade pymssql\n",
    "* import pymssql\n",
    "* pymssql.connect()\n",
    "    * server : 伺服器的位址\n",
    "    * port : 埠號\n",
    "    * database : 資料庫名稱     \n",
    "    * user : 使用者帳號\n",
    "    * password : 使用者密碼"
   ]
  },
  {
   "cell_type": "markdown",
   "metadata": {},
   "source": [
    "### <font color=#0000FF>使用 pyodbc 模組</font>"
   ]
  },
  {
   "cell_type": "markdown",
   "metadata": {},
   "source": [
    "<pre>\n",
    "【連線字串(1)】必須要事先設定 ODBC 的 DSN (<u>D</u>ata <u>S</u>ource <u>N</u>ame)\n",
    "<font color=#FF0000>conn=pyodbc.connect('DSN=DataSourceName;UID=user;PWD=password')</font>\n",
    "</pre>"
   ]
  },
  {
   "cell_type": "code",
   "execution_count": null,
   "metadata": {},
   "outputs": [],
   "source": []
  },
  {
   "cell_type": "code",
   "execution_count": null,
   "metadata": {},
   "outputs": [],
   "source": []
  },
  {
   "cell_type": "code",
   "execution_count": null,
   "metadata": {},
   "outputs": [],
   "source": []
  },
  {
   "cell_type": "markdown",
   "metadata": {},
   "source": [
    "<pre>\n",
    "【連線字串(2)】不用事先設定 ODBC 的 DSN (<u>D</u>ata <u>S</u>ource <u>N</u>ame)，直接指定驅動程式的名稱以及相關的連線資訊即可\n",
    "<font color=#FF0000>conn=pyodbc.connect('DRIVER={SQL Server};SERVER=localhost;DATABASE=testdb;UID=user;PWD=password')</font>\n",
    "</pre>"
   ]
  },
  {
   "cell_type": "code",
   "execution_count": null,
   "metadata": {},
   "outputs": [],
   "source": []
  },
  {
   "cell_type": "code",
   "execution_count": null,
   "metadata": {},
   "outputs": [],
   "source": []
  },
  {
   "cell_type": "code",
   "execution_count": null,
   "metadata": {},
   "outputs": [],
   "source": []
  },
  {
   "cell_type": "markdown",
   "metadata": {},
   "source": [
    "### <font color=#0000FF>使用 pymssql 模組</font>\n",
    "- 安裝套件\n",
    "    - pip install pymssql\n",
    "- <font color=#FF0000>conn = pymssql.connect(server='xxx.xxx.xxx.xxx', port='1433', database='dbName', user='uuu', password='pppp')</font>\n",
    "    - <b>server</b> : database host, type : string\n",
    "    - <b>port</b> : the TCP port to use to connect to the server, type : string\n",
    "    - <b>database</b> : the database to initially connect to, type : string\n",
    "    - <b>user</b> : database user to connect as. Default value: None, type : string\n",
    "    - <b>password</b> : user's password. Default value: None, type : string\n",
    "    - <b>timeout</b> : query timeout in seconds, default 0 (no timeout), type : int\n",
    "    - <b>login_timeout</b> : timeout for connection and login in seconds, default 60, type : int"
   ]
  },
  {
   "cell_type": "markdown",
   "metadata": {},
   "source": [
    "pip install pymssql"
   ]
  },
  {
   "cell_type": "code",
   "execution_count": 101,
   "metadata": {},
   "outputs": [],
   "source": [
    "import pymssql\n",
    "import pandas as pd"
   ]
  },
  {
   "cell_type": "code",
   "execution_count": 102,
   "metadata": {},
   "outputs": [],
   "source": [
    "conn = pymssql.connect(server='180.218.162.136', \\\n",
    "                       port='1433', \\\n",
    "                       database='PyDB', \\\n",
    "                       user='stat', \\\n",
    "                       password='statNTPU')"
   ]
  },
  {
   "cell_type": "code",
   "execution_count": 103,
   "metadata": {},
   "outputs": [],
   "source": [
    "sqlStr = \"select * from airQty\"\n",
    "airQty = pd.read_sql(sqlStr, conn)"
   ]
  },
  {
   "cell_type": "code",
   "execution_count": 104,
   "metadata": {},
   "outputs": [
    {
     "data": {
      "text/html": [
       "<div>\n",
       "<style scoped>\n",
       "    .dataframe tbody tr th:only-of-type {\n",
       "        vertical-align: middle;\n",
       "    }\n",
       "\n",
       "    .dataframe tbody tr th {\n",
       "        vertical-align: top;\n",
       "    }\n",
       "\n",
       "    .dataframe thead th {\n",
       "        text-align: right;\n",
       "    }\n",
       "</style>\n",
       "<table border=\"1\" class=\"dataframe\">\n",
       "  <thead>\n",
       "    <tr style=\"text-align: right;\">\n",
       "      <th></th>\n",
       "      <th>SiteName</th>\n",
       "      <th>County</th>\n",
       "      <th>PSI</th>\n",
       "      <th>MajorPollutant</th>\n",
       "      <th>Status</th>\n",
       "      <th>SO2</th>\n",
       "      <th>CO</th>\n",
       "      <th>O3</th>\n",
       "      <th>PM10</th>\n",
       "      <th>PM2_5</th>\n",
       "      <th>NO2</th>\n",
       "      <th>WindSpeed</th>\n",
       "      <th>WindDirec</th>\n",
       "      <th>FPMI</th>\n",
       "      <th>NOx</th>\n",
       "      <th>NO</th>\n",
       "      <th>PublishTime</th>\n",
       "    </tr>\n",
       "  </thead>\n",
       "  <tbody>\n",
       "    <tr>\n",
       "      <th>0</th>\n",
       "      <td>麥寮</td>\n",
       "      <td>雲林縣</td>\n",
       "      <td>36</td>\n",
       "      <td></td>\n",
       "      <td>良好</td>\n",
       "      <td>1.2</td>\n",
       "      <td>0.11</td>\n",
       "      <td>10.0</td>\n",
       "      <td>35</td>\n",
       "      <td>7</td>\n",
       "      <td>4.5</td>\n",
       "      <td>2.2</td>\n",
       "      <td>182</td>\n",
       "      <td>1</td>\n",
       "      <td>6.78</td>\n",
       "      <td>2.30</td>\n",
       "      <td>2016-06-01 02:00:00</td>\n",
       "    </tr>\n",
       "    <tr>\n",
       "      <th>1</th>\n",
       "      <td>關山</td>\n",
       "      <td>臺東縣</td>\n",
       "      <td>23</td>\n",
       "      <td></td>\n",
       "      <td>良好</td>\n",
       "      <td>1.2</td>\n",
       "      <td>NaN</td>\n",
       "      <td>5.1</td>\n",
       "      <td>21</td>\n",
       "      <td>7</td>\n",
       "      <td>3.6</td>\n",
       "      <td>0.7</td>\n",
       "      <td>232</td>\n",
       "      <td>1</td>\n",
       "      <td>4.89</td>\n",
       "      <td>1.32</td>\n",
       "      <td>2016-06-01 02:00:00</td>\n",
       "    </tr>\n",
       "    <tr>\n",
       "      <th>2</th>\n",
       "      <td>馬公</td>\n",
       "      <td>澎湖縣</td>\n",
       "      <td>16</td>\n",
       "      <td></td>\n",
       "      <td>良好</td>\n",
       "      <td>0.8</td>\n",
       "      <td>0.09</td>\n",
       "      <td>20.0</td>\n",
       "      <td>5</td>\n",
       "      <td>2</td>\n",
       "      <td>1.7</td>\n",
       "      <td>2.5</td>\n",
       "      <td>173</td>\n",
       "      <td>1</td>\n",
       "      <td>3.26</td>\n",
       "      <td>1.53</td>\n",
       "      <td>2016-06-01 02:00:00</td>\n",
       "    </tr>\n",
       "    <tr>\n",
       "      <th>3</th>\n",
       "      <td>金門</td>\n",
       "      <td>金門縣</td>\n",
       "      <td>32</td>\n",
       "      <td></td>\n",
       "      <td>良好</td>\n",
       "      <td>1.4</td>\n",
       "      <td>0.08</td>\n",
       "      <td>20.0</td>\n",
       "      <td>25</td>\n",
       "      <td>2</td>\n",
       "      <td>3.8</td>\n",
       "      <td>4.9</td>\n",
       "      <td>220</td>\n",
       "      <td>1</td>\n",
       "      <td>4.23</td>\n",
       "      <td>0.48</td>\n",
       "      <td>2016-06-01 02:00:00</td>\n",
       "    </tr>\n",
       "    <tr>\n",
       "      <th>4</th>\n",
       "      <td>馬祖</td>\n",
       "      <td>連江縣</td>\n",
       "      <td>39</td>\n",
       "      <td></td>\n",
       "      <td>良好</td>\n",
       "      <td>2.8</td>\n",
       "      <td>0.08</td>\n",
       "      <td>17.0</td>\n",
       "      <td>29</td>\n",
       "      <td>11</td>\n",
       "      <td>6.2</td>\n",
       "      <td>6.5</td>\n",
       "      <td>200</td>\n",
       "      <td>2</td>\n",
       "      <td>7.74</td>\n",
       "      <td>1.55</td>\n",
       "      <td>2016-06-01 02:00:00</td>\n",
       "    </tr>\n",
       "  </tbody>\n",
       "</table>\n",
       "</div>"
      ],
      "text/plain": [
       "  SiteName County  PSI MajorPollutant Status  SO2    CO    O3  PM10  PM2_5  \\\n",
       "0       麥寮    雲林縣   36                    良好  1.2  0.11  10.0    35      7   \n",
       "1       關山    臺東縣   23                    良好  1.2   NaN   5.1    21      7   \n",
       "2       馬公    澎湖縣   16                    良好  0.8  0.09  20.0     5      2   \n",
       "3       金門    金門縣   32                    良好  1.4  0.08  20.0    25      2   \n",
       "4       馬祖    連江縣   39                    良好  2.8  0.08  17.0    29     11   \n",
       "\n",
       "   NO2  WindSpeed  WindDirec  FPMI   NOx    NO         PublishTime  \n",
       "0  4.5        2.2        182     1  6.78  2.30 2016-06-01 02:00:00  \n",
       "1  3.6        0.7        232     1  4.89  1.32 2016-06-01 02:00:00  \n",
       "2  1.7        2.5        173     1  3.26  1.53 2016-06-01 02:00:00  \n",
       "3  3.8        4.9        220     1  4.23  0.48 2016-06-01 02:00:00  \n",
       "4  6.2        6.5        200     2  7.74  1.55 2016-06-01 02:00:00  "
      ]
     },
     "execution_count": 104,
     "metadata": {},
     "output_type": "execute_result"
    }
   ],
   "source": [
    "airQty.head()"
   ]
  }
 ],
 "metadata": {
  "kernelspec": {
   "display_name": "Python 3",
   "language": "python",
   "name": "python3"
  },
  "language_info": {
   "codemirror_mode": {
    "name": "ipython",
    "version": 3
   },
   "file_extension": ".py",
   "mimetype": "text/x-python",
   "name": "python",
   "nbconvert_exporter": "python",
   "pygments_lexer": "ipython3",
   "version": "3.6.7"
  }
 },
 "nbformat": 4,
 "nbformat_minor": 2
}
