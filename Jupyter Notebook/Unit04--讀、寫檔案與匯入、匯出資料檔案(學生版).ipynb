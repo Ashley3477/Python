{
 "cells": [
  {
   "cell_type": "markdown",
   "metadata": {},
   "source": [
    "【臺北大學】Python程式設計<br>\n",
    "【授課老師】[陳祥輝 (Email : HsiangHui.Chen@gmail.com)](mailto:HsiangHui.Chen@gmail.com)<br>\n",
    "【facebook】[陳祥輝老師的臉書 (歡迎加好友)](https://goo.gl/osivhx)<br>\n",
    "【參考書籍】[從零開始學Python程式設計（適用Python 3.5以上）](http://www.drmaster.com.tw/Bookinfo.asp?BookID=MP31821)<br>\n",
    "【主要議題】讀、寫檔案與匯入、匯出資料檔案"
   ]
  },
  {
   "cell_type": "markdown",
   "metadata": {},
   "source": [
    "【重點提要】\n",
    "1. os module\n",
    "2. glob module\n",
    "3. 基本的純文字檔open/read/write/close\n",
    "4. 序列檔案的讀、寫 pickle\n",
    "5. 匯入/匯出 csv 檔案格式\n",
    "    * 使用 pandas module，讀入 DataFrame\n",
    "6. 匯入/匯出 excel 檔案格式 (使用 pandas & csv module)"
   ]
  },
  {
   "cell_type": "markdown",
   "metadata": {},
   "source": [
    "### <font color=#0000FF>ODBC的下載與安裝</font>\n",
    "* [下載 ODBC Driver for SQL Server](https://docs.microsoft.com/zh-tw/sql/connect/odbc/download-odbc-driver-for-sql-server?view=sql-server-2017)\n",
    "* [Microsoft® ODBC Driver 17 for SQL Server® - Windows, Linux, & macOS](https://www.microsoft.com/en-us/download/details.aspx?id=56567)\n",
    "\n",
    "### <font color=#0000FF>安裝pymssql</font>\n",
    "* pip install pymssql"
   ]
  },
  {
   "cell_type": "code",
   "execution_count": 1,
   "metadata": {},
   "outputs": [],
   "source": [
    "# -*- coding: utf-8 -*-\n",
    "import os, time, glob, pickle, socket\n",
    "\n",
    "print(\"【日期時間】{}\".format(time.strftime(\"%Y/%m/%d %H:%M:%S\")))\n",
    "print(\"【工作目錄】{}\".format(os.getcwd()))\n",
    "print(\"【主機名稱】{} ({})\".format(socket.gethostname(),socket.gethostbyname(socket.gethostname())))"
   ]
  },
  {
   "cell_type": "code",
   "execution_count": null,
   "metadata": {},
   "outputs": [],
   "source": [
    "print(time.strftime('%z %a %A %b %B %c %I %p'))"
   ]
  },
  {
   "cell_type": "markdown",
   "metadata": {},
   "source": [
    "#### time.strftime()\n",
    "* %Y : Year with century as a decimal number.\n",
    "* %m : Month as a decimal number [01,12].\n",
    "* %d : Day of the month as a decimal number [01,31].\n",
    "* %H : Hour (24-hour clock) as a decimal number [00,23].\n",
    "* %M : Minute as a decimal number [00,59].\n",
    "* %S : Second as a decimal number [00,61].\n",
    "---\n",
    "* %z : Time zone offset from UTC.\n",
    "* %a : Locale's abbreviated weekday name.\n",
    "* %A : Locale's full weekday name.\n",
    "* %b : Locale's abbreviated month name.\n",
    "* %B : Locale's full month name.\n",
    "* %c : Locale's appropriate date and time representation.\n",
    "* %I : Hour (12-hour clock) as a decimal number [01,12].\n",
    "* %p : Locale's equivalent of either AM or PM."
   ]
  },
  {
   "cell_type": "markdown",
   "metadata": {},
   "source": [
    "### <font color=#0000FF>os 模組</font>\n",
    "* os.getcwd()\n",
    "* os.chdir(path)\n",
    "* os.path.exists(path)\n",
    "* os.mkdir(path)\n",
    "* os.makedirs(name)\n",
    "* os.remove(path)\n",
    "* os.removedirs()"
   ]
  },
  {
   "cell_type": "code",
   "execution_count": null,
   "metadata": {
    "collapsed": true
   },
   "outputs": [],
   "source": [
    "import os"
   ]
  },
  {
   "cell_type": "code",
   "execution_count": null,
   "metadata": {
    "collapsed": true
   },
   "outputs": [],
   "source": []
  },
  {
   "cell_type": "markdown",
   "metadata": {
    "collapsed": true
   },
   "source": [
    "### <font color=#0000FF>glob 模組 — Unix style pathname pattern expansion</font>\n",
    "* glob.glob(pathname, *, recursive=False)\n",
    "    * If recursive is true, the pattern '**' will match any files and zero or more directories and subdirectories."
   ]
  },
  {
   "cell_type": "code",
   "execution_count": null,
   "metadata": {
    "collapsed": true
   },
   "outputs": [],
   "source": [
    "import glob"
   ]
  },
  {
   "cell_type": "code",
   "execution_count": null,
   "metadata": {
    "collapsed": true
   },
   "outputs": [],
   "source": []
  },
  {
   "cell_type": "markdown",
   "metadata": {},
   "source": [
    "### <font color=#0000FF>基本的純文字檔open/read/write/close</font>"
   ]
  },
  {
   "cell_type": "code",
   "execution_count": null,
   "metadata": {
    "collapsed": true
   },
   "outputs": [],
   "source": []
  },
  {
   "cell_type": "code",
   "execution_count": null,
   "metadata": {
    "collapsed": true
   },
   "outputs": [],
   "source": []
  },
  {
   "cell_type": "code",
   "execution_count": null,
   "metadata": {
    "collapsed": true
   },
   "outputs": [],
   "source": []
  },
  {
   "cell_type": "markdown",
   "metadata": {},
   "source": [
    "### <font color=#0000FF>序列檔案(二進位檔案)的讀、寫 pickle</font>"
   ]
  },
  {
   "cell_type": "code",
   "execution_count": null,
   "metadata": {
    "collapsed": true
   },
   "outputs": [],
   "source": []
  },
  {
   "cell_type": "code",
   "execution_count": null,
   "metadata": {
    "collapsed": true
   },
   "outputs": [],
   "source": []
  },
  {
   "cell_type": "code",
   "execution_count": null,
   "metadata": {
    "collapsed": true
   },
   "outputs": [],
   "source": []
  },
  {
   "cell_type": "markdown",
   "metadata": {},
   "source": [
    "### <font color=#0000FF>匯入/匯出 csv 檔案格式 (使用 pandas module)</font>\n",
    "\n",
    "Signature: <br>\n",
    "pd.read_csv(filepath_or_buffer, sep=',', delimiter=None, header='infer', names=None, index_col=None, usecols=None, squeeze=False, prefix=None, mangle_dupe_cols=True, dtype=None, engine=None, converters=None, true_values=None, false_values=None, skipinitialspace=False, skiprows=None, nrows=None, na_values=None, keep_default_na=True, na_filter=True, verbose=False, skip_blank_lines=True, parse_dates=False, infer_datetime_format=False, keep_date_col=False, date_parser=None, dayfirst=False, iterator=False, chunksize=None, compression='infer', thousands=None, decimal=b'.', lineterminator=None, quotechar='\"', quoting=0, escapechar=None, comment=None, encoding=None, dialect=None, tupleize_cols=False, error_bad_lines=True, warn_bad_lines=True, skipfooter=0, skip_footer=0, doublequote=True, delim_whitespace=False, as_recarray=False, compact_ints=False, use_unsigned=False, low_memory=True, buffer_lines=None, memory_map=False, float_precision=None)"
   ]
  },
  {
   "cell_type": "code",
   "execution_count": null,
   "metadata": {
    "collapsed": true
   },
   "outputs": [],
   "source": []
  },
  {
   "cell_type": "code",
   "execution_count": null,
   "metadata": {
    "collapsed": true
   },
   "outputs": [],
   "source": []
  },
  {
   "cell_type": "code",
   "execution_count": null,
   "metadata": {
    "collapsed": true
   },
   "outputs": [],
   "source": []
  },
  {
   "cell_type": "markdown",
   "metadata": {},
   "source": [
    "### <font color=#0000FF>匯入/匯出 excel 檔案格式</font>\n",
    "\n",
    "Signature: <br>\n",
    "pd.read_excel(io, sheetname=0, header=0, skiprows=None, skip_footer=0, index_col=None, names=None, parse_cols=None, parse_dates=False, date_parser=None, na_values=None, thousands=None, convert_float=True, has_index_names=None, converters=None, dtype=None, true_values=None, false_values=None, engine=None, squeeze=False, **kwds)"
   ]
  },
  {
   "cell_type": "code",
   "execution_count": null,
   "metadata": {
    "collapsed": true
   },
   "outputs": [],
   "source": []
  },
  {
   "cell_type": "code",
   "execution_count": null,
   "metadata": {
    "collapsed": true
   },
   "outputs": [],
   "source": []
  },
  {
   "cell_type": "code",
   "execution_count": null,
   "metadata": {},
   "outputs": [],
   "source": []
  },
  {
   "cell_type": "markdown",
   "metadata": {},
   "source": [
    "### <font color=#0000FF>JSON (<u>J</u>ava<u>S</u>cript <u>O</u>bject <u>N</u>otation，JavaScript物件表示法)</font>\n",
    "- key:value \n",
    "- { } : 物件\n",
    "- \\[ \\] : 陣列，元素之間用 , 隔開"
   ]
  },
  {
   "cell_type": "markdown",
   "metadata": {},
   "source": [
    "【JSON On-Line Parser】\n",
    "- [JSON Editor Online - view, edit and format JSON online](https://jsoneditoronline.org/)\n",
    "- [Best JSON Editor Online - JSON Formatter](https://jsonformatter.org/json-editor)\n",
    "- [Best JSON Viewer and JSON Beautifier Online - Code Beautify](https://codebeautify.org/jsonviewer)\n",
    "- [Json Parser Online](http://jsonparseronline.com/)"
   ]
  },
  {
   "cell_type": "markdown",
   "metadata": {},
   "source": [
    "【參考資料】\n",
    "- [Python JSON](http://www.runoob.com/python/python-json.html)"
   ]
  },
  {
   "cell_type": "code",
   "execution_count": null,
   "metadata": {},
   "outputs": [],
   "source": []
  },
  {
   "cell_type": "code",
   "execution_count": null,
   "metadata": {},
   "outputs": [],
   "source": []
  },
  {
   "cell_type": "code",
   "execution_count": null,
   "metadata": {},
   "outputs": [],
   "source": []
  },
  {
   "cell_type": "markdown",
   "metadata": {},
   "source": [
    "<font color=#0000FF>json模組的編碼與解編碼</font>\n",
    "- json.dumps() : 將 Python 物件編碼成 JSON 字串\n",
    "- json.loads() : 將JSON字串，解碼為 Python 物件"
   ]
  },
  {
   "cell_type": "code",
   "execution_count": null,
   "metadata": {},
   "outputs": [],
   "source": []
  },
  {
   "cell_type": "code",
   "execution_count": null,
   "metadata": {},
   "outputs": [],
   "source": []
  },
  {
   "cell_type": "markdown",
   "metadata": {
    "collapsed": true
   },
   "source": [
    "### <font color=#0000FF>Python 連線 MS SQL SERVER 讀入資料</font>\n",
    "<font color=#0000FF>[使用 pyodbc 模組]</font>\n",
    "* import pyodbc\n",
    "* pyodbc.connect()的連線字串\n",
    "    * 'DSN=DataSourceName;UID=user;PWD=password'\n",
    "    * 'DRIVER={SQL Server Native Client 11.0};SERVER=localhost;DATABASE=testdb;UID=user;PWD=password'\n",
    "\n",
    "<font color=#0000FF>[使用 pymssql 模組]</font>\n",
    "* pip install --upgrade pymssql\n",
    "* import pymssql\n",
    "* pymssql.connect()\n",
    "    * server : 伺服器的位址\n",
    "    * port : 埠號\n",
    "    * user : 使用者帳號\n",
    "    * password : 使用者密碼\n",
    "    * database : 資料庫名稱 "
   ]
  },
  {
   "cell_type": "markdown",
   "metadata": {},
   "source": [
    "### <font color=#0000FF>使用 pyodbc 模組</font>"
   ]
  },
  {
   "cell_type": "markdown",
   "metadata": {},
   "source": [
    "<pre>\n",
    "【連線字串(1)】必須要事先設定 ODBC 的 DSN (<u>D</u>ata <u>S</u>ource <u>N</u>ame)\n",
    "<font color=#FF0000>conn=pyodbc.connect('DSN=DataSourceName;UID=user;PWD=password')</font>\n",
    "</pre>"
   ]
  },
  {
   "cell_type": "code",
   "execution_count": null,
   "metadata": {},
   "outputs": [],
   "source": []
  },
  {
   "cell_type": "code",
   "execution_count": null,
   "metadata": {},
   "outputs": [],
   "source": []
  },
  {
   "cell_type": "code",
   "execution_count": null,
   "metadata": {},
   "outputs": [],
   "source": []
  },
  {
   "cell_type": "markdown",
   "metadata": {},
   "source": [
    "<pre>\n",
    "【連線字串(2)】不用事先設定 ODBC 的 DSN (<u>D</u>ata <u>S</u>ource <u>N</u>ame)，直接指定驅動程式的名稱以及相關的連線資訊即可\n",
    "<font color=#FF0000>conn=pyodbc.connect('DRIVER={SQL Server};SERVER=localhost;DATABASE=testdb;UID=user;PWD=password')</font>\n",
    "</pre>"
   ]
  },
  {
   "cell_type": "code",
   "execution_count": null,
   "metadata": {},
   "outputs": [],
   "source": []
  },
  {
   "cell_type": "code",
   "execution_count": null,
   "metadata": {},
   "outputs": [],
   "source": []
  },
  {
   "cell_type": "code",
   "execution_count": null,
   "metadata": {},
   "outputs": [],
   "source": []
  },
  {
   "cell_type": "markdown",
   "metadata": {},
   "source": [
    "### <font color=#0000FF>使用 pymssql 模組</font>"
   ]
  },
  {
   "cell_type": "code",
   "execution_count": null,
   "metadata": {},
   "outputs": [],
   "source": []
  },
  {
   "cell_type": "code",
   "execution_count": null,
   "metadata": {},
   "outputs": [],
   "source": []
  },
  {
   "cell_type": "code",
   "execution_count": null,
   "metadata": {},
   "outputs": [],
   "source": []
  },
  {
   "cell_type": "code",
   "execution_count": null,
   "metadata": {},
   "outputs": [],
   "source": []
  }
 ],
 "metadata": {
  "kernelspec": {
   "display_name": "Python 3",
   "language": "python",
   "name": "python3"
  },
  "language_info": {
   "codemirror_mode": {
    "name": "ipython",
    "version": 3
   },
   "file_extension": ".py",
   "mimetype": "text/x-python",
   "name": "python",
   "nbconvert_exporter": "python",
   "pygments_lexer": "ipython3",
   "version": "3.7.1"
  }
 },
 "nbformat": 4,
 "nbformat_minor": 2
}
