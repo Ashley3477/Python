{
 "cells": [
  {
   "cell_type": "markdown",
   "metadata": {},
   "source": [
    "【臺北大學】Python程式設計<br>\n",
    "【授課老師】[陳祥輝 (Email : HsiangHui.Chen@gmail.com)](mailto:HsiangHui.Chen@gmail.com)<br>\n",
    "【facebook】[陳祥輝老師的臉書 (歡迎加好友)](https://goo.gl/osivhx)<br>\n",
    "【參考書籍】[從零開始學Python程式設計（適用Python 3.5以上）](http://www.drmaster.com.tw/Bookinfo.asp?BookID=MP31821)<br>\n",
    "【主要議題】Python的基本物件(List/Tuple/Set/Dict/Strings)"
   ]
  },
  {
   "cell_type": "markdown",
   "metadata": {},
   "source": [
    "【重點提要】\n",
    "* List : <font color=#FF0000>[ ]</font>\n",
    "* Tuple : <font color=#FF0000>( )</font>\n",
    "* Set : <font color=#FF0000>{ }</font>\n",
    "* Dict : <font color=#FF0000>{ }</font>\n",
    "* Strings : \n",
    "\n",
    "【參考資料】\n",
    "* [The Python Tutorial -- Data Structures](https://docs.python.org/3/tutorial/datastructures.html)\n",
    "* [tutorialspoint]\n",
    "    * [Python - Lists](https://www.tutorialspoint.com/python/python_lists.htm)\n",
    "    * [Python - Tuples](https://www.tutorialspoint.com/python/python_tuples.htm)\n",
    "    * [Python - Dictionary](https://www.tutorialspoint.com/python/python_dictionary.htm)\n",
    "    * [Python - Strings](https://www.tutorialspoint.com/python/python_strings.htm)\n",
    "* [Basic formatting of String](https://pyformat.info/)    "
   ]
  },
  {
   "cell_type": "markdown",
   "metadata": {},
   "source": [
    "### <font color=#0000FF>List [ ]</font>\n",
    "<font color=#0000FF>[The <u>list</u> data type has some more methods. Here are all of the methods of <u>list</u> objects:](https://docs.python.org/3/tutorial/datastructures.html)</font>\n",
    "* **list.append(x)**\n",
    "    * Add an item to the end of the list. \n",
    "    * Equivalent to <font color=#FF0000>a[len(a):] = [x]</font>.\n",
    "\n",
    "* **list.extend(iterable)**\n",
    "    * Extend the list by appending all the items from the iterable. \n",
    "    * Equivalent to <font color=#F0000>a[len(a):] = iterable</font>.\n",
    "\n",
    "* **list.insert(i, x)**\n",
    "    * Insert an item at a given position. \n",
    "    * The first argument is the index of the element before which to insert, so a.insert(0, x) inserts at the front of the list, and a.insert(len(a), x) is equivalent to a.append(x).\n",
    "\n",
    "* **list.remove(x)**\n",
    "    * Remove the ***first item*** from the list whose value is x. It is an error if there is no such item.\n",
    "\n",
    "* **list.pop([i])**\n",
    "    * Remove the item at the given position in the list, and return it. If no index is specified, a.pop() removes and returns the last item in the list. (The square brackets around the i in the method signature denote that the parameter is optional, not that you should type square brackets at that position.\n",
    "\n",
    "* **list.clear()**\n",
    "    * Remove all items from the list. Equivalent to <font color=#F0000>del a[:]</font>.\n",
    "\n",
    "* **list.index(x[, start[, end]])**\n",
    "    * Return zero-based index in the list of the first item whose value is x. Raises a ValueError if there is no such item.\n",
    "    * The optional arguments start and end are interpreted as in the slice notation and are used to limit the search to a particular subsequence of the list. The returned index is computed relative to the beginning of the full sequence rather than the start argument.\n",
    "\n",
    "* **list.count(x)**\n",
    "    * Return the number of times x appears in the list.\n",
    "\n",
    "* **list.sort(key=None, reverse=False)**\n",
    "    * Sort the items of the list <font color=#F0000>in place</font> (the arguments can be used for sort customization, see sorted() for their explanation).\n",
    "\n",
    "* **list.reverse()**\n",
    "    * Reverse the elements of the list <font color=#F0000>in place</font>.\n",
    "\n",
    "* **list.copy()**\n",
    "    * Return a shallow copy of the list. \n",
    "    * Equivalent to <font color=#F0000>a[:]</font>."
   ]
  },
  {
   "cell_type": "code",
   "execution_count": 2,
   "metadata": {},
   "outputs": [],
   "source": [
    "# -*- coding: utf-8 -*-\n",
    "import os, time, socket\n",
    "\n",
    "print(\"【日期時間】{}\".format(time.strftime(\"%Y/%m/%d %H:%M:%S\")))\n",
    "print(\"【工作目錄】{}\".format(os.getcwd()))\n",
    "print(\"【主機名稱】{} ({})\".format(socket.gethostname(),socket.gethostbyname(socket.gethostname())))"
   ]
  },
  {
   "cell_type": "markdown",
   "metadata": {},
   "source": [
    "<font color=#0000FF>list的基本認識</font>"
   ]
  },
  {
   "cell_type": "code",
   "execution_count": 1,
   "metadata": {},
   "outputs": [
    {
     "name": "stdout",
     "output_type": "stream",
     "text": [
      "[1, 2, 3, 4, 5, 6, 7]\n"
     ]
    }
   ],
   "source": [
    "lstA = [1,2,3]\n",
    "lstB = [4,5,6,7]\n",
    "print(lstA + lstB)"
   ]
  },
  {
   "cell_type": "code",
   "execution_count": 3,
   "metadata": {},
   "outputs": [
    {
     "name": "stdout",
     "output_type": "stream",
     "text": [
      "[1, 2, 3, 10, 20]\n"
     ]
    }
   ],
   "source": [
    "lstA.append(10)\n",
    "lstA.append(20)\n",
    "print(lstA)"
   ]
  },
  {
   "cell_type": "code",
   "execution_count": 5,
   "metadata": {},
   "outputs": [
    {
     "name": "stdout",
     "output_type": "stream",
     "text": [
      "[1, 2, 3, 10, 20, 4, 5, 6, 7, 4, 5, 6, 7]\n",
      "[]\n"
     ]
    }
   ],
   "source": [
    "lstA.extend(lstB)\n",
    "print(lstA)\n",
    "lstA.clear()\n",
    "print(lstA)"
   ]
  },
  {
   "cell_type": "code",
   "execution_count": 2,
   "metadata": {},
   "outputs": [
    {
     "data": {
      "text/plain": [
       "['In',\n",
       " 'Out',\n",
       " '_',\n",
       " '__',\n",
       " '___',\n",
       " '__builtin__',\n",
       " '__builtins__',\n",
       " '__doc__',\n",
       " '__loader__',\n",
       " '__name__',\n",
       " '__package__',\n",
       " '__spec__',\n",
       " '_dh',\n",
       " '_i',\n",
       " '_i1',\n",
       " '_i2',\n",
       " '_ih',\n",
       " '_ii',\n",
       " '_iii',\n",
       " '_oh',\n",
       " 'exit',\n",
       " 'get_ipython',\n",
       " 'lstA',\n",
       " 'lstB',\n",
       " 'quit']"
      ]
     },
     "execution_count": 2,
     "metadata": {},
     "output_type": "execute_result"
    }
   ],
   "source": [
    "dir()   # 類似 R 的 ls()  &  search()"
   ]
  },
  {
   "cell_type": "markdown",
   "metadata": {
    "collapsed": true
   },
   "source": [
    "###### <font color=#0000FF>list.copy()</font>"
   ]
  },
  {
   "cell_type": "code",
   "execution_count": 15,
   "metadata": {},
   "outputs": [
    {
     "name": "stdout",
     "output_type": "stream",
     "text": [
      "[3, 10, 6]\n",
      "[3, 10, 6]\n",
      "[100, 10, 6]\n",
      "[100, 10, 6]\n"
     ]
    }
   ],
   "source": [
    "lstA = [3,10,6]\n",
    "lstB = lstA         #兩者共同使用一份資料，因為所指的位址一樣\n",
    "print(lstA)\n",
    "print(lstB)\n",
    "lstB[0] = 100\n",
    "print(lstA)\n",
    "print(lstB)"
   ]
  },
  {
   "cell_type": "code",
   "execution_count": 16,
   "metadata": {},
   "outputs": [
    {
     "name": "stdout",
     "output_type": "stream",
     "text": [
      "[3, 10, 6]\n",
      "[3, 10, 6]\n",
      "[3, 10, 6]\n",
      "[100, 10, 6]\n"
     ]
    }
   ],
   "source": [
    "lstA = [3,10,6]\n",
    "lstB = lstA.copy()  #只是 copy 資料給 lstB，兩者各自獨立\n",
    "print(lstA)\n",
    "print(lstB)\n",
    "lstB[0] = 100\n",
    "print(lstA)\n",
    "print(lstB)"
   ]
  },
  {
   "cell_type": "markdown",
   "metadata": {},
   "source": [
    "###### <font color=#0000FF>list.sort()的</font><font color=#FF0000> in-place</font>"
   ]
  },
  {
   "cell_type": "code",
   "execution_count": 23,
   "metadata": {},
   "outputs": [
    {
     "name": "stdout",
     "output_type": "stream",
     "text": [
      "[60, 30, 20, 80, 100]\n",
      "[20, 30, 60, 80, 100]\n",
      "[100, 80, 60, 30, 20]\n"
     ]
    }
   ],
   "source": [
    "lst = [60, 30, 20, 80, 100]\n",
    "print(lst)\n",
    "lst.sort()             #因為 list.sort() 是 in-place , 所以會改變 lst 本身\n",
    "print(lst)\n",
    "lst.sort(reverse=True)\n",
    "print(lst)"
   ]
  },
  {
   "cell_type": "code",
   "execution_count": 22,
   "metadata": {
    "scrolled": true
   },
   "outputs": [
    {
     "name": "stdout",
     "output_type": "stream",
     "text": [
      "[60, 30, 20, 80, 100]\n",
      "[60, 30, 20, 80, 100]\n"
     ]
    }
   ],
   "source": [
    "lst = [60, 30, 20, 80, 100]\n",
    "print(lst)\n",
    "sorted(lst)            #因為 sorted() 是 Return a new list ...\n",
    "print(lst)"
   ]
  },
  {
   "cell_type": "code",
   "execution_count": 25,
   "metadata": {},
   "outputs": [
    {
     "name": "stdout",
     "output_type": "stream",
     "text": [
      "[60, 30, 20, 80, 100]\n",
      "[20, 30, 60, 80, 100]\n",
      "[100, 80, 60, 30, 20]\n"
     ]
    }
   ],
   "source": [
    "lst = [60, 30, 20, 80, 100]\n",
    "print(lst)\n",
    "lst = sorted(lst)                    #必須要覆蓋掉 lst \n",
    "print(lst)\n",
    "lst = sorted(lst,reverse=True)       #必須要覆蓋掉 lst \n",
    "print(lst)"
   ]
  },
  {
   "cell_type": "markdown",
   "metadata": {},
   "source": [
    "###### <font color=#0000FF>del statement</font>"
   ]
  },
  {
   "cell_type": "code",
   "execution_count": 27,
   "metadata": {},
   "outputs": [
    {
     "name": "stdout",
     "output_type": "stream",
     "text": [
      "[60, 30, 20, 80, 100]\n"
     ]
    },
    {
     "ename": "NameError",
     "evalue": "name 'lst' is not defined",
     "output_type": "error",
     "traceback": [
      "\u001b[1;31m---------------------------------------------------------------------------\u001b[0m",
      "\u001b[1;31mNameError\u001b[0m                                 Traceback (most recent call last)",
      "\u001b[1;32m<ipython-input-27-db89258cfc0a>\u001b[0m in \u001b[0;36m<module>\u001b[1;34m\u001b[0m\n\u001b[0;32m      2\u001b[0m \u001b[0mprint\u001b[0m\u001b[1;33m(\u001b[0m\u001b[0mlst\u001b[0m\u001b[1;33m)\u001b[0m\u001b[1;33m\u001b[0m\u001b[1;33m\u001b[0m\u001b[0m\n\u001b[0;32m      3\u001b[0m \u001b[1;32mdel\u001b[0m \u001b[0mlst\u001b[0m\u001b[1;33m\u001b[0m\u001b[1;33m\u001b[0m\u001b[0m\n\u001b[1;32m----> 4\u001b[1;33m \u001b[0mprint\u001b[0m\u001b[1;33m(\u001b[0m\u001b[0mlst\u001b[0m\u001b[1;33m)\u001b[0m\u001b[1;33m\u001b[0m\u001b[1;33m\u001b[0m\u001b[0m\n\u001b[0m",
      "\u001b[1;31mNameError\u001b[0m: name 'lst' is not defined"
     ]
    }
   ],
   "source": [
    "lst = [60, 30, 20, 80, 100]\n",
    "print(lst)\n",
    "del lst\n",
    "print(lst)"
   ]
  },
  {
   "cell_type": "code",
   "execution_count": 28,
   "metadata": {},
   "outputs": [
    {
     "name": "stdout",
     "output_type": "stream",
     "text": [
      "[60, 30, 20, 80, 100]\n",
      "[60, 30, 80, 100]\n"
     ]
    }
   ],
   "source": [
    "lst = [60, 30, 20, 80, 100]\n",
    "print(lst)\n",
    "del lst[2]\n",
    "print(lst)"
   ]
  },
  {
   "cell_type": "code",
   "execution_count": 30,
   "metadata": {},
   "outputs": [
    {
     "name": "stdout",
     "output_type": "stream",
     "text": [
      "100\n",
      "80\n",
      "20\n",
      "[60, 30]\n"
     ]
    }
   ],
   "source": [
    "lst = [60, 30, 20, 80, 100]\n",
    "print(lst.pop())\n",
    "print(lst.pop())\n",
    "print(lst.pop())\n",
    "print(lst)"
   ]
  },
  {
   "cell_type": "code",
   "execution_count": 32,
   "metadata": {},
   "outputs": [
    {
     "name": "stdout",
     "output_type": "stream",
     "text": [
      "30\n",
      "80\n",
      "100\n",
      "[60, 20]\n"
     ]
    }
   ],
   "source": [
    "lst = [60, 30, 20, 80, 100]\n",
    "print(lst.pop(1))\n",
    "print(lst.pop(2))\n",
    "print(lst.pop())\n",
    "print(lst)"
   ]
  },
  {
   "cell_type": "code",
   "execution_count": 31,
   "metadata": {},
   "outputs": [
    {
     "name": "stdout",
     "output_type": "stream",
     "text": [
      "[100, 80, 20, 30, 60]\n"
     ]
    }
   ],
   "source": [
    "lst = [60, 30, 20, 80, 100]\n",
    "lst.reverse()\n",
    "print(lst)"
   ]
  },
  {
   "cell_type": "markdown",
   "metadata": {
    "collapsed": true
   },
   "source": [
    "### <font color=#FF0000>slice of list(切片)</font>\n",
    "<pre>\n",
    "* a[start:end]      : items start through end-1\n",
    "* a[start:]         : items start through the rest of the array\n",
    "* a[:end]           : items from the beginning through end-1\n",
    "* a[:]              : a copy of the whole array\n",
    "* a[start:end:step] : start through not past end, by step\n",
    "</pre>"
   ]
  },
  {
   "cell_type": "code",
   "execution_count": 15,
   "metadata": {},
   "outputs": [
    {
     "name": "stdout",
     "output_type": "stream",
     "text": [
      "[100, 101, 102, 103, 104, 105, 106, 107, 108, 109, 110]\n",
      "[100, 101, 102, 103, 104, 105, 106, 107, 108, 109, 110]\n",
      "103\n",
      "[102, 103, 104]\n",
      "[102, 103, 104, 105, 106, 107, 108, 109, 110]\n",
      "[100, 101, 102, 103, 104]\n",
      "[102, 104, 106]\n"
     ]
    }
   ],
   "source": [
    "a = list(range(100,111))\n",
    "print(a)\n",
    "print(a[:])\n",
    "print(a[3])\n",
    "print(a[2:5])\n",
    "print(a[2:])\n",
    "print(a[:5])\n",
    "print(a[2:8:2])"
   ]
  },
  {
   "cell_type": "markdown",
   "metadata": {},
   "source": [
    "<font color=#0000FF>Python的index如果為負號，代表從右邊開始，所以最右邊的index為-1</font>"
   ]
  },
  {
   "cell_type": "code",
   "execution_count": 16,
   "metadata": {},
   "outputs": [
    {
     "name": "stdout",
     "output_type": "stream",
     "text": [
      "[100, 101, 102, 103, 104, 105, 106, 107, 108, 109, 110]\n",
      "110\n",
      "108\n",
      "[110, 109, 108, 107, 106, 105, 104, 103, 102, 101, 100]\n",
      "[110, 108, 106, 104, 102, 100]\n"
     ]
    }
   ],
   "source": [
    "a = list(range(100,111))\n",
    "print(a)\n",
    "print(a[-1])\n",
    "print(a[-3])\n",
    "print(a[::-1])\n",
    "print(a[::-2])"
   ]
  },
  {
   "cell_type": "code",
   "execution_count": 17,
   "metadata": {},
   "outputs": [
    {
     "name": "stdout",
     "output_type": "stream",
     "text": [
      "[100, 101, 102, 103, 104, 105, 106, 107, 108, 109, 110]\n",
      "[106, 107, 108]\n"
     ]
    }
   ],
   "source": [
    "a = list(range(100,111))\n",
    "print(a)\n",
    "print(a[-5:-2])"
   ]
  },
  {
   "cell_type": "markdown",
   "metadata": {},
   "source": [
    "### <font color=#0000FF>Tuple : ( )</font>\n",
    "* Tuples are ***immutable(不可變)***, and usually contain a ***heterogeneous(異質)*** sequence of elements that are accessed via unpacking (see later in this section) or indexing (or even by attribute in the case of namedtuples). \n",
    "* Lists are ***mutable(可變)***, and their elements are usually ***homogeneous(同質)*** and are accessed by iterating over the list."
   ]
  },
  {
   "cell_type": "code",
   "execution_count": 21,
   "metadata": {},
   "outputs": [
    {
     "name": "stdout",
     "output_type": "stream",
     "text": [
      "(3, 6, 9)\n",
      "(3, 6, 9, 10, 20)\n"
     ]
    },
    {
     "ename": "TypeError",
     "evalue": "'tuple' object does not support item assignment",
     "output_type": "error",
     "traceback": [
      "\u001b[1;31m---------------------------------------------------------------------------\u001b[0m",
      "\u001b[1;31mTypeError\u001b[0m                                 Traceback (most recent call last)",
      "\u001b[1;32m<ipython-input-21-8dcc431119b1>\u001b[0m in \u001b[0;36m<module>\u001b[1;34m\u001b[0m\n\u001b[0;32m      3\u001b[0m \u001b[0mt\u001b[0m \u001b[1;33m=\u001b[0m \u001b[0mt\u001b[0m \u001b[1;33m+\u001b[0m \u001b[1;33m(\u001b[0m\u001b[1;36m10\u001b[0m\u001b[1;33m,\u001b[0m\u001b[1;36m20\u001b[0m\u001b[1;33m)\u001b[0m\u001b[1;33m\u001b[0m\u001b[1;33m\u001b[0m\u001b[0m\n\u001b[0;32m      4\u001b[0m \u001b[0mprint\u001b[0m\u001b[1;33m(\u001b[0m\u001b[0mt\u001b[0m\u001b[1;33m)\u001b[0m\u001b[1;33m\u001b[0m\u001b[1;33m\u001b[0m\u001b[0m\n\u001b[1;32m----> 5\u001b[1;33m \u001b[0mt\u001b[0m\u001b[1;33m[\u001b[0m\u001b[1;36m0\u001b[0m\u001b[1;33m]\u001b[0m \u001b[1;33m=\u001b[0m \u001b[1;36m100\u001b[0m\u001b[1;33m\u001b[0m\u001b[1;33m\u001b[0m\u001b[0m\n\u001b[0m",
      "\u001b[1;31mTypeError\u001b[0m: 'tuple' object does not support item assignment"
     ]
    }
   ],
   "source": [
    "t = (3,6,9)\n",
    "print(t)\n",
    "t = t + (10,20)  #允許擴充\n",
    "print(t)\n",
    "t[0] = 100       #不允許更改，所以發生錯誤"
   ]
  },
  {
   "cell_type": "markdown",
   "metadata": {},
   "source": [
    "### <font color=#0000FF>Set : { }</font>\n",
    "* A set is an unordered collection with <u>no duplicate elements</u>. \n",
    "* Basic uses include membership testing and eliminating duplicate entries. \n",
    "* Set objects also support mathematical operations like \n",
    "    * union : $A \\cup B$\n",
    "    * intersection : $A \\cap B$\n",
    "    * difference : $A - B$ or $B - A$\n",
    "    * symmetric difference : $A \\bigtriangleup B$ or $A \\oplus B$"
   ]
  },
  {
   "cell_type": "markdown",
   "metadata": {
    "collapsed": true
   },
   "source": [
    "<html><table align=left><tr>\n",
    "<td><img src=\"https://aaimagestore.s3.amazonaws.com/july2017/0012890.005.png\" width=200 height=200 align=left>union</img></td>\n",
    "<td><img src=\"https://aaimagestore.s3.amazonaws.com/july2017/0012890.006.png\" width=200 height=200 align=left>intersection</img></td>\n",
    "<td><img src=\"https://eluniversomatematicoblog.files.wordpress.com/2017/04/operaciones_conjuntos1-e1492764522923.png\" width=200 height=200 align=left>difference</img></td>\n",
    "</tr></table></html>"
   ]
  },
  {
   "cell_type": "code",
   "execution_count": 25,
   "metadata": {},
   "outputs": [
    {
     "name": "stdout",
     "output_type": "stream",
     "text": [
      "{1, 3, 5, 7, 9}\n",
      "{1, 3, 5}\n",
      "{5}\n",
      "{1, 3, 5}\n",
      "{1, 3}\n",
      "{9, 7}\n"
     ]
    }
   ],
   "source": [
    "a = {1,3,5}\n",
    "b = {5,7,9}\n",
    "print(a.union(b))\n",
    "print(a)\n",
    "print(a.intersection(b))\n",
    "print(a)\n",
    "print(a.difference(b))\n",
    "print(b.difference(a))"
   ]
  },
  {
   "cell_type": "markdown",
   "metadata": {},
   "source": [
    "<img src=\"https://www.thoughtco.com/thmb/z7Dc8kkBd6k2TfiuYkmhqW70NHs=/768x0/filters:no_upscale():max_bytes(150000):strip_icc():format(webp)/symmetric-56a8fa9f5f9b58b7d0f6ea14.jpg\" width=300 height=300 align=left>symmetric difference(對稱差異) of two sets</img>"
   ]
  },
  {
   "cell_type": "code",
   "execution_count": 28,
   "metadata": {},
   "outputs": [
    {
     "name": "stdout",
     "output_type": "stream",
     "text": [
      "{1, 3, 7, 9}\n",
      "{1, 3, 7, 9}\n"
     ]
    }
   ],
   "source": [
    "a = {1,3,5}\n",
    "b = {5,7,9}\n",
    "print(a.symmetric_difference(b))\n",
    "print(b.symmetric_difference(a))"
   ]
  },
  {
   "cell_type": "code",
   "execution_count": 31,
   "metadata": {},
   "outputs": [
    {
     "name": "stdout",
     "output_type": "stream",
     "text": [
      "{80, 50, 60, 30}\n",
      "<class 'set'>\n"
     ]
    }
   ],
   "source": [
    "lst = set([30, 50, 80, 30, 60, 80]) #將 list 物件 轉換成 set 物件，資料就沒有重複\n",
    "print(lst)\n",
    "print(type(lst))"
   ]
  },
  {
   "cell_type": "code",
   "execution_count": 32,
   "metadata": {},
   "outputs": [
    {
     "name": "stdout",
     "output_type": "stream",
     "text": [
      "[80, 50, 60, 30]\n",
      "<class 'list'>\n"
     ]
    }
   ],
   "source": [
    "lst = list(set([30, 50, 80, 30, 60, 80])) #將 list 物件 轉換成 set 物件，再轉換回 list 物件\n",
    "print(lst)\n",
    "print(type(lst))"
   ]
  },
  {
   "cell_type": "markdown",
   "metadata": {},
   "source": [
    "### <font color=#0000FF>Dict : { }</font>\n",
    "\n",
    "* len(d)\n",
    "    * Return the number of items in the dictionary d.\n",
    "* d[key]\n",
    "    * Return the item of d with key key. Raises a KeyError if key is not in the map.\n",
    "* d[key] = value\n",
    "    * Set (or update) d[key] to value.\n",
    "* del d[key]\n",
    "    * Remove d[key] from d. Raises a KeyError if key is not in the map.\n",
    "* key in d\n",
    "    * Return True if d has a key key, else False.\n",
    "* key not in d\n",
    "    * Equivalent to not key in d.\n",
    "* iter(d)\n",
    "    * Return an iterator over the keys of the dictionary. This is a shortcut for iter(d.keys()).\n",
    "* clear()\n",
    "    * Remove all items from the dictionary.\n",
    "* copy()\n",
    "    * Return a shallow copy of the dictionary.\n",
    "* fromkeys() \n",
    "    * is a class method that returns a new dictionary. value defaults to None.\n",
    "    * classmethod fromkeys(seq[, value])\n",
    "    * Create a new dictionary with keys from seq and values set to value.\n",
    "* get(key[, default])\n",
    "    * Return the value for key if key is in the dictionary, else default. \n",
    "    * If default is not given, it defaults to None, so that this method never raises a KeyError.\n",
    "* items()\n",
    "    * Return a new view of the dictionary’s items ((key, value) pairs).\n",
    "* keys()\n",
    "    * Return a new view of the dictionary’s keys. See the documentation of view objects.\n",
    "* pop(key[, default])\n",
    "    * If key is in the dictionary, remove it and return its value, else return default. \n",
    "    * If default is not given and key is not in the dictionary, a KeyError is raised.\n",
    "* popitem()\n",
    "    * Remove and return an arbitrary (key, value) pair from the dictionary.\n",
    "    * popitem() is useful to destructively iterate over a dictionary, as often used in set algorithms. \n",
    "    * If the dictionary is empty, calling popitem() raises a KeyError.\n",
    "* setdefault(key[, default])\n",
    "    * If key is in the dictionary, return its value. If not, insert key with a value of default and return default. \n",
    "    * default defaults to None.\n",
    "* update([other])\n",
    "    * Update the dictionary with the key/value pairs from other, overwriting existing keys. Return None.\n",
    "    * update() accepts either another dictionary object or an iterable of key/value pairs (as tuples or other iterables of length two). \n",
    "    * If keyword arguments are specified, the dictionary is then updated with those key/value pairs: d.update(red=1, blue=2).\n",
    "* values()\n",
    "    * Return a new view of the dictionary’s values."
   ]
  },
  {
   "cell_type": "code",
   "execution_count": 35,
   "metadata": {},
   "outputs": [
    {
     "name": "stdout",
     "output_type": "stream",
     "text": [
      "dict_items([('a', 300), ('b', 50), ('c', 200)])\n",
      "dict_items([(1, 80), (2, [2, 5, 6])])\n"
     ]
    }
   ],
   "source": [
    "d1 = {\"a\":100, \"b\":50, \"c\":200, \"a\":300}  # key-value\n",
    "d2 = {1:80, 2:[2,5,6]}\n",
    "print(d1.items())\n",
    "print(d2.items())"
   ]
  },
  {
   "cell_type": "code",
   "execution_count": 37,
   "metadata": {},
   "outputs": [
    {
     "name": "stdout",
     "output_type": "stream",
     "text": [
      "dict_items([('a', 300), ('b', 50), ('c', 200)])\n",
      "3\n",
      "dict_keys(['a', 'b', 'c'])\n",
      "dict_values([300, 50, 200])\n"
     ]
    }
   ],
   "source": [
    "print(d1.items())\n",
    "print(len(d1.items()))\n",
    "print(d1.keys())\n",
    "print(d1.values())"
   ]
  },
  {
   "cell_type": "code",
   "execution_count": 47,
   "metadata": {},
   "outputs": [
    {
     "name": "stdout",
     "output_type": "stream",
     "text": [
      "300\n",
      "300\n",
      "None\n",
      "100\n",
      "dict_items([('a', 300), ('b', 50), ('c', 200), ('x', 100)])\n",
      "dict_items([('a', 300), ('b', 50), ('c', 200)])\n"
     ]
    }
   ],
   "source": [
    "d1 = {\"a\":100, \"b\":50, \"c\":200, \"a\":300}  # key-value\n",
    "print(d1[\"a\"])          #Python 的寫法\n",
    "print(d1.get(\"a\"))      #物件導向的寫法\n",
    "print(d1.get(\"x\"))      #當找不到 key 時，回傳 None\n",
    "d1[\"x\"]=100             #新增\n",
    "print(d1.get(\"x\"))\n",
    "print(d1.items())\n",
    "del d1[\"x\"]             #刪除\n",
    "print(d1.items())"
   ]
  },
  {
   "cell_type": "code",
   "execution_count": 72,
   "metadata": {},
   "outputs": [
    {
     "name": "stdout",
     "output_type": "stream",
     "text": [
      "None\n",
      "999\n"
     ]
    }
   ],
   "source": [
    "d1 = {\"a\":100, \"b\":50, \"c\":200, \"a\":300}  # key-value\n",
    "print(d1.get(\"x\")) \n",
    "print(d1.get(\"x\", 999)) "
   ]
  },
  {
   "cell_type": "markdown",
   "metadata": {},
   "source": [
    "#### <font color=#0000FF>lambda : 不具名的自訂函數(匿名函數)</font>"
   ]
  },
  {
   "cell_type": "code",
   "execution_count": 69,
   "metadata": {},
   "outputs": [
    {
     "name": "stdout",
     "output_type": "stream",
     "text": [
      "100\n"
     ]
    }
   ],
   "source": [
    "f = lambda x : x**2\n",
    "print(f(10))"
   ]
  },
  {
   "cell_type": "code",
   "execution_count": 73,
   "metadata": {},
   "outputs": [],
   "source": [
    "def f (x) : \n",
    "    return x**2"
   ]
  },
  {
   "cell_type": "code",
   "execution_count": 57,
   "metadata": {},
   "outputs": [
    {
     "name": "stdout",
     "output_type": "stream",
     "text": [
      "9\n"
     ]
    }
   ],
   "source": [
    "print((lambda x : x**2)(3))"
   ]
  },
  {
   "cell_type": "markdown",
   "metadata": {},
   "source": [
    "#### <font color=#0000FF>dict 依據key的排序</font>"
   ]
  },
  {
   "cell_type": "code",
   "execution_count": 59,
   "metadata": {},
   "outputs": [
    {
     "name": "stdout",
     "output_type": "stream",
     "text": [
      "[1, 2, 5, 9]\n",
      "[9, 5, 2, 1]\n"
     ]
    }
   ],
   "source": [
    "print(sorted([5,1,2,9]))\n",
    "print(sorted([5,1,2,9],reverse=True))"
   ]
  },
  {
   "cell_type": "code",
   "execution_count": 64,
   "metadata": {},
   "outputs": [
    {
     "name": "stdout",
     "output_type": "stream",
     "text": [
      "dict_items([('x', 100), ('a', 15), ('b', 30), ('y', 60), ('c', 200)])\n",
      "[('a', 15), ('b', 30), ('c', 200), ('x', 100), ('y', 60)]\n",
      "[('y', 60), ('x', 100), ('c', 200), ('b', 30), ('a', 15)]\n"
     ]
    }
   ],
   "source": [
    "d = {'x':100, 'a':15, 'b':30, 'y':60, 'c':200}\n",
    "print(d.items())\n",
    "sortd1 = sorted(d.items(), key=lambda x : x[0])\n",
    "sortd2 = sorted(d.items(), key=lambda x : x[0], reverse=True)\n",
    "print(sortd1)\n",
    "print(sortd2)"
   ]
  },
  {
   "cell_type": "markdown",
   "metadata": {},
   "source": [
    "#### <font color=#0000FF>dict 依據value的排序</font>"
   ]
  },
  {
   "cell_type": "code",
   "execution_count": 65,
   "metadata": {},
   "outputs": [
    {
     "name": "stdout",
     "output_type": "stream",
     "text": [
      "dict_items([('x', 100), ('a', 15), ('b', 30), ('y', 60), ('c', 200)])\n",
      "[('a', 15), ('b', 30), ('y', 60), ('x', 100), ('c', 200)]\n",
      "[('c', 200), ('x', 100), ('y', 60), ('b', 30), ('a', 15)]\n"
     ]
    }
   ],
   "source": [
    "d = {'x':100, 'a':15, 'b':30, 'y':60, 'c':200}\n",
    "print(d.items())\n",
    "sortd1 = sorted(d.items(), key=lambda y : y[1])\n",
    "sortd2 = sorted(d.items(), key=lambda y : y[1], reverse=True)\n",
    "print(sortd1)\n",
    "print(sortd2)"
   ]
  },
  {
   "cell_type": "markdown",
   "metadata": {},
   "source": [
    "#### <font color=#0000FF>從value找key，必須從頭掃到尾，逐一比對</font>"
   ]
  },
  {
   "cell_type": "code",
   "execution_count": 76,
   "metadata": {},
   "outputs": [
    {
     "name": "stdout",
     "output_type": "stream",
     "text": [
      "k=b v=30\n",
      "k=c v=30\n"
     ]
    }
   ],
   "source": [
    "d = {'x':100, 'a':15, 'b':30, 'y':60, 'c':30}\n",
    "for k, v in d.items() :\n",
    "    if v == 30:\n",
    "        print(\"k={} v={}\".format(k,v))"
   ]
  },
  {
   "cell_type": "markdown",
   "metadata": {},
   "source": [
    "### <font color=#0000FF>Strings</font>"
   ]
  },
  {
   "cell_type": "markdown",
   "metadata": {},
   "source": [
    "<font color=#0000FF>【字串格式format】</font>\n",
    "* Old : '%s %s' % ('one', 'two')\n",
    "* New : '{ } { }'.format('one', 'two')\n",
    "* Output : one two\n",
    "\n",
    "【數值】\n",
    "* Old : '%d %d' % (1, 2)\n",
    "* New :'{1} {0}'.format(2, 1)\n",
    "* Output : 1 2"
   ]
  },
  {
   "cell_type": "markdown",
   "metadata": {},
   "source": [
    "<font color=#0000FF>【字串函數】str method</font>\n",
    "- [String Methods](https://docs.python.org/3/library/stdtypes.html#string-methods)\n",
    "- 可以打 str.+[tab] 來查看"
   ]
  },
  {
   "cell_type": "code",
   "execution_count": 85,
   "metadata": {},
   "outputs": [
    {
     "name": "stdout",
     "output_type": "stream",
     "text": [
      "[\"It's\", 'a', 'Dog', '!!']\n",
      "['It', 's a Dog !!']\n",
      "[\"It's\", 'a', 'Dog', '!!']\n"
     ]
    }
   ],
   "source": [
    "s = \"It's a Dog !!\"\n",
    "print(s.split())\n",
    "print(s.split(sep=\"'\"))\n",
    "print(s.split(maxsplit=2))  #maxsplit : 切幾刀"
   ]
  },
  {
   "cell_type": "code",
   "execution_count": 90,
   "metadata": {},
   "outputs": [
    {
     "name": "stdout",
     "output_type": "stream",
     "text": [
      "-1\n"
     ]
    }
   ],
   "source": [
    "s = \"abcdefgabcxyzabcmno\"\n",
    "print(s.find(\"axb\"))"
   ]
  },
  {
   "cell_type": "markdown",
   "metadata": {},
   "source": [
    "#### <font color=#0000FF>str.split()無法切割 \"\" 空字串，怎麼辦?</font>"
   ]
  },
  {
   "cell_type": "code",
   "execution_count": 98,
   "metadata": {},
   "outputs": [
    {
     "name": "stdout",
     "output_type": "stream",
     "text": [
      "我 是 陳 祥 輝\n",
      "['我', '是', '陳', '祥', '輝']\n"
     ]
    }
   ],
   "source": [
    "s = \"我是陳祥輝\"\n",
    "s1 = \" \".join(s)\n",
    "print(s1)\n",
    "s2 = s1.split(sep=\" \")\n",
    "print(s2)"
   ]
  },
  {
   "cell_type": "code",
   "execution_count": 100,
   "metadata": {},
   "outputs": [
    {
     "name": "stdout",
     "output_type": "stream",
     "text": [
      "['我', '是', '陳', '祥', '輝']\n"
     ]
    }
   ],
   "source": [
    "s = \"我是陳祥輝\"\n",
    "print(\" \".join(s).split())"
   ]
  },
  {
   "cell_type": "code",
   "execution_count": 99,
   "metadata": {},
   "outputs": [
    {
     "name": "stdout",
     "output_type": "stream",
     "text": [
      "我;是;陳;祥;輝\n",
      "['我', '是', '陳', '祥', '輝']\n"
     ]
    }
   ],
   "source": [
    "s = \"我是陳祥輝\"\n",
    "s1 = \";\".join(s)\n",
    "print(s1)\n",
    "s2 = s1.split(sep=\";\")\n",
    "print(s2)"
   ]
  },
  {
   "cell_type": "markdown",
   "metadata": {},
   "source": [
    "#### <font color=#0000FF>回傳多個物件的函數</font>"
   ]
  },
  {
   "cell_type": "code",
   "execution_count": 77,
   "metadata": {},
   "outputs": [],
   "source": [
    "def demoFun() :\n",
    "    x = 10\n",
    "    y = 20\n",
    "    z = 30\n",
    "    return x, y , z"
   ]
  },
  {
   "cell_type": "code",
   "execution_count": 78,
   "metadata": {},
   "outputs": [
    {
     "name": "stdout",
     "output_type": "stream",
     "text": [
      "10\n",
      "20\n",
      "30\n"
     ]
    }
   ],
   "source": [
    "a, b , c = demoFun()\n",
    "print(a)\n",
    "print(b)\n",
    "print(c)"
   ]
  },
  {
   "cell_type": "code",
   "execution_count": 79,
   "metadata": {},
   "outputs": [
    {
     "name": "stdout",
     "output_type": "stream",
     "text": [
      "(10, 20, 30)\n"
     ]
    }
   ],
   "source": [
    "lst = demoFun()\n",
    "print(lst)"
   ]
  },
  {
   "cell_type": "markdown",
   "metadata": {},
   "source": [
    "### <font color=#0000FF>【homework04】2019/03/26</font>"
   ]
  },
  {
   "cell_type": "markdown",
   "metadata": {
    "collapsed": true
   },
   "source": [
    "<font color=#0000FF>(001)請寫一個函數int findSubStr(sentence,sub)，可以輸入一個字串與子字串，回應出該子字串出現過幾次</font>"
   ]
  },
  {
   "cell_type": "code",
   "execution_count": null,
   "metadata": {},
   "outputs": [],
   "source": []
  },
  {
   "cell_type": "markdown",
   "metadata": {},
   "source": [
    "<font color=#0000FF>(002)請寫一個函數dict countWords()，可以由Console輸入資料(使用input())，一次輸入不限制一種型態的一個資料，也就是自己要去切割(split)，直至輸入0000就結束，輸出三個dict物件，分別為以下三類的dict物件，每個物件會幫你(妳)計算相同資料輸入的次數</font>\n",
    "- dict1 : 數值型態(0,1,2,3,4,5,6,7,8,9)\n",
    "- dict2 : 英文文字(a-z, A-Z)\n",
    "- dict3 : 中文文字\n",
    "\n",
    "[提示]\n",
    "可以使用[String Methods](https://docs.python.org/3/library/stdtypes.html#string-methods)內的方法(method)"
   ]
  },
  {
   "cell_type": "code",
   "execution_count": 86,
   "metadata": {},
   "outputs": [],
   "source": [
    "import string"
   ]
  },
  {
   "cell_type": "markdown",
   "metadata": {},
   "source": [
    "string.+[tab]"
   ]
  }
 ],
 "metadata": {
  "kernelspec": {
   "display_name": "Python 3",
   "language": "python",
   "name": "python3"
  },
  "language_info": {
   "codemirror_mode": {
    "name": "ipython",
    "version": 3
   },
   "file_extension": ".py",
   "mimetype": "text/x-python",
   "name": "python",
   "nbconvert_exporter": "python",
   "pygments_lexer": "ipython3",
   "version": "3.7.1"
  }
 },
 "nbformat": 4,
 "nbformat_minor": 2
}
