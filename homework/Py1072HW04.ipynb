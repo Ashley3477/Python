{
 "cells": [
  {
   "cell_type": "markdown",
   "metadata": {},
   "source": [
    "【課程名稱】107年度第二學期 Python程式設計<br>\n",
    "【題目設計】陳祥輝 (email : <HsiangHui.Chen@gmail.com>)<br>\n",
    "【作業名稱】HW04 字串函數與dict物件的練習<br>\n",
    "【學生學號】<br>\n",
    "【學生姓名】<br>\n",
    "【繳交檔案】檔名原則 : HW04_ + 學號 + 姓名，兩個檔案格式皆要交例如 : \n",
    "- HW04_512345678陳祥輝.ipynb \n",
    "- HW04_512345678陳祥輝.html"
   ]
  },
  {
   "cell_type": "markdown",
   "metadata": {},
   "source": [
    "<font color=#0000FF>(001)請寫一個函數int findSubStr(sentence,sub)，可以輸入一個字串與子字串，回應出該子字串出現過幾次</font>"
   ]
  },
  {
   "cell_type": "code",
   "execution_count": 10,
   "metadata": {},
   "outputs": [],
   "source": [
    "def findSubStr(sentence, sub):\n",
    "    cnter = pos = 0\n",
    "    while True:\n",
    "        pos = sentence.find(sub, pos)\n",
    "        if pos < 0: break\n",
    "        cnter = cnter + 1\n",
    "        pos = pos + 1\n",
    "    return cnter"
   ]
  },
  {
   "cell_type": "code",
   "execution_count": 11,
   "metadata": {},
   "outputs": [
    {
     "data": {
      "text/plain": [
       "4"
      ]
     },
     "execution_count": 11,
     "metadata": {},
     "output_type": "execute_result"
    }
   ],
   "source": [
    "findSubStr('ajskcjdsfjoidejf', 'j')"
   ]
  },
  {
   "cell_type": "code",
   "execution_count": null,
   "metadata": {},
   "outputs": [],
   "source": []
  },
  {
   "cell_type": "markdown",
   "metadata": {},
   "source": [
    "<font color=#0000FF>(002)請寫一個函數dict countWords()，可以由Console輸入資料(使用input())，一次輸入不限制一種型態的一個資料，也就是自己要去切割(split)，直至輸入0000就結束，輸出三個dict物件，分別為以下三類的dict物件，每個物件會幫你(妳)計算相同資料輸入的次數</font>\n",
    "- dict1 : 數值型態(0,1,2,3,4,5,6,7,8,9)\n",
    "- dict2 : 英文文字(a-z, A-Z)\n",
    "- dict3 : 中文文字\n",
    "\n",
    "[提示]\n",
    "可以使用[String Methods](https://docs.python.org/3/library/stdtypes.html#string-methods)內的方法(method)"
   ]
  },
  {
   "cell_type": "code",
   "execution_count": 20,
   "metadata": {},
   "outputs": [],
   "source": [
    "import string"
   ]
  },
  {
   "cell_type": "markdown",
   "metadata": {},
   "source": [
    "string.+[tab]"
   ]
  },
  {
   "cell_type": "code",
   "execution_count": 23,
   "metadata": {},
   "outputs": [
    {
     "name": "stdout",
     "output_type": "stream",
     "text": [
      "abcdefghijklmnopqrstuvwxyzABCDEFGHIJKLMNOPQRSTUVWXYZ\n",
      "0123456789\n",
      "!\"#$%&'()*+,-./:;<=>?@[\\]^_`{|}~\n"
     ]
    }
   ],
   "source": [
    "print(string.ascii_letters)\n",
    "print(string.digits)\n",
    "print(string.punctuation)"
   ]
  },
  {
   "cell_type": "markdown",
   "metadata": {},
   "source": [
    "step 1. 先寫一個計算字數的小函數"
   ]
  },
  {
   "cell_type": "code",
   "execution_count": 26,
   "metadata": {},
   "outputs": [],
   "source": [
    "def process(dict, word):\n",
    "    if dict.get(word) == None:\n",
    "        dict[word] = 1\n",
    "    else :\n",
    "        dict[word] = dict.get(word) + 1"
   ]
  },
  {
   "cell_type": "markdown",
   "metadata": {},
   "source": [
    "step 2. 第一個版本，使用者只能輸入一次"
   ]
  },
  {
   "cell_type": "code",
   "execution_count": 28,
   "metadata": {},
   "outputs": [
    {
     "name": "stdout",
     "output_type": "stream",
     "text": [
      "請輸入一些資料:rfeiorjofj%1235\n"
     ]
    }
   ],
   "source": [
    "lst = [{} for _ in range(4)]\n",
    "inputData = input('請輸入一些資料:')\n",
    "for word in inputData:\n",
    "    if word in string.digits:process(lst[0], word)\n",
    "    elif word in string.ascii_letters:process(lst[1], word)\n",
    "    elif word in string.punctuation:process(lst[2],word)\n",
    "    else:process(lst[3], word)"
   ]
  },
  {
   "cell_type": "code",
   "execution_count": 29,
   "metadata": {},
   "outputs": [
    {
     "name": "stdout",
     "output_type": "stream",
     "text": [
      "{'1': 1, '2': 1, '3': 1, '5': 1}\n",
      "{'r': 2, 'f': 2, 'e': 1, 'i': 1, 'o': 2, 'j': 2}\n",
      "{'%': 1}\n",
      "{}\n"
     ]
    }
   ],
   "source": [
    "print(lst[0])\n",
    "print(lst[1])\n",
    "print(lst[2])\n",
    "print(lst[3])"
   ]
  },
  {
   "cell_type": "markdown",
   "metadata": {},
   "source": [
    "step 3. 加入迴圈讓使用者可以多次輸入，直到輸入 '0000' 為止"
   ]
  },
  {
   "cell_type": "code",
   "execution_count": 32,
   "metadata": {},
   "outputs": [
    {
     "name": "stdout",
     "output_type": "stream",
     "text": [
      "請輸入一串資料:adhfleufhey%^&*256*` 9\n",
      "請輸入一些資料:0000\n"
     ]
    }
   ],
   "source": [
    "lst = [{} for _ in range(4)]\n",
    "inputData = input('請輸入一串資料:')\n",
    "while inputData != '0000' :\n",
    "    for word in inputData:\n",
    "        if word in string.digits:process(lst[0],word)\n",
    "        elif word in string.ascii_letters : process(lst[1], word)\n",
    "        elif word in string.punctuation:process(lst[2], word)\n",
    "        else : process(lst[3], word)\n",
    "    inputData = input('請輸入一些資料:')"
   ]
  },
  {
   "cell_type": "code",
   "execution_count": 34,
   "metadata": {
    "scrolled": false
   },
   "outputs": [
    {
     "name": "stdout",
     "output_type": "stream",
     "text": [
      "[{'2': 1, '5': 1, '6': 1, '9': 1}, {'a': 1, 'd': 1, 'h': 2, 'f': 2, 'l': 1, 'e': 2, 'u': 1, 'y': 1}, {'%': 1, '^': 1, '&': 1, '*': 2, '`': 1}, {' ': 1}]\n"
     ]
    }
   ],
   "source": [
    "print([lst[i] for i in range(4)])"
   ]
  },
  {
   "cell_type": "code",
   "execution_count": null,
   "metadata": {},
   "outputs": [],
   "source": []
  }
 ],
 "metadata": {
  "kernelspec": {
   "display_name": "Python 3",
   "language": "python",
   "name": "python3"
  },
  "language_info": {
   "codemirror_mode": {
    "name": "ipython",
    "version": 3
   },
   "file_extension": ".py",
   "mimetype": "text/x-python",
   "name": "python",
   "nbconvert_exporter": "python",
   "pygments_lexer": "ipython3",
   "version": "3.7.3"
  }
 },
 "nbformat": 4,
 "nbformat_minor": 2
}
