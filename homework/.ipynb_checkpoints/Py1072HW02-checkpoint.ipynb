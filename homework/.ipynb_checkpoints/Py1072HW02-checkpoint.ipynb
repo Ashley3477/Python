{
 "cells": [
  {
   "cell_type": "markdown",
   "metadata": {},
   "source": [
    "【課程名稱】107年度第二學期 Python程式設計<br>\n",
    "【題目設計】陳祥輝 (email : <HsiangHui.Chen@gmail.com>)<br>\n",
    "【作業名稱】HW02 邏輯訓練<br>\n",
    "【學生學號】<br>\n",
    "【學生姓名】<br>\n",
    "【繳交檔案】檔名原則 : HW02_ + 學號 + 姓名，兩個檔案格式皆要交例如 : \n",
    "- HW02_512345678陳祥輝.ipynb \n",
    "- HW02_512345678陳祥輝.html"
   ]
  },
  {
   "cell_type": "markdown",
   "metadata": {},
   "source": [
    "<font color=#0000FF>(001-01)大家總是喜歡玩猜拳遊戲，請寫一個與電腦猜拳的遊戲，(1)剪刀 < (2)石頭 < (3)布 < (1)剪刀 <br>\n",
    "使用者輸入1, 2, 3來代表，電腦輸出要是剪刀、石頭、布</font>\n",
    "* 1 : 剪刀\n",
    "* 2 : 石頭\n",
    "* 3 : 布"
   ]
  },
  {
   "cell_type": "markdown",
   "metadata": {},
   "source": [
    "- ['剪刀', '石頭', '布']\n",
    "- ['獵人', '老虎', '槍']\n",
    "- ['蟲', '雞', '老虎', '棒']"
   ]
  },
  {
   "cell_type": "code",
   "execution_count": 1,
   "metadata": {},
   "outputs": [],
   "source": [
    "import numpy as np\n",
    "import string"
   ]
  },
  {
   "cell_type": "code",
   "execution_count": 4,
   "metadata": {},
   "outputs": [
    {
     "name": "stdout",
     "output_type": "stream",
     "text": [
      "電腦出3:布\n",
      "請輸入1-3的值:3\n",
      "輸入者出3:布\n",
      "電腦出:2 使用者出:2 結果:平手，再來一次吧\n"
     ]
    }
   ],
   "source": [
    "labels = ['剪刀', '石頭', '布']\n",
    "n = len(labels)\n",
    "rnd = np.random.choice(range(1,n+1))\n",
    "print('電腦出{}:{}'.format(rnd,labels[rnd-1]))\n",
    "\n",
    "usr = 0\n",
    "while usr not in range(1,n+1):\n",
    "    usr = input('請輸入{}-{}的值:'.format(1,n))\n",
    "    if int(usr) in range(1,n+1):\n",
    "        usr = int(usr)\n",
    "print('輸入者出{}:{}'.format(usr, labels[usr-1]))\n",
    "\n",
    "if usr - rnd == -2 or usr - rnd == 1:\n",
    "    result = '您獲勝了!'\n",
    "elif usr - rnd == 2 or usr - rnd == -1:\n",
    "    result = '您輸了'\n",
    "else:\n",
    "    result = '平手，再來一次吧'\n",
    "print('電腦出:{} 使用者出:{} 結果:{}'.format(rnd-1, usr-1, result))"
   ]
  },
  {
   "cell_type": "code",
   "execution_count": null,
   "metadata": {},
   "outputs": [],
   "source": [
    "labels = ['剪刀', '石頭', '布']\n",
    "n = len(labels)\n",
    "rnd = np.random.choice(range(1,n+1))\n",
    "print(rnd)\n",
    "print('電腦出:{},{}'.format(rnd, labels[rnd-1]))\n",
    "\n",
    "usr = 0\n",
    "while usr not in range(1,n+1):\n",
    "    usr = input('請輸入一個{}-{}的值'.format(1,n))\n",
    "    if usr in string.digits:\n",
    "        usr = int(usr)\n",
    "print('輸入者出:{},{}'.format(usr, labels[usr-1]))\n",
    "\n",
    "if usr - rnd == -2 or usr - rnd == 1:\n",
    "    result = '您獲勝了!'\n",
    "elif usr - rnd == -1 or usr - rnd == 2:\n",
    "    result = '慘 您輸了!'\n",
    "else :\n",
    "    result = '平手 在猜一次吧'\n",
    "print('電腦出:{}, 輸入者出:{}, 結果:{}'.format(rnd-1, usr-1, result))"
   ]
  },
  {
   "cell_type": "code",
   "execution_count": null,
   "metadata": {},
   "outputs": [],
   "source": []
  },
  {
   "cell_type": "markdown",
   "metadata": {},
   "source": [
    "<font color=#0000FF>(001-02)請將以上的遊戲改成 獵人、老虎、槍，(1)獵人 < (2)老虎 < (3)槍 < (1)獵人<br>\n",
    "使用者輸入1, 2, 3來代表，電腦輸出要是獵人、老虎、槍</font>\n",
    "* 1 : 獵人\n",
    "* 2 : 老虎\n",
    "* 3 : 槍"
   ]
  },
  {
   "cell_type": "code",
   "execution_count": null,
   "metadata": {},
   "outputs": [],
   "source": [
    "labels = ['獵人', '老虎', '槍']\n",
    "n = len(labels)\n",
    "rnd = np.random.choice(range(1,n+1))\n",
    "print('電腦出:{},{}'.format(rnd, labels[rnd-1]))\n",
    "\n",
    "usr = 0\n",
    "while usr not in range(1, n+1):\n",
    "    usr = input('請輸入一個{}-{}的數字'.format(1,n))\n",
    "    if usr in string.digits:usr = int(usr)\n",
    "print('使用者出:{},{}'.format(usr-1, labels[usr-1]))\n",
    "        "
   ]
  },
  {
   "cell_type": "code",
   "execution_count": null,
   "metadata": {},
   "outputs": [],
   "source": [
    "labels = ['獵人', '老虎', '槍']\n",
    "n = len(labels)\n",
    "rnd = np.random.choice(range(1,n+1))\n",
    "print('電腦出{}:{}'.format(rnd,labels[rnd-1]))\n",
    "\n",
    "usr = 0\n",
    "while usr not in range(1,n+1):\n",
    "    usr = input('請輸入一個{}-{}的值'.format(1,n))\n",
    "    if usr in string.digits:\n",
    "        usr = int(usr)\n",
    "print('輸入者出:{},{}'.format(usr-1, labels[usr-1]))\n",
    "\n",
    "if usr - rnd == 1 or usr - rnd == -2 :\n",
    "    result = '您獲勝了!'\n",
    "elif rnd -usr == 1 or rnd - usr == -2 :\n",
    "    result = '慘 您輸了!'\n",
    "else :    \n",
    "    result = '平手 在猜一次吧'\n",
    "    \n",
    "print('電腦出 : {}, 您出 : {}, 結果 :　{}'.format(labels[rnd-1], labels[usr-1], result))  \n",
    "3"
   ]
  },
  {
   "cell_type": "code",
   "execution_count": null,
   "metadata": {},
   "outputs": [],
   "source": []
  },
  {
   "cell_type": "markdown",
   "metadata": {},
   "source": [
    "<font color=#0000FF>(001-03)請將以上的遊戲改成，棒打老虎雞吃蟲，(1)蟲 < (2)雞 < (3)老虎 < (4)棒 < (1)蟲<br>\n",
    "使用者輸入1, 2, 3, 4來代表，電腦輸出要是蟲、雞、老虎、棒</font>\n",
    "* 1 : 蟲\n",
    "* 2 : 雞\n",
    "* 3 : 老虎\n",
    "* 4 : 棒   "
   ]
  },
  {
   "cell_type": "code",
   "execution_count": null,
   "metadata": {},
   "outputs": [],
   "source": [
    "labels = ['蟲', '雞', '老虎', '棒']\n",
    "n = len(labels)\n",
    "rnd = np.random.choice(range(1,n+1))\n",
    "print('電腦出:{}'.format(rnd, labels[rnd-1]))\n",
    "\n",
    "usr = 0\n",
    "while usr not in range(1,n+1):\n",
    "    usr = input('請輸入一個{}-{}的數值'.format(1,n+1))\n",
    "    if usr in string.digits:usr = int(usr)\n",
    "print('使用者出:{},{}'.format(usr,labels[usr-1]))"
   ]
  },
  {
   "cell_type": "code",
   "execution_count": null,
   "metadata": {},
   "outputs": [],
   "source": [
    "labels = ['蟲', '雞', '老虎', '棒']\n",
    "n = len(labels)\n",
    "rnd = np.random.choice(range(1,n+1))\n",
    "print('電腦出:{},{}'.format(rnd-1,labels[rnd-1]))\n",
    "\n",
    "usr = 0\n",
    "while usr not in range(1,n+1):\n",
    "    usr = input('請輸入一個{}-{}的值'.format(usr-1,labels[usr-1]))\n",
    "    if usr in string.digits:\n",
    "        usr = int(usr)\n",
    "print('輸入者出:{},{}'.format(usr-1, labels[usr-1]))\n",
    "\n",
    "if usr - rnd == 1 or usr - rnd == -3:\n",
    "    result = '讚! 您獲勝拉'\n",
    "elif usr - rnd == -1 or usr - rnd == 3:\n",
    "    result = '慘 您輸囉'\n",
    "else :\n",
    "    result = '平手'\n",
    "print('電腦出:{}, 輸入者出:{}, 結果:{}'.format(rnd-1, usr-1,result))"
   ]
  },
  {
   "cell_type": "code",
   "execution_count": null,
   "metadata": {},
   "outputs": [],
   "source": [
    "labels = ['蟲', '雞', '老虎', '棒']\n",
    "n = len(labels)\n",
    "rnd = np.random.choice(range(1,n))\n",
    "print('電腦出:{},{}'.format(rnd-1,labels[rnd-1]))\n",
    "\n",
    "usr = 0\n",
    "while usr not in range(1,n+1):\n",
    "    usr = input('請輸入一個{}-{}的值'.format(1,n))\n",
    "    if usr in string.digits:\n",
    "        usr = int(usr)\n",
    "print('輸入者出:{},{}'.format(usr-1, labels[usr-1]))\n",
    "\n",
    "if usr - rnd == 1 or usr - rnd == -(n-1):\n",
    "    result = '讚! 您獲勝拉'\n",
    "elif usr - rnd == -1 or usr - rnd == (n-1):\n",
    "    result = '慘 您輸囉'\n",
    "else :\n",
    "    result = '平手'\n",
    "print('電腦出:{}, 輸入者出:{}, 結果:{}'.format(rnd-1, usr-1,result))"
   ]
  },
  {
   "cell_type": "code",
   "execution_count": null,
   "metadata": {},
   "outputs": [],
   "source": [
    "def game(labels) :\n",
    "    n = len(labels)\n",
    "    rnd = np.random.choice(range(1,n))\n",
    "    print('電腦出:{},{}'.format(rnd-1,labels[rnd-1]))\n",
    "\n",
    "    usr = 0\n",
    "    while usr not in range(1,n+1):\n",
    "        usr = input('請輸入一個{}-{}的值'.format(1,n))\n",
    "        if usr in string.digits:\n",
    "            usr = int(usr)\n",
    "    print('輸入者出:{},{}'.format(usr-1, labels[usr-1]))\n",
    "\n",
    "    if usr - rnd == 1 or usr - rnd == -(n-1):\n",
    "        result = '讚! 您獲勝拉'\n",
    "    elif usr - rnd == -1 or usr - rnd == (n-1):\n",
    "        result = '慘 您輸囉'\n",
    "    else :\n",
    "        result = '平手'\n",
    "    print('電腦出:{}, 輸入者出:{}, 結果:{}'.format(rnd-1, usr-1,result))"
   ]
  },
  {
   "cell_type": "code",
   "execution_count": null,
   "metadata": {},
   "outputs": [],
   "source": [
    "labels = ['剪刀', '石頭', '布']\n",
    "game(labels)"
   ]
  },
  {
   "cell_type": "code",
   "execution_count": null,
   "metadata": {},
   "outputs": [],
   "source": [
    "labels = ['獵人', '老虎', '槍']\n",
    "game(labels)\n"
   ]
  },
  {
   "cell_type": "code",
   "execution_count": null,
   "metadata": {},
   "outputs": [],
   "source": [
    "labels = ['蟲', '雞', '老虎', '棒']\n",
    "game(labels)"
   ]
  },
  {
   "cell_type": "markdown",
   "metadata": {},
   "source": [
    "<font color=#0000FF>(002-01)小時候我們常常玩猜數字遊戲，現在我們要寫一個小小的遊戲與電腦玩，規則如下:</font>\n",
    "1. 電腦先隨機產生一組四位數的數字，例如:<font color=#FF0000>5691</font>，每一個數字不可以重複，左邊第一個數字不可以為0\n",
    "2. 使用者不斷猜這一組數字，只要猜到的數字有在其中，位置相同數字相同就給個A，位置不同數字相同就給個B，例如猜 <font color=#FF0000>1650</font>，因為有猜到 1, 5, 6，其中 6 的位置又相同，其他位置不同，所以電腦要給 1A2B。"
   ]
  },
  {
   "cell_type": "code",
   "execution_count": null,
   "metadata": {},
   "outputs": [],
   "source": [
    "rnd = '0'\n",
    "while rnd[0] =='0':\n",
    "    rnd = np.random.choice(list(string.digits),4,replace=False)\n",
    "    rnd = \"\".join(rnd)\n",
    "print('電腦產生的數值:{}'.format(rnd))\n",
    "\n",
    "usr = ''\n",
    "while not usr.isdigit():\n",
    "    usr = input('請輸入一個四位數:')\n",
    "print('使用者輸入:{}'.format(usr))\n",
    "\n",
    "A = B = 0\n",
    "for i in range(4):\n",
    "    if usr[i] ==rnd[i]:\n",
    "        A = A + 1\n",
    "    elif usr[i] == rnd:\n",
    "        B = B + 1\n",
    "print('{}A{}B'.format(A,B))"
   ]
  },
  {
   "cell_type": "code",
   "execution_count": null,
   "metadata": {},
   "outputs": [],
   "source": []
  },
  {
   "cell_type": "code",
   "execution_count": null,
   "metadata": {},
   "outputs": [],
   "source": []
  },
  {
   "cell_type": "code",
   "execution_count": null,
   "metadata": {},
   "outputs": [],
   "source": [
    "import numpy as np\n",
    "import string"
   ]
  },
  {
   "cell_type": "code",
   "execution_count": null,
   "metadata": {},
   "outputs": [],
   "source": [
    "rnd = '0'\n",
    "while rnd[0] == '0':\n",
    "    rnd = np.random.choice(list(string.digits),4,replace=False) #string.digits\n",
    "    rnd = \"\".join(rnd) #和在一起\n",
    "print('電腦產生的四位數:{}'.format(rnd))\n",
    "\n"
   ]
  },
  {
   "cell_type": "code",
   "execution_count": null,
   "metadata": {},
   "outputs": [],
   "source": [
    "rnd = '0'\n",
    "while rnd[0] == '0':\n",
    "    rnd = ''.join(np.random.choice(list(string.digits),4,replace=False))\n",
    "print('電腦產生的四位數:{}'.format(rnd))"
   ]
  },
  {
   "cell_type": "code",
   "execution_count": null,
   "metadata": {},
   "outputs": [],
   "source": [
    "rnd = '0'\n",
    "while rnd[0] == '0':\n",
    "    rnd = ''.join(np.random.choice(list(string.digits),4,replace=False))\n",
    "print('電腦產生四位數:{}'.format(rnd))\n",
    "\n",
    "usr = ''\n",
    "while not usr.isdigit():\n",
    "    usr = input('請輸入一個四位數:')\n",
    "print('使用者數字:{}'.format(usr))"
   ]
  },
  {
   "cell_type": "code",
   "execution_count": null,
   "metadata": {},
   "outputs": [],
   "source": [
    "A = B = 0\n",
    "for i in range(4):\n",
    "    if usr[i] == rnd[i] :\n",
    "        A = A + 1\n",
    "    elif usr[i] in rnd:\n",
    "        B = B + 1\n",
    "print('{}A{}B'.format(A, B))"
   ]
  },
  {
   "cell_type": "markdown",
   "metadata": {},
   "source": [
    "<font color=#0000FF>(002-02)以上的題目，請用迴圈更改成可以不斷猜，直到使用者輸入\"0000\"表示放棄不玩，或是猜對為止。結束後，系統必須告知答案，以及使用者總共玩了幾次，猜過哪些數字</font>"
   ]
  },
  {
   "cell_type": "markdown",
   "metadata": {},
   "source": [
    "思考step 4 : 加入迴圈讓使用者不斷猜，直到猜對或是使用者輸入 '0000' 投降不玩"
   ]
  },
  {
   "cell_type": "code",
   "execution_count": null,
   "metadata": {},
   "outputs": [],
   "source": [
    "rnd = '0'\n",
    "while rnd[0] == '0':\n",
    "    rnd = ''.join(np.random.choice(list(string.digits),4,replace=False))\n",
    "print('電腦隨機產生的四位數:{}'.format(rnd))\n",
    "\n",
    "A = B = 0\n",
    "while A != 4:\n",
    "    usr = ''\n",
    "    while not usr.isdigit():\n",
    "        usr = input('請輸入一個四位數:')\n",
    "    print('使用者輸入:{}'.format(usr))\n",
    "    if usr == '0000': break\n",
    "    \n",
    "    A = B = 0\n",
    "    for i in range(4):\n",
    "        if usr[i] == rnd[i]:\n",
    "            A = A + 1\n",
    "        elif usr[i] in rnd:\n",
    "            B = B + 1\n",
    "    print('{}A{}B'.format(A, B))\n",
    "print('{}'.format('恭喜 您猜中了'if A==4 else '使用者放棄'))\n"
   ]
  },
  {
   "cell_type": "markdown",
   "metadata": {},
   "source": [
    "思考step 5 : 將四位數的 4 抽離成為 nDigits，並且加入一個收集使用者猜過的數字 lists"
   ]
  },
  {
   "cell_type": "code",
   "execution_count": null,
   "metadata": {},
   "outputs": [],
   "source": [
    "nDigits = 4 \n",
    "rnd = '0'\n",
    "while rnd[0] == '0':\n",
    "    rnd = ''.join(np.random.choice(list(string.digits),nDigits,replace=False))\n",
    "print('電腦隨機產生的四位數:{}'.format(rnd))\n",
    "\n",
    "A = B = 0\n",
    "lists = list()\n",
    "while A != nDigits:\n",
    "    usr = ''\n",
    "    while not usr.isdigit():\n",
    "        usr = input('請輸入一個四位數:')\n",
    "    print('使用者輸入:{}'.format(usr))\n",
    "    if usr == '0000': break\n",
    "    \n",
    "    A = B = 0\n",
    "    for i in range(nDigits):\n",
    "        if usr[i] == rnd[i]:\n",
    "            A = A + 1\n",
    "        elif usr[i] in rnd:\n",
    "            B = B + 1\n",
    "    print('{}A{}B'.format(A, B))\n",
    "print('{}'.format('恭喜 您猜中了'if A==nDigits else '使用者放棄'))\n",
    "print('您共猜過{}次:{}'.format(len(lists), lists))"
   ]
  },
  {
   "cell_type": "markdown",
   "metadata": {},
   "source": [
    "思考step 6 : 抽離出來寫成函數，並將 nDigits 改為 5 來執行"
   ]
  },
  {
   "cell_type": "code",
   "execution_count": null,
   "metadata": {},
   "outputs": [],
   "source": [
    "def game(nDigits = 4):\n",
    "    rnd = '0'\n",
    "    while rnd[0] == '0':\n",
    "        rnd = ''.join(np.random.choice(list(string.digits),nDigits,replace=False))\n",
    "    print('電腦隨機產生的四位數:{}'.format(rnd))\n",
    "\n",
    "    A = B = 0\n",
    "    lists = list()\n",
    "    while A != nDigits:\n",
    "        usr = ''\n",
    "        while not usr.isdigit():\n",
    "            usr = input('請輸入一個四位數:')\n",
    "        print('使用者輸入:{}'.format(usr))\n",
    "        if usr == '0000': break\n",
    "    \n",
    "        A = B = 0\n",
    "        for i in range(nDigits):\n",
    "            if usr[i] == rnd[i]:\n",
    "                A = A + 1\n",
    "            elif usr[i] in rnd:\n",
    "                B = B + 1\n",
    "        print('{}A{}B'.format(A, B))\n",
    "    print('{}'.format('恭喜 您猜中了'if A==nDigits else '使用者放棄'))\n",
    "    print('您共猜過{}次:{}'.format(len(lists), lists))"
   ]
  },
  {
   "cell_type": "code",
   "execution_count": null,
   "metadata": {},
   "outputs": [],
   "source": [
    "game(5)"
   ]
  },
  {
   "cell_type": "code",
   "execution_count": null,
   "metadata": {},
   "outputs": [],
   "source": []
  },
  {
   "cell_type": "code",
   "execution_count": null,
   "metadata": {},
   "outputs": [],
   "source": []
  }
 ],
 "metadata": {
  "kernelspec": {
   "display_name": "Python 3",
   "language": "python",
   "name": "python3"
  },
  "language_info": {
   "codemirror_mode": {
    "name": "ipython",
    "version": 3
   },
   "file_extension": ".py",
   "mimetype": "text/x-python",
   "name": "python",
   "nbconvert_exporter": "python",
   "pygments_lexer": "ipython3",
   "version": "3.7.3"
  }
 },
 "nbformat": 4,
 "nbformat_minor": 2
}
