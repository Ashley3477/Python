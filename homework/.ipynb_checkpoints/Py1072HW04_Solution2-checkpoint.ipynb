{
 "cells": [
  {
   "cell_type": "markdown",
   "metadata": {},
   "source": [
    "【課程名稱】107年度第二學期 Python程式設計<br>\n",
    "【題目設計】陳祥輝 (email : <HsiangHui.Chen@gmail.com>)<br>\n",
    "【作業名稱】HW04 字串函數與dict物件的練習<br>\n",
    "【學生學號】<br>\n",
    "【學生姓名】<br>\n",
    "【繳交檔案】檔名原則 : HW04_ + 學號 + 姓名，兩個檔案格式皆要交例如 : \n",
    "- HW04_512345678陳祥輝.ipynb \n",
    "- HW04_512345678陳祥輝.html"
   ]
  },
  {
   "cell_type": "markdown",
   "metadata": {},
   "source": [
    "<font color=#0000FF>(001)請寫一個函數int findSubStr(sentence,sub)，可以輸入一個字串與子字串，回應出該子字串出現過幾次</font>"
   ]
  },
  {
   "cell_type": "markdown",
   "metadata": {},
   "source": [
    "str.+[tab]"
   ]
  },
  {
   "cell_type": "code",
   "execution_count": 20,
   "metadata": {},
   "outputs": [
    {
     "data": {
      "text/plain": [
       "7"
      ]
     },
     "execution_count": 20,
     "metadata": {},
     "output_type": "execute_result"
    }
   ],
   "source": [
    "\"abcmxldabcdexyzabcaxlscabcllx\".find(\"abc\",0+1)"
   ]
  },
  {
   "cell_type": "code",
   "execution_count": 23,
   "metadata": {},
   "outputs": [],
   "source": [
    "def findSubStr(sentence,sub):\n",
    "    pos = cnter = 0\n",
    "    while pos != -1 :\n",
    "        pos = sentence.find(sub,pos)\n",
    "        if pos != -1 :\n",
    "            cnter = cnter + 1\n",
    "            pos = pos + 1\n",
    "    return cnter    "
   ]
  },
  {
   "cell_type": "code",
   "execution_count": 24,
   "metadata": {},
   "outputs": [
    {
     "data": {
      "text/plain": [
       "4"
      ]
     },
     "execution_count": 24,
     "metadata": {},
     "output_type": "execute_result"
    }
   ],
   "source": [
    "findSubStr(\"abcmxldabcdexyzabcaxlscabcllx\",\"abc\")"
   ]
  },
  {
   "cell_type": "markdown",
   "metadata": {},
   "source": [
    "<font color=#0000FF>(002)請寫一個函數dict countWords()，可以由Console輸入資料(使用input())，一次輸入不限制一種型態的一個資料，也就是自己要去切割(split)，直至輸入0000就結束，輸出三個dict物件，分別為以下三類的dict物件，每個物件會幫你(妳)計算相同資料輸入的次數</font>\n",
    "- dict1 : 數值型態(0,1,2,3,4,5,6,7,8,9)\n",
    "- dict2 : 英文文字(a-z, A-Z)\n",
    "- dict3 : 中文文字\n",
    "\n",
    "[提示]\n",
    "可以使用[String Methods](https://docs.python.org/3/library/stdtypes.html#string-methods)內的方法(method)"
   ]
  },
  {
   "cell_type": "code",
   "execution_count": null,
   "metadata": {},
   "outputs": [],
   "source": [
    "import string"
   ]
  },
  {
   "cell_type": "markdown",
   "metadata": {},
   "source": [
    "string.+[tab]"
   ]
  },
  {
   "cell_type": "code",
   "execution_count": 26,
   "metadata": {},
   "outputs": [
    {
     "name": "stdout",
     "output_type": "stream",
     "text": [
      "<class 'dict'>\n"
     ]
    }
   ],
   "source": [
    "n = 3\n",
    "lst = [dict() for _ in range(n)]\n",
    "print(type(lst[0]))"
   ]
  },
  {
   "cell_type": "code",
   "execution_count": 27,
   "metadata": {},
   "outputs": [
    {
     "name": "stdout",
     "output_type": "stream",
     "text": [
      "a\n",
      "b\n",
      "c\n",
      "d\n",
      "e\n"
     ]
    }
   ],
   "source": [
    "for w in \"abcde\":\n",
    "    print(w)"
   ]
  },
  {
   "cell_type": "code",
   "execution_count": 28,
   "metadata": {},
   "outputs": [],
   "source": [
    "import string"
   ]
  },
  {
   "cell_type": "code",
   "execution_count": null,
   "metadata": {},
   "outputs": [],
   "source": [
    "string."
   ]
  },
  {
   "cell_type": "code",
   "execution_count": 29,
   "metadata": {},
   "outputs": [],
   "source": [
    "def processDict(dict, word):\n",
    "    if dict.get(word) == None:\n",
    "        dict[word] = 1\n",
    "    else :\n",
    "        dict[word] = dict.get(word) + 1"
   ]
  },
  {
   "cell_type": "code",
   "execution_count": 30,
   "metadata": {},
   "outputs": [
    {
     "name": "stdout",
     "output_type": "stream",
     "text": [
      "<class 'dict'>\n",
      "請輸入資料ab12天氣bdxky436590\n"
     ]
    }
   ],
   "source": [
    "n = 3\n",
    "lst = [dict() for _ in range(n)]\n",
    "print(type(lst[0]))\n",
    "\n",
    "data = input(\"請輸入資料\")\n",
    "for w in data:\n",
    "    if w in string.digits :\n",
    "        processDict(lst[0], w)            # lst[0] 代表 dict\n",
    "    elif w in string.ascii_letters:\n",
    "        processDict(lst[1], w)            # lst[1] 代表 dict\n",
    "    else :\n",
    "        processDict(lst[2], w)            # lst[2] 代表 dict"
   ]
  },
  {
   "cell_type": "code",
   "execution_count": 31,
   "metadata": {},
   "outputs": [
    {
     "name": "stdout",
     "output_type": "stream",
     "text": [
      "{'1': 1, '2': 1, '4': 1, '3': 1, '6': 1, '5': 1, '9': 1, '0': 1}\n",
      "{'a': 1, 'b': 2, 'd': 1, 'x': 1, 'k': 1, 'y': 1}\n",
      "{'天': 1, '氣': 1}\n"
     ]
    }
   ],
   "source": [
    "print(lst[0])\n",
    "print(lst[1])\n",
    "print(lst[2])"
   ]
  }
 ],
 "metadata": {
  "kernelspec": {
   "display_name": "Python 3",
   "language": "python",
   "name": "python3"
  },
  "language_info": {
   "codemirror_mode": {
    "name": "ipython",
    "version": 3
   },
   "file_extension": ".py",
   "mimetype": "text/x-python",
   "name": "python",
   "nbconvert_exporter": "python",
   "pygments_lexer": "ipython3",
   "version": "3.7.3"
  }
 },
 "nbformat": 4,
 "nbformat_minor": 2
}
