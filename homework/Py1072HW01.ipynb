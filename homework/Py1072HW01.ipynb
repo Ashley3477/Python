{
 "cells": [
  {
   "cell_type": "markdown",
   "metadata": {},
   "source": [
    "【課程名稱】107年度第二學期 Python程式設計<br>\n",
    "【題目設計】陳祥輝 (email : <HsiangHui.Chen@gmail.com>)<br>\n",
    "【作業名稱】HW01 迴圈練習<br>\n",
    "【學生學號】<br>\n",
    "【學生姓名】<br>\n",
    "【繳交檔案】檔名原則 : HW01_ + 學號 + 姓名，兩個檔案格式皆要交例如 : \n",
    "- HW01_512345678陳祥輝.ipynb \n",
    "- HW01_512345678陳祥輝.html"
   ]
  },
  {
   "cell_type": "markdown",
   "metadata": {},
   "source": [
    "### <font color=#FF0000>(001-01)請利用for迴圈撰寫一個以下10層的輸出</font>\n",
    "<pre>\n",
    "*\n",
    "***\n",
    "*****\n",
    "*******\n",
    "*********\n",
    "***********\n",
    "*************\n",
    "***************\n",
    "*****************\n",
    "*******************\n",
    "</pre>"
   ]
  },
  {
   "cell_type": "code",
   "execution_count": 2,
   "metadata": {},
   "outputs": [
    {
     "name": "stdout",
     "output_type": "stream",
     "text": [
      "\n",
      "*\n",
      "***\n",
      "*****\n",
      "*******\n",
      "*********\n",
      "***********\n",
      "*************\n",
      "***************\n",
      "*****************\n",
      "\n"
     ]
    }
   ],
   "source": [
    "stairs = 10\n",
    "for i in range(stairs):\n",
    "    print('*' * (i * 2-1))\n",
    "print()"
   ]
  },
  {
   "cell_type": "code",
   "execution_count": 3,
   "metadata": {},
   "outputs": [
    {
     "name": "stdout",
     "output_type": "stream",
     "text": [
      "\n",
      "*\n",
      "***\n",
      "*****\n",
      "*******\n",
      "*********\n",
      "***********\n",
      "*************\n",
      "***************\n",
      "*****************\n"
     ]
    }
   ],
   "source": [
    "stairs = 10\n",
    "for i in range(stairs):\n",
    "    for j in range(i * 2 + 1):\n",
    "        print('*', end = '')\n",
    "    print()"
   ]
  },
  {
   "cell_type": "code",
   "execution_count": 11,
   "metadata": {},
   "outputs": [
    {
     "name": "stdout",
     "output_type": "stream",
     "text": [
      "\n",
      "*\n",
      "***\n",
      "*****\n",
      "*******\n",
      "*********\n",
      "***********\n",
      "*************\n",
      "***************\n",
      "*****************\n"
     ]
    }
   ],
   "source": [
    "stairs = 10\n",
    "for i in range(stairs):\n",
    "    for j in range(i*2 - 1):\n",
    "        print('*', end='')\n",
    "    print()"
   ]
  },
  {
   "cell_type": "code",
   "execution_count": 10,
   "metadata": {},
   "outputs": [
    {
     "name": "stdout",
     "output_type": "stream",
     "text": [
      "\n",
      "*\n",
      "***\n",
      "*****\n",
      "*******\n",
      "*********\n",
      "***********\n",
      "*************\n",
      "***************\n",
      "*****************\n"
     ]
    }
   ],
   "source": [
    "stairs = 10\n",
    "for j in range(stairs):\n",
    "    for k in range(j*2 - 1):\n",
    "        print('*',end = '')\n",
    "    print()"
   ]
  },
  {
   "cell_type": "code",
   "execution_count": 18,
   "metadata": {},
   "outputs": [
    {
     "name": "stdout",
     "output_type": "stream",
     "text": [
      "         \n",
      "        *\n",
      "       ***\n",
      "      *****\n",
      "     *******\n",
      "    *********\n",
      "   ***********\n",
      "  *************\n",
      " ***************\n",
      "*****************\n"
     ]
    }
   ],
   "source": [
    "stairs = 10\n",
    "for i in range(stairs):\n",
    "    print(' ' * ((stairs-i)-1),end='')\n",
    "    print('*' * ((i * 2)-1))"
   ]
  },
  {
   "cell_type": "code",
   "execution_count": 13,
   "metadata": {
    "scrolled": true
   },
   "outputs": [
    {
     "name": "stdout",
     "output_type": "stream",
     "text": [
      "         \n",
      "        *\n",
      "       ***\n",
      "      *****\n",
      "     *******\n",
      "    *********\n",
      "   ***********\n",
      "  *************\n",
      " ***************\n",
      "*****************\n"
     ]
    }
   ],
   "source": [
    "stairs = 10\n",
    "for i in range(stairs):\n",
    "    print (' ' * ((stairs-i) -1),end='')\n",
    "    print('*' * ((i * 2 )-1))"
   ]
  },
  {
   "cell_type": "markdown",
   "metadata": {},
   "source": [
    "### <font color=#FF0000>(001-02)請將以上的輸出改成以下的聖誕樹</font>\n",
    "<pre>\n",
    "         *\n",
    "        ***\n",
    "       *****\n",
    "      *******\n",
    "     *********\n",
    "    ***********\n",
    "   *************\n",
    "  ***************\n",
    " *****************\n",
    "*******************\n",
    "</pre>"
   ]
  },
  {
   "cell_type": "code",
   "execution_count": 7,
   "metadata": {},
   "outputs": [
    {
     "name": "stdout",
     "output_type": "stream",
     "text": [
      "         *\n",
      "        ***\n",
      "       *****\n",
      "      *******\n",
      "     *********\n",
      "    ***********\n",
      "   *************\n",
      "  ***************\n",
      " *****************\n",
      "*******************\n"
     ]
    }
   ],
   "source": [
    "stairs = 10\n",
    "for i in range(stairs):\n",
    "    print(' ' * ((stairs - i) - 1), end='')\n",
    "    print('*' * ((i * 2) + 1))"
   ]
  },
  {
   "cell_type": "code",
   "execution_count": null,
   "metadata": {},
   "outputs": [],
   "source": []
  },
  {
   "cell_type": "code",
   "execution_count": null,
   "metadata": {},
   "outputs": [],
   "source": []
  },
  {
   "cell_type": "code",
   "execution_count": 36,
   "metadata": {},
   "outputs": [
    {
     "name": "stdout",
     "output_type": "stream",
     "text": [
      "         *\n",
      "        *-*\n",
      "       *-*-*\n",
      "      *-*-*-*\n",
      "     *-*-*-*-*\n",
      "    *-*-*-*-*-*\n",
      "   *-*-*-*-*-*-*\n",
      "  *-*-*-*-*-*-*-*\n",
      " *-*-*-*-*-*-*-*-*\n",
      "*-*-*-*-*-*-*-*-*-*\n"
     ]
    }
   ],
   "source": [
    "stairs = 10\n",
    "for i in range(stairs):\n",
    "    print (' ' * ((stairs-i) -1),end = '')\n",
    "    print('*-' * (i), end='')\n",
    "    print('*' * 1)"
   ]
  },
  {
   "cell_type": "code",
   "execution_count": 27,
   "metadata": {},
   "outputs": [
    {
     "name": "stdout",
     "output_type": "stream",
     "text": [
      "         *\n",
      "        *-*\n",
      "       *-*-*\n",
      "      *-*-*-*\n",
      "     *-*-*-*-*\n",
      "    *-*-*-*-*-*\n",
      "   *-*-*-*-*-*-*\n",
      "  *-*-*-*-*-*-*-*\n",
      " *-*-*-*-*-*-*-*-*\n",
      "*-*-*-*-*-*-*-*-*-*\n"
     ]
    }
   ],
   "source": [
    "stairs = 10\n",
    "for i in range(stairs):\n",
    "    print(' ' * ((stairs-i)-1),end='')\n",
    "    print('*-' * (i),end='')\n",
    "    print('*' * 1)"
   ]
  },
  {
   "cell_type": "markdown",
   "metadata": {},
   "source": [
    "### <font color=#FF0000>(001-03)請將以上的輸出改成以下的聖誕樹</font>\n",
    "<pre>\n",
    "         *\n",
    "        *-*\n",
    "       *-*-*\n",
    "      *-*-*-*\n",
    "     *-*-*-*-*\n",
    "    *-*-*-*-*-*\n",
    "   *-*-*-*-*-*-*\n",
    "  *-*-*-*-*-*-*-*\n",
    " *-*-*-*-*-*-*-*-*\n",
    "*-*-*-*-*-*-*-*-*-*\n",
    "</pre>"
   ]
  },
  {
   "cell_type": "code",
   "execution_count": 8,
   "metadata": {},
   "outputs": [
    {
     "name": "stdout",
     "output_type": "stream",
     "text": [
      "         *\n",
      "        *-*\n",
      "       *-*-*\n",
      "      *-*-*-*\n",
      "     *-*-*-*-*\n",
      "    *-*-*-*-*-*\n",
      "   *-*-*-*-*-*-*\n",
      "  *-*-*-*-*-*-*-*\n",
      " *-*-*-*-*-*-*-*-*\n",
      "*-*-*-*-*-*-*-*-*-*\n"
     ]
    }
   ],
   "source": [
    "stairs = 10\n",
    "for i in range(stairs):\n",
    "    print(' ' * ((stairs - i)-1), end='')\n",
    "    print('*-' * (i),end='')\n",
    "    print('*' * 1)"
   ]
  },
  {
   "cell_type": "markdown",
   "metadata": {},
   "source": [
    "### <font color=#FF0000>(001-04)請將以上的程式改寫成函數 XmasTree(layers, marker=\"*\")，可以由外部輸入層數layers，以及輸出的星號 * 也可以更改</font>"
   ]
  },
  {
   "cell_type": "code",
   "execution_count": 11,
   "metadata": {},
   "outputs": [],
   "source": [
    "def XmasTree(layers, marker='*'):\n",
    "    for i in range(layers):\n",
    "        print(' ' * ((layers - i)- 1), end='')\n",
    "        print((marker+'-') * (i), end='')\n",
    "        print(marker)"
   ]
  },
  {
   "cell_type": "code",
   "execution_count": 44,
   "metadata": {},
   "outputs": [
    {
     "name": "stdout",
     "output_type": "stream",
     "text": [
      "    !\n",
      "   !-!\n",
      "  !-!-!\n",
      " !-!-!-!\n",
      "!-!-!-!-!\n"
     ]
    }
   ],
   "source": [
    "XmaxTree(layers=5, marker=\"!\")"
   ]
  },
  {
   "cell_type": "code",
   "execution_count": 28,
   "metadata": {},
   "outputs": [],
   "source": [
    "# Solution\n",
    "def XmasTree(layers=10, marker=\"*\") :\n",
    "    for i in range(layers):\n",
    "        print(' ' * ((layers-i) -1),end = '')\n",
    "        print((marker+'-')* (i), end='')\n",
    "        print(marker * 1)\n",
    "    \n",
    "    "
   ]
  },
  {
   "cell_type": "code",
   "execution_count": 46,
   "metadata": {},
   "outputs": [
    {
     "name": "stdout",
     "output_type": "stream",
     "text": [
      "1\n",
      "4\n",
      "7\n"
     ]
    }
   ],
   "source": [
    "for i in range(1, 10 ,3):\n",
    "    print(i)\n"
   ]
  },
  {
   "cell_type": "code",
   "execution_count": 52,
   "metadata": {},
   "outputs": [
    {
     "name": "stdout",
     "output_type": "stream",
     "text": [
      "1*1=1\t2*1=2\t3*1=3\t\n",
      "1*2=2\t2*2=4\t3*2=6\t\n",
      "1*3=3\t2*3=6\t3*3=9\t\n",
      "1*4=4\t2*4=8\t3*4=12\t\n",
      "1*5=5\t2*5=10\t3*5=15\t\n",
      "1*6=6\t2*6=12\t3*6=18\t\n",
      "1*7=7\t2*7=14\t3*7=21\t\n",
      "1*8=8\t2*8=16\t3*8=24\t\n",
      "1*9=9\t2*9=18\t3*9=27\t\n",
      "\n",
      "4*1=4\t5*1=5\t6*1=6\t\n",
      "4*2=8\t5*2=10\t6*2=12\t\n",
      "4*3=12\t5*3=15\t6*3=18\t\n",
      "4*4=16\t5*4=20\t6*4=24\t\n",
      "4*5=20\t5*5=25\t6*5=30\t\n",
      "4*6=24\t5*6=30\t6*6=36\t\n",
      "4*7=28\t5*7=35\t6*7=42\t\n",
      "4*8=32\t5*8=40\t6*8=48\t\n",
      "4*9=36\t5*9=45\t6*9=54\t\n",
      "\n",
      "7*1=7\t8*1=8\t9*1=9\t\n",
      "7*2=14\t8*2=16\t9*2=18\t\n",
      "7*3=21\t8*3=24\t9*3=27\t\n",
      "7*4=28\t8*4=32\t9*4=36\t\n",
      "7*5=35\t8*5=40\t9*5=45\t\n",
      "7*6=42\t8*6=48\t9*6=54\t\n",
      "7*7=49\t8*7=56\t9*7=63\t\n",
      "7*8=56\t8*8=64\t9*8=72\t\n",
      "7*9=63\t8*9=72\t9*9=81\t\n",
      "\n"
     ]
    }
   ],
   "source": [
    "for i in range(1,10,3):\n",
    "    for j in range(1,10):\n",
    "        for k in range(3):\n",
    "            print('{}*{}={}'.format((i+k),j,(i+k)*j), end='\\t')\n",
    "        print()\n",
    "    print()"
   ]
  },
  {
   "cell_type": "code",
   "execution_count": 57,
   "metadata": {},
   "outputs": [
    {
     "name": "stdout",
     "output_type": "stream",
     "text": [
      "1\n",
      "4\n",
      "7\n"
     ]
    }
   ],
   "source": [
    "for i in range(1,10,3):\n",
    "    print(i)"
   ]
  },
  {
   "cell_type": "code",
   "execution_count": 58,
   "metadata": {},
   "outputs": [
    {
     "name": "stdout",
     "output_type": "stream",
     "text": [
      "1\n",
      "1\n",
      "1\n",
      "1\n",
      "1\n",
      "1\n",
      "1\n",
      "1\n",
      "1\n",
      "\n",
      "4\n",
      "4\n",
      "4\n",
      "4\n",
      "4\n",
      "4\n",
      "4\n",
      "4\n",
      "4\n",
      "\n",
      "7\n",
      "7\n",
      "7\n",
      "7\n",
      "7\n",
      "7\n",
      "7\n",
      "7\n",
      "7\n",
      "\n"
     ]
    }
   ],
   "source": [
    "for i in range(1,10,3):\n",
    "    for j in range(1,10):\n",
    "        print(i)\n",
    "    print()"
   ]
  },
  {
   "cell_type": "code",
   "execution_count": 59,
   "metadata": {},
   "outputs": [
    {
     "name": "stdout",
     "output_type": "stream",
     "text": [
      "1\t1\t1\t\n",
      "1\t1\t1\t\n",
      "1\t1\t1\t\n",
      "1\t1\t1\t\n",
      "1\t1\t1\t\n",
      "1\t1\t1\t\n",
      "1\t1\t1\t\n",
      "1\t1\t1\t\n",
      "1\t1\t1\t\n",
      "\n",
      "4\t4\t4\t\n",
      "4\t4\t4\t\n",
      "4\t4\t4\t\n",
      "4\t4\t4\t\n",
      "4\t4\t4\t\n",
      "4\t4\t4\t\n",
      "4\t4\t4\t\n",
      "4\t4\t4\t\n",
      "4\t4\t4\t\n",
      "\n",
      "7\t7\t7\t\n",
      "7\t7\t7\t\n",
      "7\t7\t7\t\n",
      "7\t7\t7\t\n",
      "7\t7\t7\t\n",
      "7\t7\t7\t\n",
      "7\t7\t7\t\n",
      "7\t7\t7\t\n",
      "7\t7\t7\t\n",
      "\n"
     ]
    }
   ],
   "source": [
    "for i in range(1, 10, 3):\n",
    "    for j in range(1, 10):\n",
    "        for k in range(3):\n",
    "            print(i, end='\\t')\n",
    "        print()\n",
    "    print()"
   ]
  },
  {
   "cell_type": "code",
   "execution_count": 61,
   "metadata": {},
   "outputs": [
    {
     "name": "stdout",
     "output_type": "stream",
     "text": [
      "1*1=1\t1*1=1\t1*1=1\t\n",
      "1*2=2\t1*2=2\t1*2=2\t\n",
      "1*3=3\t1*3=3\t1*3=3\t\n",
      "1*4=4\t1*4=4\t1*4=4\t\n",
      "1*5=5\t1*5=5\t1*5=5\t\n",
      "1*6=6\t1*6=6\t1*6=6\t\n",
      "1*7=7\t1*7=7\t1*7=7\t\n",
      "1*8=8\t1*8=8\t1*8=8\t\n",
      "1*9=9\t1*9=9\t1*9=9\t\n",
      "\n",
      "4*1=4\t4*1=4\t4*1=4\t\n",
      "4*2=8\t4*2=8\t4*2=8\t\n",
      "4*3=12\t4*3=12\t4*3=12\t\n",
      "4*4=16\t4*4=16\t4*4=16\t\n",
      "4*5=20\t4*5=20\t4*5=20\t\n",
      "4*6=24\t4*6=24\t4*6=24\t\n",
      "4*7=28\t4*7=28\t4*7=28\t\n",
      "4*8=32\t4*8=32\t4*8=32\t\n",
      "4*9=36\t4*9=36\t4*9=36\t\n",
      "\n",
      "7*1=7\t7*1=7\t7*1=7\t\n",
      "7*2=14\t7*2=14\t7*2=14\t\n",
      "7*3=21\t7*3=21\t7*3=21\t\n",
      "7*4=28\t7*4=28\t7*4=28\t\n",
      "7*5=35\t7*5=35\t7*5=35\t\n",
      "7*6=42\t7*6=42\t7*6=42\t\n",
      "7*7=49\t7*7=49\t7*7=49\t\n",
      "7*8=56\t7*8=56\t7*8=56\t\n",
      "7*9=63\t7*9=63\t7*9=63\t\n",
      "\n"
     ]
    }
   ],
   "source": [
    "for i in range(1,10,3):\n",
    "    for j in range(1,10):\n",
    "        for k in range(3):\n",
    "            print('{}*{}={}'.format(i, j ,i*j),end='\\t')\n",
    "        print()\n",
    "    print()"
   ]
  },
  {
   "cell_type": "code",
   "execution_count": 62,
   "metadata": {},
   "outputs": [
    {
     "name": "stdout",
     "output_type": "stream",
     "text": [
      "1*1=1\t2*1=2\t3*1=3\t\n",
      "1*2=2\t2*2=4\t3*2=6\t\n",
      "1*3=3\t2*3=6\t3*3=9\t\n",
      "1*4=4\t2*4=8\t3*4=12\t\n",
      "1*5=5\t2*5=10\t3*5=15\t\n",
      "1*6=6\t2*6=12\t3*6=18\t\n",
      "1*7=7\t2*7=14\t3*7=21\t\n",
      "1*8=8\t2*8=16\t3*8=24\t\n",
      "1*9=9\t2*9=18\t3*9=27\t\n",
      "\n",
      "4*1=4\t5*1=5\t6*1=6\t\n",
      "4*2=8\t5*2=10\t6*2=12\t\n",
      "4*3=12\t5*3=15\t6*3=18\t\n",
      "4*4=16\t5*4=20\t6*4=24\t\n",
      "4*5=20\t5*5=25\t6*5=30\t\n",
      "4*6=24\t5*6=30\t6*6=36\t\n",
      "4*7=28\t5*7=35\t6*7=42\t\n",
      "4*8=32\t5*8=40\t6*8=48\t\n",
      "4*9=36\t5*9=45\t6*9=54\t\n",
      "\n",
      "7*1=7\t8*1=8\t9*1=9\t\n",
      "7*2=14\t8*2=16\t9*2=18\t\n",
      "7*3=21\t8*3=24\t9*3=27\t\n",
      "7*4=28\t8*4=32\t9*4=36\t\n",
      "7*5=35\t8*5=40\t9*5=45\t\n",
      "7*6=42\t8*6=48\t9*6=54\t\n",
      "7*7=49\t8*7=56\t9*7=63\t\n",
      "7*8=56\t8*8=64\t9*8=72\t\n",
      "7*9=63\t8*9=72\t9*9=81\t\n",
      "\n"
     ]
    }
   ],
   "source": [
    "for i in range(1,10,3):\n",
    "    for j in range(1,10):\n",
    "        for k in range(3):\n",
    "            print('{}*{}={}'.format((i+k), j ,(i+k)*j),end='\\t')\n",
    "        print()\n",
    "    print()"
   ]
  },
  {
   "cell_type": "code",
   "execution_count": 65,
   "metadata": {},
   "outputs": [
    {
     "name": "stdout",
     "output_type": "stream",
     "text": [
      "1*1=1\t2*1=2\t3*1=3\t\n",
      "1*2=2\t2*2=4\t3*2=6\t\n",
      "1*3=3\t2*3=6\t3*3=9\t\n",
      "1*4=4\t2*4=8\t3*4=12\t\n",
      "1*5=5\t2*5=10\t3*5=15\t\n",
      "1*6=6\t2*6=12\t3*6=18\t\n",
      "1*7=7\t2*7=14\t3*7=21\t\n",
      "1*8=8\t2*8=16\t3*8=24\t\n",
      "1*9=9\t2*9=18\t3*9=27\t\n",
      "\n",
      "4*1=4\t5*1=5\t6*1=6\t\n",
      "4*2=8\t5*2=10\t6*2=12\t\n",
      "4*3=12\t5*3=15\t6*3=18\t\n",
      "4*4=16\t5*4=20\t6*4=24\t\n",
      "4*5=20\t5*5=25\t6*5=30\t\n",
      "4*6=24\t5*6=30\t6*6=36\t\n",
      "4*7=28\t5*7=35\t6*7=42\t\n",
      "4*8=32\t5*8=40\t6*8=48\t\n",
      "4*9=36\t5*9=45\t6*9=54\t\n",
      "\n",
      "7*1=7\t8*1=8\t9*1=9\t\n",
      "7*2=14\t8*2=16\t9*2=18\t\n",
      "7*3=21\t8*3=24\t9*3=27\t\n",
      "7*4=28\t8*4=32\t9*4=36\t\n",
      "7*5=35\t8*5=40\t9*5=45\t\n",
      "7*6=42\t8*6=48\t9*6=54\t\n",
      "7*7=49\t8*7=56\t9*7=63\t\n",
      "7*8=56\t8*8=64\t9*8=72\t\n",
      "7*9=63\t8*9=72\t9*9=81\t\n",
      "\n"
     ]
    }
   ],
   "source": [
    "cols = 3\n",
    "n = 9\n",
    "for i in range(1,n+1,cols):\n",
    "    for j in range(1,n+1):\n",
    "        for k in range(cols):\n",
    "            print('{}*{}={}'.format((i+k), j,(i+k)*j), end='\\t')\n",
    "        print()\n",
    "    print()"
   ]
  },
  {
   "cell_type": "markdown",
   "metadata": {},
   "source": [
    "### <font color=#FF0000>(002-01)請協助我家小朋友，寫一個以下的九九乘法表 (選擇性作答)</font>\n",
    "<pre>\n",
    "1 * 1 = 1\t2 * 1 = 2\t 3 * 1 = 3\t\n",
    "1 * 2 = 2\t2 * 2 = 4\t 3 * 2 = 6\t\n",
    "1 * 3 = 3\t2 * 3 = 6\t 3 * 3 = 9\t\n",
    "1 * 4 = 4\t2 * 4 = 8\t 3 * 4 = 12\t\n",
    "1 * 5 = 5\t2 * 5 = 10\t3 * 5 = 15\t\n",
    "1 * 6 = 6\t2 * 6 = 12\t3 * 6 = 18\t\n",
    "1 * 7 = 7\t2 * 7 = 14\t3 * 7 = 21\t\n",
    "1 * 8 = 8\t2 * 8 = 16\t3 * 8 = 24\t\n",
    "1 * 9 = 9\t2 * 9 = 18\t3 * 9 = 27\t\n",
    "\n",
    "4 * 1 = 4\t 5 * 1 = 5\t 6 * 1 = 6\t\n",
    "4 * 2 = 8\t 5 * 2 = 10\t6 * 2 = 12\t\n",
    "4 * 3 = 12\t5 * 3 = 15\t6 * 3 = 18\t\n",
    "4 * 4 = 16\t5 * 4 = 20\t6 * 4 = 24\t\n",
    "4 * 5 = 20\t5 * 5 = 25\t6 * 5 = 30\t\n",
    "4 * 6 = 24\t5 * 6 = 30\t6 * 6 = 36\t\n",
    "4 * 7 = 28\t5 * 7 = 35\t6 * 7 = 42\t\n",
    "4 * 8 = 32\t5 * 8 = 40\t6 * 8 = 48\t\n",
    "4 * 9 = 36\t5 * 9 = 45\t6 * 9 = 54\t\n",
    "\n",
    "7 * 1 = 7\t 8 * 1 = 8\t 9 * 1 = 9\t\n",
    "7 * 2 = 14\t8 * 2 = 16\t9 * 2 = 18\t\n",
    "7 * 3 = 21\t8 * 3 = 24\t9 * 3 = 27\t\n",
    "7 * 4 = 28\t8 * 4 = 32\t9 * 4 = 36\t\n",
    "7 * 5 = 35\t8 * 5 = 40\t9 * 5 = 45\t\n",
    "7 * 6 = 42\t8 * 6 = 48\t9 * 6 = 54\t\n",
    "7 * 7 = 49\t8 * 7 = 56\t9 * 7 = 63\t\n",
    "7 * 8 = 56\t8 * 8 = 64\t9 * 8 = 72\t\n",
    "7 * 9 = 63\t8 * 9 = 72\t9 * 9 = 81\n",
    "</pre>"
   ]
  },
  {
   "cell_type": "code",
   "execution_count": 28,
   "metadata": {},
   "outputs": [
    {
     "name": "stdout",
     "output_type": "stream",
     "text": [
      "1 * 1 = 1\t2 * 1 = 2\t3 * 1 = 3\t\n",
      "1 * 2 = 2\t2 * 2 = 4\t3 * 2 = 6\t\n",
      "1 * 3 = 3\t2 * 3 = 6\t3 * 3 = 9\t\n",
      "1 * 4 = 4\t2 * 4 = 8\t3 * 4 = 12\t\n",
      "1 * 5 = 5\t2 * 5 = 10\t3 * 5 = 15\t\n",
      "1 * 6 = 6\t2 * 6 = 12\t3 * 6 = 18\t\n",
      "1 * 7 = 7\t2 * 7 = 14\t3 * 7 = 21\t\n",
      "1 * 8 = 8\t2 * 8 = 16\t3 * 8 = 24\t\n",
      "1 * 9 = 9\t2 * 9 = 18\t3 * 9 = 27\t\n",
      "\n",
      "4 * 1 = 4\t5 * 1 = 5\t6 * 1 = 6\t\n",
      "4 * 2 = 8\t5 * 2 = 10\t6 * 2 = 12\t\n",
      "4 * 3 = 12\t5 * 3 = 15\t6 * 3 = 18\t\n",
      "4 * 4 = 16\t5 * 4 = 20\t6 * 4 = 24\t\n",
      "4 * 5 = 20\t5 * 5 = 25\t6 * 5 = 30\t\n",
      "4 * 6 = 24\t5 * 6 = 30\t6 * 6 = 36\t\n",
      "4 * 7 = 28\t5 * 7 = 35\t6 * 7 = 42\t\n",
      "4 * 8 = 32\t5 * 8 = 40\t6 * 8 = 48\t\n",
      "4 * 9 = 36\t5 * 9 = 45\t6 * 9 = 54\t\n",
      "\n",
      "7 * 1 = 7\t8 * 1 = 8\t9 * 1 = 9\t\n",
      "7 * 2 = 14\t8 * 2 = 16\t9 * 2 = 18\t\n",
      "7 * 3 = 21\t8 * 3 = 24\t9 * 3 = 27\t\n",
      "7 * 4 = 28\t8 * 4 = 32\t9 * 4 = 36\t\n",
      "7 * 5 = 35\t8 * 5 = 40\t9 * 5 = 45\t\n",
      "7 * 6 = 42\t8 * 6 = 48\t9 * 6 = 54\t\n",
      "7 * 7 = 49\t8 * 7 = 56\t9 * 7 = 63\t\n",
      "7 * 8 = 56\t8 * 8 = 64\t9 * 8 = 72\t\n",
      "7 * 9 = 63\t8 * 9 = 72\t9 * 9 = 81\t\n",
      "\n"
     ]
    }
   ],
   "source": [
    "for i in range(1, 10, 3):\n",
    "    for j in range(1,10):\n",
    "        for k in range(3):\n",
    "            print('{} * {} = {}'.format((i+k), j,(i+k)*j), end='\\t')\n",
    "        print()\n",
    "    print()"
   ]
  },
  {
   "cell_type": "code",
   "execution_count": null,
   "metadata": {},
   "outputs": [],
   "source": []
  },
  {
   "cell_type": "code",
   "execution_count": 30,
   "metadata": {},
   "outputs": [
    {
     "name": "stdout",
     "output_type": "stream",
     "text": [
      "1*1=1\t2*1=2\t3*1=3\t4*1=4\t5*1=5\t\n",
      "1*2=2\t2*2=4\t3*2=6\t4*2=8\t5*2=10\t\n",
      "1*3=3\t2*3=6\t3*3=9\t4*3=12\t5*3=15\t\n",
      "1*4=4\t2*4=8\t3*4=12\t4*4=16\t5*4=20\t\n",
      "1*5=5\t2*5=10\t3*5=15\t4*5=20\t5*5=25\t\n",
      "1*6=6\t2*6=12\t3*6=18\t4*6=24\t5*6=30\t\n",
      "1*7=7\t2*7=14\t3*7=21\t4*7=28\t5*7=35\t\n",
      "1*8=8\t2*8=16\t3*8=24\t4*8=32\t5*8=40\t\n",
      "1*9=9\t2*9=18\t3*9=27\t4*9=36\t5*9=45\t\n",
      "\n",
      "6*1=6\t7*1=7\t8*1=8\t9*1=9\t10*1=10\t\n",
      "6*2=12\t7*2=14\t8*2=16\t9*2=18\t10*2=20\t\n",
      "6*3=18\t7*3=21\t8*3=24\t9*3=27\t10*3=30\t\n",
      "6*4=24\t7*4=28\t8*4=32\t9*4=36\t10*4=40\t\n",
      "6*5=30\t7*5=35\t8*5=40\t9*5=45\t10*5=50\t\n",
      "6*6=36\t7*6=42\t8*6=48\t9*6=54\t10*6=60\t\n",
      "6*7=42\t7*7=49\t8*7=56\t9*7=63\t10*7=70\t\n",
      "6*8=48\t7*8=56\t8*8=64\t9*8=72\t10*8=80\t\n",
      "6*9=54\t7*9=63\t8*9=72\t9*9=81\t10*9=90\t\n",
      "\n"
     ]
    }
   ],
   "source": [
    "col = 4\n",
    "n = 9\n",
    "def test(col=4,n=9):\n",
    "    for i in range(1,10,col):\n",
    "        for j in range(1,10):\n",
    "            for k in range(col):\n",
    "                if i+k > n :break\n",
    "                print('{}*{}={}'.format((i+k),j,(i+k)*j), end='\\t')\n",
    "            print()\n",
    "        print()\n",
    "test(5,10)"
   ]
  },
  {
   "cell_type": "code",
   "execution_count": null,
   "metadata": {},
   "outputs": [],
   "source": []
  },
  {
   "cell_type": "code",
   "execution_count": 67,
   "metadata": {},
   "outputs": [
    {
     "name": "stdout",
     "output_type": "stream",
     "text": [
      "1*1=1\t2*1=2\t3*1=3\t4*1=4\t\n",
      "1*2=2\t2*2=4\t3*2=6\t4*2=8\t\n",
      "1*3=3\t2*3=6\t3*3=9\t4*3=12\t\n",
      "1*4=4\t2*4=8\t3*4=12\t4*4=16\t\n",
      "1*5=5\t2*5=10\t3*5=15\t4*5=20\t\n",
      "1*6=6\t2*6=12\t3*6=18\t4*6=24\t\n",
      "1*7=7\t2*7=14\t3*7=21\t4*7=28\t\n",
      "1*8=8\t2*8=16\t3*8=24\t4*8=32\t\n",
      "1*9=9\t2*9=18\t3*9=27\t4*9=36\t\n",
      "\n",
      "5*1=5\t6*1=6\t7*1=7\t8*1=8\t\n",
      "5*2=10\t6*2=12\t7*2=14\t8*2=16\t\n",
      "5*3=15\t6*3=18\t7*3=21\t8*3=24\t\n",
      "5*4=20\t6*4=24\t7*4=28\t8*4=32\t\n",
      "5*5=25\t6*5=30\t7*5=35\t8*5=40\t\n",
      "5*6=30\t6*6=36\t7*6=42\t8*6=48\t\n",
      "5*7=35\t6*7=42\t7*7=49\t8*7=56\t\n",
      "5*8=40\t6*8=48\t7*8=56\t8*8=64\t\n",
      "5*9=45\t6*9=54\t7*9=63\t8*9=72\t\n",
      "\n",
      "9*1=9\t\n",
      "9*2=18\t\n",
      "9*3=27\t\n",
      "9*4=36\t\n",
      "9*5=45\t\n",
      "9*6=54\t\n",
      "9*7=63\t\n",
      "9*8=72\t\n",
      "9*9=81\t\n",
      "\n"
     ]
    }
   ],
   "source": [
    "cols = 4\n",
    "n = 9\n",
    "for i in range(1, n+1, cols):\n",
    "    for j in range(1, n+1):\n",
    "        for k in range(cols):\n",
    "            if i+k >n : break\n",
    "            print('{}*{}={}'.format((i+k),j,(i+k)*j),end='\\t')\n",
    "        print()\n",
    "    print()"
   ]
  },
  {
   "cell_type": "markdown",
   "metadata": {},
   "source": [
    "### <font color=#FF0000>(007-02)我家小朋友說想要改成以下九九乘法表的排列 (選擇性作答)</font>\n",
    "<pre>\n",
    "1 * 1 = 1\t 2 * 1 = 1\t 3 * 1 = 1\t 4 * 1 = 1\t\n",
    "1 * 2 = 2\t 2 * 2 = 2\t 3 * 2 = 2\t 4 * 2 = 2\t\n",
    "1 * 3 = 3\t 2 * 3 = 3\t 3 * 3 = 3\t 4 * 3 = 3\t\n",
    "1 * 4 = 4\t 2 * 4 = 4\t 3 * 4 = 4\t 4 * 4 = 4\t\n",
    "1 * 5 = 5\t 2 * 5 = 5\t 3 * 5 = 5\t 4 * 5 = 5\t\n",
    "1 * 6 = 6\t 2 * 6 = 6\t 3 * 6 = 6\t 4 * 6 = 6\t\n",
    "1 * 7 = 7\t 2 * 7 = 7\t 3 * 7 = 7\t 4 * 7 = 7\t\n",
    "1 * 8 = 8\t 2 * 8 = 8\t 3 * 8 = 8\t 4 * 8 = 8\t\n",
    "1 * 9 = 9\t 2 * 9 = 9\t 3 * 9 = 9\t 4 * 9 = 9\t\n",
    "\n",
    "5 * 1 = 5\t 6 * 1 = 5\t 7 * 1 = 5\t 8 * 1 = 5\t\n",
    "5 * 2 = 10\t6 * 2 = 10\t7 * 2 = 10\t8 * 2 = 10\t\n",
    "5 * 3 = 15\t6 * 3 = 15\t7 * 3 = 15\t8 * 3 = 15\t\n",
    "5 * 4 = 20\t6 * 4 = 20\t7 * 4 = 20\t8 * 4 = 20\t\n",
    "5 * 5 = 25\t6 * 5 = 25\t7 * 5 = 25\t8 * 5 = 25\t\n",
    "5 * 6 = 30\t6 * 6 = 30\t7 * 6 = 30\t8 * 6 = 30\t\n",
    "5 * 7 = 35\t6 * 7 = 35\t7 * 7 = 35\t8 * 7 = 35\t\n",
    "5 * 8 = 40\t6 * 8 = 40\t7 * 8 = 40\t8 * 8 = 40\t\n",
    "5 * 9 = 45\t6 * 9 = 45\t7 * 9 = 45\t8 * 9 = 45\t\n",
    "\n",
    "9 * 1 = 9\t\n",
    "9 * 2 = 18\t\n",
    "9 * 3 = 27\t\n",
    "9 * 4 = 36\t\n",
    "9 * 5 = 45\t\n",
    "9 * 6 = 54\t\n",
    "9 * 7 = 63\t\n",
    "9 * 8 = 72\t\n",
    "9 * 9 = 81\n",
    "</pre>"
   ]
  },
  {
   "cell_type": "code",
   "execution_count": null,
   "metadata": {},
   "outputs": [],
   "source": []
  },
  {
   "cell_type": "code",
   "execution_count": null,
   "metadata": {},
   "outputs": [],
   "source": []
  }
 ],
 "metadata": {
  "kernelspec": {
   "display_name": "Python 3",
   "language": "python",
   "name": "python3"
  },
  "language_info": {
   "codemirror_mode": {
    "name": "ipython",
    "version": 3
   },
   "file_extension": ".py",
   "mimetype": "text/x-python",
   "name": "python",
   "nbconvert_exporter": "python",
   "pygments_lexer": "ipython3",
   "version": "3.7.3"
  }
 },
 "nbformat": 4,
 "nbformat_minor": 2
}
