{
 "cells": [
  {
   "cell_type": "markdown",
   "metadata": {},
   "source": [
    "【課程名稱】107年度第二學期 Python程式設計<br>\n",
    "【題目設計】陳祥輝 (email : <HsiangHui.Chen@gmail.com>)<br>\n",
    "【作業名稱】HW02 邏輯訓練<br>\n",
    "【學生學號】<br>\n",
    "【學生姓名】<br>\n",
    "【繳交檔案】檔名原則 : HW02_ + 學號 + 姓名，兩個檔案格式皆要交例如 : \n",
    "- HW02_512345678陳祥輝.ipynb \n",
    "- HW02_512345678陳祥輝.html"
   ]
  },
  {
   "cell_type": "markdown",
   "metadata": {},
   "source": [
    "<font color=#0000FF>(001-01)大家總是喜歡玩猜拳遊戲，請寫一個與電腦猜拳的遊戲，(1)剪刀 < (2)石頭 < (3)布 < (1)剪刀 <br>\n",
    "使用者輸入1, 2, 3來代表，電腦輸出要是剪刀、石頭、布</font>\n",
    "* 1 : 剪刀\n",
    "* 2 : 石頭\n",
    "* 3 : 布"
   ]
  },
  {
   "cell_type": "markdown",
   "metadata": {},
   "source": [
    "- ['剪刀', '石頭', '布']\n",
    "- ['獵人', '老虎', '槍']\n",
    "- ['蟲', '雞', '老虎', '棒']"
   ]
  },
  {
   "cell_type": "code",
   "execution_count": 1,
   "metadata": {},
   "outputs": [],
   "source": [
    "import numpy as np"
   ]
  },
  {
   "cell_type": "code",
   "execution_count": 2,
   "metadata": {},
   "outputs": [
    {
     "name": "stdout",
     "output_type": "stream",
     "text": [
      "電腦出 2 : 石頭\n"
     ]
    }
   ],
   "source": [
    "labels = ['剪刀', '石頭', '布']\n",
    "n = len(labels)\n",
    "rnd = np.random.choice(range(1,n+1))\n",
    "print(\"電腦出 {} : {}\".format(rnd, labels[rnd-1]))"
   ]
  },
  {
   "cell_type": "code",
   "execution_count": null,
   "metadata": {},
   "outputs": [
    {
     "name": "stdout",
     "output_type": "stream",
     "text": [
      "電腦出 1 : 剪刀\n"
     ]
    }
   ],
   "source": [
    "labels = ['剪刀', '石頭', '布']\n",
    "n = len(labels)\n",
    "rnd = np.random.choice(range(1,n+1))\n",
    "print(\"電腦出 {} : {}\".format(rnd, labels[rnd-1]))\n",
    "\n",
    "usr = int(input(\"請輸入 {}-{}\".format(1,n)))\n",
    "print(\"使用者出 {} : {}\".format(usr, labels[usr-1]))"
   ]
  },
  {
   "cell_type": "code",
   "execution_count": null,
   "metadata": {},
   "outputs": [],
   "source": [
    "labels = ['剪刀', '石頭', '布']\n",
    "n = len(labels)\n",
    "rnd = np.random.choice(range(1,n+1))\n",
    "print(\"電腦出 {} : {}\".format(rnd, labels[rnd-1]))\n",
    "\n",
    "usr = int(input(\"請輸入 {}-{}\".format(1,n)))\n",
    "print(\"使用者出 {} : {}\".format(usr, labels[usr-1]))\n",
    "\n",
    "if usr-rnd == 1 or usr-rnd == -2:     # 小心這裡的 -2 已經被定死\n",
    "    print(\"使用者獲勝\")\n",
    "elif rnd-usr == 1 or rnd-usr == -2:   # 小心這裡的 -2 已經被定死\n",
    "    print(\"電腦獲勝\")\n",
    "else :\n",
    "    print(\"平手\")\n"
   ]
  },
  {
   "cell_type": "markdown",
   "metadata": {},
   "source": [
    "<font color=#0000FF>(001-02)請將以上的遊戲改成 獵人、老虎、槍，(1)獵人 < (2)老虎 < (3)槍 < (1)獵人<br>\n",
    "使用者輸入1, 2, 3來代表，電腦輸出要是獵人、老虎、槍</font>\n",
    "* 1 : 獵人\n",
    "* 2 : 老虎\n",
    "* 3 : 槍"
   ]
  },
  {
   "cell_type": "code",
   "execution_count": null,
   "metadata": {},
   "outputs": [],
   "source": [
    "labels = ['獵人', '老虎', '槍']\n",
    "n = len(labels)\n",
    "rnd = np.random.choice(range(1,n+1))\n",
    "print(\"電腦出 {} : {}\".format(rnd, labels[rnd-1]))\n",
    "\n",
    "usr = int(input(\"請輸入 {}-{}\".format(1,n)))\n",
    "print(\"使用者出 {} : {}\".format(usr, labels[usr-1]))\n",
    "\n",
    "if usr-rnd == 1 or usr-rnd == -2:     # 小心這裡的 -2 已經被定死\n",
    "    print(\"使用者獲勝\")\n",
    "elif rnd-usr == 1 or rnd-usr == -2:   # 小心這裡的 -2 已經被定死\n",
    "    print(\"電腦獲勝\")\n",
    "else :\n",
    "    print(\"平手\")"
   ]
  },
  {
   "cell_type": "markdown",
   "metadata": {},
   "source": [
    "<font color=#0000FF>(001-03)請將以上的遊戲改成，棒打老虎雞吃蟲，(1)蟲 < (2)雞 < (3)老虎 < (4)棒 < (1)蟲<br>\n",
    "使用者輸入1, 2, 3, 4來代表，電腦輸出要是蟲、雞、老虎、棒</font>\n",
    "* 1 : 蟲\n",
    "* 2 : 雞\n",
    "* 3 : 老虎\n",
    "* 4 : 棒   "
   ]
  },
  {
   "cell_type": "code",
   "execution_count": null,
   "metadata": {},
   "outputs": [],
   "source": [
    "labels = ['蟲', '雞', '老虎', '棒']\n",
    "n = len(labels)\n",
    "rnd = np.random.choice(range(1,n+1))\n",
    "print(\"電腦出 {} : {}\".format(rnd, labels[rnd-1]))\n",
    "\n",
    "usr = int(input(\"請輸入 {}-{}\".format(1,n)))\n",
    "print(\"使用者出 {} : {}\".format(usr, labels[usr-1]))\n",
    "\n",
    "if usr-rnd == 1 or usr-rnd == -(n-1):    # 改成由 labels 的元素個數來決定\n",
    "    print(\"使用者獲勝\")\n",
    "elif rnd-usr == 1 or rnd-usr == -(n-1):\n",
    "    print(\"電腦獲勝\")\n",
    "else :\n",
    "    print(\"平手\")"
   ]
  },
  {
   "cell_type": "markdown",
   "metadata": {},
   "source": [
    "<font color=#0000FF>(002-01)小時候我們常常玩猜數字遊戲，現在我們要寫一個小小的遊戲與電腦玩，規則如下:</font>\n",
    "1. 電腦先隨機產生一組四位數的數字，例如:<font color=#FF0000>5691</font>，每一個數字不可以重複，左邊第一個數字不可以為0\n",
    "2. 使用者不斷猜這一組數字，只要猜到的數字有在其中，位置相同數字相同就給個A，位置不同數字相同就給個B，例如猜 <font color=#FF0000>1650</font>，因為有猜到 1, 5, 6，其中 6 的位置又相同，其他位置不同，所以電腦要給 1A2B。"
   ]
  },
  {
   "cell_type": "code",
   "execution_count": null,
   "metadata": {},
   "outputs": [],
   "source": [
    "import string"
   ]
  },
  {
   "cell_type": "code",
   "execution_count": null,
   "metadata": {},
   "outputs": [],
   "source": [
    "list(string.digits)"
   ]
  },
  {
   "cell_type": "code",
   "execution_count": null,
   "metadata": {},
   "outputs": [],
   "source": [
    "rnd =\"12345\"\n",
    "print(rnd[0])"
   ]
  },
  {
   "cell_type": "code",
   "execution_count": null,
   "metadata": {},
   "outputs": [],
   "source": [
    "rnd = \"0\"\n",
    "while rnd[0] == \"0\":\n",
    "    rnd = np.random.choice(list(string.digits),4,replace=False)\n",
    "    rnd = \"\".join(rnd)\n",
    "print(\"電腦的亂數 : {}\".format(rnd))    "
   ]
  },
  {
   "cell_type": "code",
   "execution_count": null,
   "metadata": {
    "scrolled": true
   },
   "outputs": [],
   "source": [
    "rnd = \"0\"\n",
    "while rnd[0] == \"0\":\n",
    "    rnd = np.random.choice(list(string.digits),4,replace=False)\n",
    "    rnd = \"\".join(rnd)\n",
    "print(\"電腦的亂數 : {}\".format(rnd))  \n",
    "\n",
    "usr = input(\"請輸入四個位數的數字 : \")\n",
    "print(\"使用者的數字 : {}\".format(usr))"
   ]
  },
  {
   "cell_type": "code",
   "execution_count": null,
   "metadata": {},
   "outputs": [],
   "source": [
    "\"3\" in \"1357\""
   ]
  },
  {
   "cell_type": "code",
   "execution_count": null,
   "metadata": {},
   "outputs": [],
   "source": [
    "rnd = \"0\"\n",
    "while rnd[0] == \"0\":\n",
    "    rnd = np.random.choice(list(string.digits),4,replace=False)\n",
    "    rnd = \"\".join(rnd)\n",
    "print(\"電腦的亂數 : {}\".format(rnd))  \n",
    "\n",
    "usr = input(\"請輸入四個位數的數字 : \")\n",
    "print(\"使用者的數字 : {}\".format(usr))\n",
    "\n",
    "A = B = 0\n",
    "for i in range(4):\n",
    "    if rnd[i] == usr[i]:\n",
    "        A = A + 1\n",
    "    elif usr[i] in rnd :    \n",
    "        B = B + 1\n",
    "print(\"{}A{}B\".format(A, B))        "
   ]
  },
  {
   "cell_type": "markdown",
   "metadata": {},
   "source": [
    "<font color=#0000FF>(002-02)以上的題目，請用迴圈更改成可以不斷猜，直到使用者輸入\"0000\"表示放棄不玩，或是猜對為止。結束後，系統必須告知答案，以及使用者總共玩了幾次，猜過哪些數字</font>"
   ]
  },
  {
   "cell_type": "code",
   "execution_count": null,
   "metadata": {},
   "outputs": [],
   "source": [
    "rnd = \"0\"\n",
    "while rnd[0] == \"0\":\n",
    "    rnd = np.random.choice(list(string.digits),4,replace=False)\n",
    "    rnd = \"\".join(rnd)\n",
    "print(\"電腦的亂數 : {}\".format(rnd))  \n",
    "\n",
    "usr = \"\"\n",
    "A = B = 0\n",
    "while usr != \"0000\" and A!= 4:\n",
    "    usr = input(\"請輸入四個位數的數字 : \")\n",
    "    print(\"使用者的數字 : {}\".format(usr))\n",
    "\n",
    "    A = B = 0\n",
    "    for i in range(4):\n",
    "        if rnd[i] == usr[i]:\n",
    "            A = A + 1\n",
    "        elif usr[i] in rnd :    \n",
    "            B = B + 1\n",
    "    print(\"{}A{}B\".format(A, B))\n",
    "    \n",
    "print(\"{}\".format(\"答對了\" if A==4 else \"使用者放棄\"))    "
   ]
  }
 ],
 "metadata": {
  "kernelspec": {
   "display_name": "Python 3",
   "language": "python",
   "name": "python3"
  },
  "language_info": {
   "codemirror_mode": {
    "name": "ipython",
    "version": 3
   },
   "file_extension": ".py",
   "mimetype": "text/x-python",
   "name": "python",
   "nbconvert_exporter": "python",
   "pygments_lexer": "ipython3",
   "version": "3.7.3"
  }
 },
 "nbformat": 4,
 "nbformat_minor": 2
}
