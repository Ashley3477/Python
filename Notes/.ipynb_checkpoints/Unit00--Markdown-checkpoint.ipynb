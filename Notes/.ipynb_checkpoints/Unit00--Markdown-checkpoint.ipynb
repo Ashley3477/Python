{
 "cells": [
  {
   "cell_type": "markdown",
   "metadata": {},
   "source": [
    "### <font color=#0000FF>這是第一堂課</font>"
   ]
  },
  {
   "cell_type": "code",
   "execution_count": 2,
   "metadata": {},
   "outputs": [
    {
     "data": {
      "text/plain": [
       "-14"
      ]
     },
     "execution_count": 2,
     "metadata": {},
     "output_type": "execute_result"
    }
   ],
   "source": [
    "3+6\n",
    "6-20"
   ]
  },
  {
   "cell_type": "code",
   "execution_count": 3,
   "metadata": {},
   "outputs": [
    {
     "name": "stdout",
     "output_type": "stream",
     "text": [
      "9\n",
      "-14\n"
     ]
    }
   ],
   "source": [
    "print(3+6)\n",
    "print(6-20)"
   ]
  },
  {
   "cell_type": "code",
   "execution_count": null,
   "metadata": {},
   "outputs": [],
   "source": [
    "[Python的相關網站]\n",
    "* a\n",
    "* b\n",
    "* c"
   ]
  },
  {
   "cell_type": "markdown",
   "metadata": {},
   "source": [
    "[Python的相關網站]\n",
    "* a\n",
    "* b\n",
    "* c"
   ]
  },
  {
   "cell_type": "code",
   "execution_count": null,
   "metadata": {},
   "outputs": [],
   "source": [
    "[Python的相關網站]\n",
    "- [不錯的Python](https://www.python.org/)\n",
    "- [這裡是Google](http://www.google.com)\n",
    "- <http://www.google.com>"
   ]
  },
  {
   "cell_type": "markdown",
   "metadata": {},
   "source": [
    "[Python的相關網站]\n",
    "- [不錯的Python](https://www.python.org/)\n",
    "- [這裡是Google](http://www.google.com)\n",
    "- <http://www.google.com>"
   ]
  },
  {
   "cell_type": "code",
   "execution_count": null,
   "metadata": {},
   "outputs": [],
   "source": [
    "[Python的相關網站]\n",
    "1. a\n",
    "2. b\n",
    "2. c"
   ]
  },
  {
   "cell_type": "markdown",
   "metadata": {},
   "source": [
    "[Python的相關網站]\n",
    "1. a\n",
    "2. b\n",
    "2. c"
   ]
  },
  {
   "cell_type": "code",
   "execution_count": null,
   "metadata": {},
   "outputs": [],
   "source": [
    "abc <br>\n",
    "def <br>\n",
    "jhs"
   ]
  },
  {
   "cell_type": "markdown",
   "metadata": {},
   "source": [
    "abc <br>\n",
    "def <br>\n",
    "jhs"
   ]
  },
  {
   "cell_type": "code",
   "execution_count": null,
   "metadata": {},
   "outputs": [],
   "source": [
    "<img src=\"https://img.alicdn.com/imgextra/i1/2450996826/TB1_0q7n6nD8KJjSspbXXbbEXXa_!!0-item_pic.jpg_320x5000Q50s50.jpg\" width=200 height=200 align=left>這是一隻小狗狗</img>"
   ]
  },
  {
   "cell_type": "markdown",
   "metadata": {},
   "source": [
    "<img src=\"https://img.alicdn.com/imgextra/i1/2450996826/TB1_0q7n6nD8KJjSspbXXbbEXXa_!!0-item_pic.jpg_320x5000Q50s50.jpg\" width=200 height=200 align=left>這是一隻小狗狗</img>"
   ]
  },
  {
   "cell_type": "markdown",
   "metadata": {},
   "source": [
    "製作表格---開始"
   ]
  },
  {
   "cell_type": "code",
   "execution_count": null,
   "metadata": {},
   "outputs": [],
   "source": [
    "<html>\n",
    "  <table>\n",
    "  </table>   \n",
    "</html>    "
   ]
  },
  {
   "cell_type": "code",
   "execution_count": null,
   "metadata": {},
   "outputs": [],
   "source": [
    "<html>\n",
    "  <table>\n",
    "      <tr></tr>\n",
    "      <tr></tr>\n",
    "      <tr></tr>      \n",
    "  </table>   \n",
    "</html>  "
   ]
  },
  {
   "cell_type": "code",
   "execution_count": null,
   "metadata": {},
   "outputs": [],
   "source": [
    "<html>\n",
    "  <table>\n",
    "      <tr><td>11</td><td>12</td><td>13</td><td>14</td></tr>\n",
    "      <tr><td>21</td><td>22</td><td>23</td><td>24</td></tr>\n",
    "      <tr><td>31</td><td>32</td><td>33</td><td>34</td></tr>\n",
    "  </table>   \n",
    "</html>  "
   ]
  },
  {
   "cell_type": "markdown",
   "metadata": {},
   "source": [
    "<html>\n",
    "  <table>\n",
    "      <tr><td>11</td><td>12</td><td>13</td><td>14</td></tr>\n",
    "      <tr><td>21</td><td>22</td><td>23</td><td>24</td></tr>\n",
    "      <tr><td>31</td><td>32</td><td>33</td><td>34</td></tr>\n",
    "  </table>   \n",
    "</html>  "
   ]
  },
  {
   "cell_type": "markdown",
   "metadata": {},
   "source": [
    "製作表格---結束"
   ]
  }
 ],
 "metadata": {
  "kernelspec": {
   "display_name": "Python 3",
   "language": "python",
   "name": "python3"
  },
  "language_info": {
   "codemirror_mode": {
    "name": "ipython",
    "version": 3
   },
   "file_extension": ".py",
   "mimetype": "text/x-python",
   "name": "python",
   "nbconvert_exporter": "python",
   "pygments_lexer": "ipython3",
   "version": "3.7.1"
  }
 },
 "nbformat": 4,
 "nbformat_minor": 2
}
