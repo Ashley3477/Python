{
 "cells": [
  {
   "cell_type": "markdown",
   "metadata": {},
   "source": [
    "【臺北大學】Python程式設計<br>\n",
    "【授課老師】[陳祥輝 (Email : HsiangHui.Chen@gmail.com)](mailto:HsiangHui.Chen@gmail.com)<br>\n",
    "【facebook】[陳祥輝老師的臉書 (歡迎加好友)](https://goo.gl/osivhx)<br>\n",
    "【參考書籍】[從零開始學Python程式設計（適用Python 3.5以上）](http://www.drmaster.com.tw/Bookinfo.asp?BookID=MP31821)<br>\n",
    "【主要議題】Python的基本認識與操作"
   ]
  },
  {
   "cell_type": "code",
   "execution_count": 1,
   "metadata": {},
   "outputs": [
    {
     "name": "stdout",
     "output_type": "stream",
     "text": [
      "【工作目錄】F:\\1072臺北大學統計系Python\\1072臺北大學統計系Python上課資料\n",
      "【日期時間】2019/02/26 15:21:00\n"
     ]
    }
   ],
   "source": [
    "# -*- coding: utf-8 -*-\n",
    "import os, time\n",
    "\n",
    "print(\"【工作目錄】{}\".format(os.getcwd()))\n",
    "print(\"【日期時間】{}\".format(time.strftime(\"%Y/%m/%d %H:%M:%S\")))"
   ]
  },
  {
   "cell_type": "markdown",
   "metadata": {},
   "source": [
    "【重點提要】\n",
    "\n",
    "* Unicode的使用\n",
    "* comment\n",
    " * 單行註記 : # (Ctrl+/)\n",
    " * 多行註記 : 前後使用三個引號 \"\"\".....\"\"\"\n",
    "* 一個敘述斷行的連結符號 : \\ (倒斜線)\n",
    "* 一行有多個敘述的連結符號 : ; (分號)\n",
    "* 程式的block使用縮排 (:)\n",
    "* console輸入資料 : input()\n",
    "* 基本的算術運算子(Arithmetic operators) \n",
    "* 指派運算子(Assignment operators)<br>\n",
    "* 比較運算子(Comparison operators)\n",
    "* 邏輯運算子(Logical operators)\n",
    "* 位元運算子(Bitwise operators)<br>\n",
    "* Identity operators\n",
    "* Membership operators\n",
    "* 常用math模組的屬性、方法"
   ]
  },
  {
   "cell_type": "markdown",
   "metadata": {},
   "source": [
    "### <font color=#0000FF>Jupyter Notebook環境的基本操作與線上說明</font>"
   ]
  },
  {
   "cell_type": "markdown",
   "metadata": {},
   "source": [
    "<font color=#0000FF>快速鍵的練習</font>\n",
    "* jupyter notebook 的快速鍵 : <font color=#FF0000>【Help】\\【Keyboard Shortcuts】</font>\n",
    "* 模式切換\n",
    "    * 【Command mode】\n",
    "    * 【Edit mode】\n",
    "* 認識 Cell 的切換與功用\n",
    "    * 【Code】 (command mode : **<u>Y</u>**)\n",
    "    * 【Markdown】 (command mode : <b><u>M</u></u>)"
   ]
  },
  {
   "cell_type": "markdown",
   "metadata": {},
   "source": [
    "### <font color=#0000FF>Python的基本操作</font>"
   ]
  },
  {
   "cell_type": "markdown",
   "metadata": {},
   "source": [
    "<font color=#0000FF>設定編碼</font>"
   ]
  },
  {
   "cell_type": "code",
   "execution_count": 35,
   "metadata": {
    "collapsed": true
   },
   "outputs": [],
   "source": [
    "#以下三種設定方式皆可\n",
    "\n",
    "#-*- coding: utf-8 -*-\n",
    "#coding = utf-8\n",
    "#coding : utf-8"
   ]
  },
  {
   "cell_type": "markdown",
   "metadata": {},
   "source": [
    "<font color=#0000FF>多重給值</font>"
   ]
  },
  {
   "cell_type": "code",
   "execution_count": 2,
   "metadata": {},
   "outputs": [
    {
     "name": "stdout",
     "output_type": "stream",
     "text": [
      "100\n",
      "100\n",
      "100\n"
     ]
    }
   ],
   "source": [
    "x = y = z = 100\n",
    "print(x)\n",
    "print(y)\n",
    "print(z)"
   ]
  },
  {
   "cell_type": "code",
   "execution_count": 7,
   "metadata": {},
   "outputs": [
    {
     "name": "stdout",
     "output_type": "stream",
     "text": [
      "x = 200, y = 100, z= 100\n",
      "x = 200, y = 300, z= 100\n"
     ]
    }
   ],
   "source": [
    "print(\"x = {}, y = {}, z= {}\".format(200, y, z))\n",
    "print(\"x = {1}, y = {2}, z= {0}\".format(100, 200, 300))"
   ]
  },
  {
   "cell_type": "markdown",
   "metadata": {},
   "source": [
    "<font color=#0000FF>多元給值</font>"
   ]
  },
  {
   "cell_type": "code",
   "execution_count": 2,
   "metadata": {},
   "outputs": [],
   "source": [
    "x, y, z = 100, 200, 300"
   ]
  },
  {
   "cell_type": "code",
   "execution_count": 8,
   "metadata": {},
   "outputs": [
    {
     "name": "stdout",
     "output_type": "stream",
     "text": [
      "100;200\n",
      "300\n",
      "100,200,300\n"
     ]
    }
   ],
   "source": [
    "print(x, end=';')         # shift + tab : 線上說明\n",
    "print(y)  \n",
    "print(z)\n",
    "print(x, y, z, sep=',')"
   ]
  },
  {
   "cell_type": "code",
   "execution_count": null,
   "metadata": {},
   "outputs": [],
   "source": [
    "### [Python format 格式化函数](http://www.runoob.com/python/att-string-format.html)"
   ]
  },
  {
   "cell_type": "markdown",
   "metadata": {},
   "source": [
    "### [Python format 格式化函数](http://www.runoob.com/python/att-string-format.html)"
   ]
  },
  {
   "cell_type": "code",
   "execution_count": 13,
   "metadata": {},
   "outputs": [
    {
     "name": "stdout",
     "output_type": "stream",
     "text": [
      "x = 100.123, y = 200.561, z = 300.9862\n",
      "x = 100.123, y = 200.561, z = 300.9862\n",
      "x = +100.12, y = 200.6, z = 300.9862\n"
     ]
    }
   ],
   "source": [
    "x , y, z = 100.123, 200.561, 300.9862\n",
    "print(\"x = {}, y = {}, z = {}\".format(x, y, z))\n",
    "print(\"x = {0}, y = {1}, z = {2}\".format(x, y, z))\n",
    "print(\"x = {0:+.2f}, y = {1:4.1f}, z = {2}\".format(x, y, z))"
   ]
  },
  {
   "cell_type": "markdown",
   "metadata": {},
   "source": [
    "### <font color=#0000FF>註記說明與斷行的連結符號</font>"
   ]
  },
  {
   "cell_type": "code",
   "execution_count": 20,
   "metadata": {},
   "outputs": [
    {
     "data": {
      "text/plain": [
       "'\\n多行註記\\n'"
      ]
     },
     "execution_count": 20,
     "metadata": {},
     "output_type": "execute_result"
    }
   ],
   "source": [
    "\"\"\"\n",
    "多行註記\n",
    "\"\"\"\n",
    "\n",
    "'''\n",
    "多行註記\n",
    "'''\n",
    "\n",
    "# 單行註記  Ctrl + /"
   ]
  },
  {
   "cell_type": "code",
   "execution_count": 18,
   "metadata": {},
   "outputs": [
    {
     "name": "stdout",
     "output_type": "stream",
     "text": [
      "100\n",
      "300\n",
      "600\n"
     ]
    }
   ],
   "source": [
    "a = 100 ; b = 300\n",
    "\n",
    "#  \\ 這是連接符號，後面不要有任何文字，或空白\n",
    "c = a + 200 + \\\n",
    "    b\n",
    "print(a)\n",
    "print(b)\n",
    "print(c)"
   ]
  },
  {
   "cell_type": "markdown",
   "metadata": {},
   "source": [
    "### <font color=#0000FF>基本的算術運算子(Arithmetic operators) </font>\n",
    "\n",
    "|運算子|說明|\n",
    "|:---:|:---:|\n",
    "|+  | 加法|\n",
    "|-  | 減法|\n",
    "|*  | 乘法|\n",
    "|/ | 除法|\n",
    "|**| 次方|\n",
    "|//| 整數商|\n",
    "|% | 餘數|\n"
   ]
  },
  {
   "cell_type": "code",
   "execution_count": 19,
   "metadata": {
    "scrolled": true
   },
   "outputs": [
    {
     "name": "stdout",
     "output_type": "stream",
     "text": [
      "22\n",
      "12\n",
      "85\n",
      "3.4\n",
      "25\n",
      "3\n",
      "2\n"
     ]
    }
   ],
   "source": [
    "x, y = 17, 5\n",
    "print(x+y)\n",
    "print(x-y)\n",
    "print(x*y)\n",
    "print(x/y)\n",
    "print(y**2)\n",
    "print(x//y)\n",
    "print(x%y)"
   ]
  },
  {
   "cell_type": "markdown",
   "metadata": {},
   "source": [
    "### <font color=#0000FF>指派運算子(Assignment operators)</font>\n",
    "<font color=#FF0000>假設result的初始值=20</font>\n",
    "\n",
    "|指派運算子|使用說明|運算說明|result的結果|\n",
    "|:---:|:---:|:---:|:---:|\n",
    "|+=|result+=10|result = result + 10|30|\n",
    "|-=|result-=10|result = result - 10|10|\n",
    "|*=|result*=10|result = result * 10|200|\n",
    "|/=|result/=10|result = result / 10|2|\n",
    "|**=|result**=2|result = result ** 2|400|\n",
    "|//=|result//=3|result = result // 3|6|\n",
    "|%= |result%=7|result = result % 7|6|"
   ]
  },
  {
   "cell_type": "code",
   "execution_count": 21,
   "metadata": {},
   "outputs": [
    {
     "name": "stdout",
     "output_type": "stream",
     "text": [
      "11\n",
      "11\n"
     ]
    }
   ],
   "source": [
    "x = y = 10\n",
    "x += 1\n",
    "y = y + 1\n",
    "print(x)\n",
    "print(y)"
   ]
  },
  {
   "cell_type": "markdown",
   "metadata": {},
   "source": [
    "### <font color=#0000FF>比較運算子(Comparison operators)</font>\n",
    "\n",
    "|運算子|說明|範例|\n",
    "|:---:|:---|:---|\n",
    "|> |判斷左邊的值是否大於右邊的值|x > y|\n",
    "|< |判斷左邊的值是否大於右邊的值|x < y|\n",
    "|==|判斷左、右兩邊的值是否相等|x == y|\n",
    "|!=|判斷左、右兩邊的值是否不相等|x != y|\n",
    "|>=|判斷左邊的值是否大於或等於右邊的值|x >= y|\n",
    "|<=|判斷左邊的值是否小於或等於右邊的值|x <= y|"
   ]
  },
  {
   "cell_type": "code",
   "execution_count": 24,
   "metadata": {},
   "outputs": [
    {
     "name": "stdout",
     "output_type": "stream",
     "text": [
      "False\n",
      "True\n",
      "True\n"
     ]
    }
   ],
   "source": [
    "x, y = 30, 20\n",
    "print(x==y)\n",
    "print(x>=y)\n",
    "print(x!=y)"
   ]
  },
  {
   "cell_type": "code",
   "execution_count": null,
   "metadata": {},
   "outputs": [],
   "source": [
    "<pre>  \n",
    "pre-format\n",
    "\n",
    "and : *\n",
    " or : +\n",
    "數學的四則運算，先乘除、後加減，所以是先 and 後 or\n",
    "\n",
    "not (A and B) = (not A)  or (not B)\n",
    "not (A  or B) = (not A) and (not B)\n",
    "\n",
    "A and B and C and D or E and F and G or H and I or J and K or L or M and N\n",
    "\n",
    "   A and B and C and D \n",
    "or E and F and G \n",
    "or H and I \n",
    "or J and K \n",
    "or L \n",
    "or M and N\n",
    "\n",
    "\n",
    "3   * 5  + 3   * 7 = 3   * (5  + 7)\n",
    "A and B or A and C = A and (B or C)\n",
    " \n",
    "</pre>"
   ]
  },
  {
   "cell_type": "markdown",
   "metadata": {},
   "source": [
    "<pre>  \n",
    "pre-format\n",
    "\n",
    "and : *\n",
    " or : +\n",
    "數學的四則運算，先乘除、後加減，所以是先 and 後 or\n",
    "\n",
    "not (A and B) = (not A)  or (not B)\n",
    "not (A  or B) = (not A) and (not B)\n",
    "\n",
    "A and B and C and D or E and F and G or H and I or J and K or L or M and N\n",
    "\n",
    "   A and B and C and D \n",
    "or E and F and G \n",
    "or H and I \n",
    "or J and K \n",
    "or L \n",
    "or M and N\n",
    "\n",
    "\n",
    "3   * 5  + 3   * 7 = 3   * (5  + 7)\n",
    "A and B or A and C = A and (B or C)\n",
    " \n",
    "</pre>"
   ]
  },
  {
   "cell_type": "markdown",
   "metadata": {},
   "source": [
    "### <font color=#0000FF>邏輯運算子(Logical operators)</font>\n",
    "\n",
    "|運算子|說明|範例|\n",
    "|:---:|:---|:---|\n",
    "|and|當兩邊皆為True，結果才會True，否則皆為False|x and y|\n",
    "|or |當兩邊其中有一個True，結果就會True，否則為False|x or y|\n",
    "|not|結果會與運算元(operand)相反|not x|"
   ]
  },
  {
   "cell_type": "code",
   "execution_count": 28,
   "metadata": {},
   "outputs": [
    {
     "name": "stdout",
     "output_type": "stream",
     "text": [
      "False\n",
      "True\n"
     ]
    }
   ],
   "source": [
    "x, y = 30, 20\n",
    "print(x > 20 and y < 10)\n",
    "print(x > 20  or y < 10)"
   ]
  },
  {
   "cell_type": "code",
   "execution_count": 26,
   "metadata": {},
   "outputs": [
    {
     "name": "stdout",
     "output_type": "stream",
     "text": [
      "False\n",
      "True\n"
     ]
    }
   ],
   "source": [
    "print(not True)\n",
    "print(not False)"
   ]
  },
  {
   "cell_type": "markdown",
   "metadata": {},
   "source": [
    "### <font color=#0000FF>位元運算子(Bitwise operators)</font>\n",
    "<font color=#FF0000>假設x的初始值=10 (0000 1010)<br>\n",
    "假設y的初始值= 4 (0000 0100)</font>\n",
    "\n",
    "|運算子|說明|範例|\n",
    "|:---:|:---|:---|\n",
    "|& |Bitwise AND|x & y = 0 (0000 0000)|\n",
    "|｜|Bitwise OR|x ｜ y = 14 (0000 1110)|\n",
    "|~ |Bitwise NOT|~x = -11 (1111 0101)|\n",
    "|^ |Bitwise XOR|x ^ y = 14 (0000 1110)|\n",
    "|>>|Bitwise right shift|x>> 2 = 2 (0000 0010)|\n",
    "|<<|Bitwise left shift|x<< 2 = 40 (0010 1000)|\n"
   ]
  },
  {
   "cell_type": "code",
   "execution_count": 32,
   "metadata": {},
   "outputs": [
    {
     "name": "stdout",
     "output_type": "stream",
     "text": [
      "0\n",
      "14\n"
     ]
    }
   ],
   "source": [
    "x, y = 10, 4\n",
    "print(x & y)\n",
    "print(x | y)"
   ]
  },
  {
   "cell_type": "markdown",
   "metadata": {},
   "source": [
    "### <font color=#0000FF>Identity operators</font>\n",
    "\n",
    "|運算子|說明|範例|\n",
    "|:---:|:---|:---|\n",
    "|is|判斷是否相同|x is True|\n",
    "|is not|判斷是否不相同|x is not True|\n"
   ]
  },
  {
   "cell_type": "markdown",
   "metadata": {},
   "source": [
    "(1)當 x 與 y 是基本的資料型態，兩者的資料各自獨立"
   ]
  },
  {
   "cell_type": "code",
   "execution_count": 37,
   "metadata": {},
   "outputs": [
    {
     "name": "stdout",
     "output_type": "stream",
     "text": [
      "1867484336\n",
      "1867484336\n",
      "0x6f4f8cb0\n",
      "0x6f4f8cb0\n",
      "True\n"
     ]
    }
   ],
   "source": [
    "x = 100\n",
    "y = x              #x,y的資料各自獨立\n",
    "print(id(x))\n",
    "print(id(y))\n",
    "print(hex(id(x)))  #記憶體的位址\n",
    "print(hex(id(y)))\n",
    "print(x is y)"
   ]
  },
  {
   "cell_type": "code",
   "execution_count": 38,
   "metadata": {},
   "outputs": [
    {
     "name": "stdout",
     "output_type": "stream",
     "text": [
      "1867484336\n",
      "1867484656\n",
      "False\n"
     ]
    }
   ],
   "source": [
    "y = y + 10\n",
    "print(id(x))\n",
    "print(id(y))\n",
    "print(x is y)"
   ]
  },
  {
   "cell_type": "markdown",
   "metadata": {},
   "source": [
    "(2) 當 x 與 y 是物件，兩者擁有共同的資料"
   ]
  },
  {
   "cell_type": "code",
   "execution_count": 39,
   "metadata": {},
   "outputs": [],
   "source": [
    "x = [5, 6, 7]  # list 物件"
   ]
  },
  {
   "cell_type": "code",
   "execution_count": 40,
   "metadata": {},
   "outputs": [
    {
     "data": {
      "text/plain": [
       "5"
      ]
     },
     "execution_count": 40,
     "metadata": {},
     "output_type": "execute_result"
    }
   ],
   "source": [
    "x[0]"
   ]
  },
  {
   "cell_type": "code",
   "execution_count": 43,
   "metadata": {},
   "outputs": [
    {
     "name": "stdout",
     "output_type": "stream",
     "text": [
      "87958664\n",
      "87958664\n",
      "True\n",
      "[5, 6, 7]\n",
      "[5, 6, 7]\n"
     ]
    }
   ],
   "source": [
    "y = x          # x將位址複製給 y，代表 x, y 擁有共同的資料\n",
    "print(id(x))\n",
    "print(id(y))\n",
    "print(x is y)\n",
    "print(x)\n",
    "print(y)"
   ]
  },
  {
   "cell_type": "code",
   "execution_count": 44,
   "metadata": {},
   "outputs": [
    {
     "name": "stdout",
     "output_type": "stream",
     "text": [
      "87958664\n",
      "87958664\n",
      "[100, 6, 7]\n",
      "[100, 6, 7]\n"
     ]
    }
   ],
   "source": [
    "y[0] = 100\n",
    "print(id(x))\n",
    "print(id(y))\n",
    "print(x)\n",
    "print(y)"
   ]
  },
  {
   "cell_type": "markdown",
   "metadata": {},
   "source": [
    "(3)當 x 與 y 是物件，但是希望將物件的 值 copy 一份，讓兩個物件獨立"
   ]
  },
  {
   "cell_type": "code",
   "execution_count": 46,
   "metadata": {},
   "outputs": [],
   "source": [
    "x = [5, 6, 7]  # list 物件"
   ]
  },
  {
   "cell_type": "code",
   "execution_count": 47,
   "metadata": {},
   "outputs": [
    {
     "name": "stdout",
     "output_type": "stream",
     "text": [
      "84506056\n",
      "88002760\n"
     ]
    }
   ],
   "source": [
    "y = x.copy()   # 將 x 的資料複製一份給 y，所以兩者的位址不會相同\n",
    "print(id(x))\n",
    "print(id(y))"
   ]
  },
  {
   "cell_type": "code",
   "execution_count": 48,
   "metadata": {},
   "outputs": [
    {
     "name": "stdout",
     "output_type": "stream",
     "text": [
      "84506056\n",
      "88002760\n",
      "[5, 6, 7]\n",
      "[100, 6, 7]\n"
     ]
    }
   ],
   "source": [
    "y[0] = 100\n",
    "print(id(x))\n",
    "print(id(y))\n",
    "print(x)\n",
    "print(y)"
   ]
  },
  {
   "cell_type": "markdown",
   "metadata": {},
   "source": [
    "其他問題"
   ]
  },
  {
   "cell_type": "code",
   "execution_count": 51,
   "metadata": {},
   "outputs": [
    {
     "name": "stdout",
     "output_type": "stream",
     "text": [
      "88870472\n",
      "87958152\n",
      "False\n"
     ]
    }
   ],
   "source": [
    "x = [5,6,7]\n",
    "y = [5,6,7]\n",
    "print(id(x))\n",
    "print(id(y))\n",
    "print(x is y)"
   ]
  },
  {
   "cell_type": "code",
   "execution_count": 55,
   "metadata": {},
   "outputs": [
    {
     "name": "stdout",
     "output_type": "stream",
     "text": [
      "False\n",
      "True\n",
      "<class 'list'>\n",
      "<class 'int'>\n"
     ]
    }
   ],
   "source": [
    "print(x is y)\n",
    "print(x[0] is y[0])\n",
    "print(type(x))\n",
    "print(type(x[0]))"
   ]
  },
  {
   "cell_type": "markdown",
   "metadata": {},
   "source": [
    "### <font color=#0000FF>Membership operators</font>\n",
    "\n",
    "|運算子|說明|範例|\n",
    "|:---:|:---|:---|\n",
    "|in|判斷某值或變數是否在序列中找得到|5 in x|\n",
    "|not in|判斷某值或變數是否在序列中找得到|5 not in x|"
   ]
  },
  {
   "cell_type": "code",
   "execution_count": 57,
   "metadata": {},
   "outputs": [
    {
     "name": "stdout",
     "output_type": "stream",
     "text": [
      "True\n",
      "True\n"
     ]
    }
   ],
   "source": [
    "x = [5,6,7]\n",
    "print(5 in x)\n",
    "print(10 not in x)"
   ]
  },
  {
   "cell_type": "code",
   "execution_count": null,
   "metadata": {},
   "outputs": [],
   "source": [
    "dir()  #有點類似 R 的 ls()"
   ]
  },
  {
   "cell_type": "code",
   "execution_count": null,
   "metadata": {},
   "outputs": [],
   "source": [
    "dir(__builtins__)"
   ]
  },
  {
   "cell_type": "code",
   "execution_count": 61,
   "metadata": {},
   "outputs": [
    {
     "data": {
      "text/plain": [
       "True"
      ]
     },
     "execution_count": 61,
     "metadata": {},
     "output_type": "execute_result"
    }
   ],
   "source": [
    "'x' in dir()"
   ]
  },
  {
   "cell_type": "markdown",
   "metadata": {},
   "source": [
    "### <font color=#0000FF>常用math模組的屬性、方法</font>\n",
    "【常用屬性(attributes)】\n",
    "* math.nan\n",
    "* math.pi\n",
    "* math.inf\n",
    "---\n",
    "【常用的方法(methods)】\n",
    "* math.ceil(), math.floor()\n",
    "* math.isfinite(), math.isinf()\n",
    "* math.isnan()\n",
    "* math.pow(), math.exp()\n",
    "* math.round()\n",
    "* math.sqrt()"
   ]
  },
  {
   "cell_type": "markdown",
   "metadata": {},
   "source": [
    "#### 匯入整個模組"
   ]
  },
  {
   "cell_type": "code",
   "execution_count": 62,
   "metadata": {},
   "outputs": [],
   "source": [
    "import math  "
   ]
  },
  {
   "cell_type": "code",
   "execution_count": null,
   "metadata": {},
   "outputs": [],
   "source": [
    "dir(math)"
   ]
  },
  {
   "cell_type": "code",
   "execution_count": null,
   "metadata": {},
   "outputs": [],
   "source": [
    "vars(math)"
   ]
  },
  {
   "cell_type": "code",
   "execution_count": 65,
   "metadata": {},
   "outputs": [
    {
     "data": {
      "text/plain": [
       "3.141592653589793"
      ]
     },
     "execution_count": 65,
     "metadata": {},
     "output_type": "execute_result"
    }
   ],
   "source": [
    "math.pi"
   ]
  },
  {
   "cell_type": "code",
   "execution_count": 66,
   "metadata": {},
   "outputs": [
    {
     "data": {
      "text/plain": [
       "100.0"
      ]
     },
     "execution_count": 66,
     "metadata": {},
     "output_type": "execute_result"
    }
   ],
   "source": [
    "math.pow(10,2)"
   ]
  },
  {
   "cell_type": "markdown",
   "metadata": {},
   "source": [
    "#### 從 math 模組匯入所有的屬性與方法 (attributes , methods / functions)，不建議如此使用"
   ]
  },
  {
   "cell_type": "code",
   "execution_count": 70,
   "metadata": {},
   "outputs": [],
   "source": [
    "from math import *   "
   ]
  },
  {
   "cell_type": "code",
   "execution_count": null,
   "metadata": {},
   "outputs": [],
   "source": [
    "dir()"
   ]
  },
  {
   "cell_type": "code",
   "execution_count": 6,
   "metadata": {},
   "outputs": [],
   "source": [
    "dir(__builtins__)"
   ]
  },
  {
   "cell_type": "markdown",
   "metadata": {},
   "source": [
    "### <font color=#0000FF>常用內建函數</font>\n",
    "【參考資料】\n",
    "* [Python BUILT-IN METHODS](https://www.programiz.com/python-programming/methods/built-in/exec)\n",
    "\n",
    "---\n",
    "\n",
    "* abs() : returns absolute value of a number\n",
    "* all() : returns true when all elements in iterable is true\n",
    "* any() : Checks if any Element of an Iterable is True\n",
    "* ascii() : Returns String Containing Printable Representation\n",
    "* bin() : converts integer to binary string\n",
    "* bool() : Coverts a Value to Boolean\n",
    "* bytearray() : returns array of given byte size\n",
    "* bytes() : returns immutable bytes object\n",
    "* callable() : Checks if the Object is Callable\n",
    "* chr() : Returns a Character (a string) from an Integer\n",
    "* classmethod() : returns class method for given function\n",
    "* compile() : Returns a Python code object\n",
    "* complex() : Creates a Complex Number\n",
    "* copyright()\n",
    "* credits()\n",
    "* delattr() : Deletes Attribute From the Object\n",
    "* ***dict() : Creates a Dictionary***\n",
    "* dir() : Tries to Return Attributes of Object\n",
    "* divmod() : Returns a Tuple of Quotient and Remainder\n",
    "* dreload()\n",
    "* enumerate() : Returns an Enumerate Object\n",
    "* eval() : Runs Python Code Within Program\n",
    "* exec() : Executes Dynamically Created Program\n",
    "* filter() : constructs iterator from elements which are true\n",
    "* float() : returns floating point number from number, string\n",
    "* format() : returns formatted representation of a value\n",
    "* frozenset() : returns immutable frozenset object\n",
    "* get_ipython()\n",
    "* getattr() : returns value of named attribute of an object\n",
    "* globals() : returns dictionary of current global symbol table\n",
    "* hasattr() : returns whether object has named attribute\n",
    "* hash() : returns hash value of an object\n",
    "* help() : Invokes the built-in Help System\n",
    "* hex() : Converts to Integer to Hexadecimal\n",
    "* id() : Returns Identify of an Object\n",
    "* input() : reads and returns a line of string\n",
    "* int() : returns integer from a number or string\n",
    "* isinstance() : Checks if a Object is an Instance of Class\n",
    "* issubclass() : Checks if a Object is Subclass of a Class\n",
    "* iter() : returns iterator for an object\n",
    "* len() : Returns Length of an Object\n",
    "* license()\n",
    "* ***list() : creates list in Python***\n",
    "* locals() :returns dictionary of current local symbol table\n",
    "* map() : Applies Function and Returns a List\n",
    "* max() : returns largest element\n",
    "* memoryview() : returns memory view of an argument\n",
    "* min() : returns smallest element\n",
    "* next() : Retrieves Next Element from Iterator\n",
    "* object() : \tCreates a Featureless Object\n",
    "* oct() : converts integer to octal\n",
    "* open() : Returns a File object\n",
    "* ord() : returns Unicode code point for Unicode character\n",
    "* pow() : returns x to the power of y\n",
    "* print() : Prints the Given Object\n",
    "* property() : returns a property attribute\n",
    "* range() : return sequence of integers between start and stop\n",
    "* repr() : returns printable representation of an object\n",
    "* reversed() : returns reversed iterator of a sequence\n",
    "* round() : rounds a floating point number to ndigits places.\n",
    "* ***set() : returns a Python set***\n",
    "* setattr() : sets value of an attribute of object\n",
    "* slice() : creates a slice object specified by range()\n",
    "* sorted() : returns sorted list from a given iterable\n",
    "* staticmethod() : creates static method from a function\n",
    "* str() : returns informal representation of an object\n",
    "* sum() : Add items of an Iterable\n",
    "* super() : Allow you to Refer Parent Class by super\n",
    "* ***tuple() : Creates a Tuple***\n",
    "* type() : Returns Type of an Object\n",
    "* vars() : Returns __dict__ attribute of a class\n",
    "* zip() : Returns an Iterator of Tuples\n",
    "* \\__import\\__() : Advanced Function Called by import"
   ]
  },
  {
   "cell_type": "code",
   "execution_count": null,
   "metadata": {},
   "outputs": [],
   "source": [
    "# list / tuple / set / dict 是 python 的四大基本物件"
   ]
  },
  {
   "cell_type": "code",
   "execution_count": 4,
   "metadata": {},
   "outputs": [
    {
     "name": "stdout",
     "output_type": "stream",
     "text": [
      "True\n",
      "True\n",
      "False\n"
     ]
    }
   ],
   "source": [
    "print(bool(10))\n",
    "print(bool(-2))\n",
    "print(bool(0))"
   ]
  },
  {
   "cell_type": "code",
   "execution_count": 6,
   "metadata": {},
   "outputs": [
    {
     "data": {
      "text/plain": [
       "3"
      ]
     },
     "execution_count": 6,
     "metadata": {},
     "output_type": "execute_result"
    }
   ],
   "source": [
    "x = [5,6,7]\n",
    "len(x)"
   ]
  },
  {
   "cell_type": "code",
   "execution_count": 7,
   "metadata": {},
   "outputs": [
    {
     "name": "stdout",
     "output_type": "stream",
     "text": [
      "5\n",
      "5\n"
     ]
    }
   ],
   "source": [
    "print(min(10,60,12,5,100))\n",
    "print(min([10,60,12,5,100]))"
   ]
  },
  {
   "cell_type": "code",
   "execution_count": 13,
   "metadata": {},
   "outputs": [
    {
     "name": "stdout",
     "output_type": "stream",
     "text": [
      "10\n",
      "12\n"
     ]
    }
   ],
   "source": [
    "print(str(10))\n",
    "print(int(12.7))"
   ]
  },
  {
   "cell_type": "code",
   "execution_count": 15,
   "metadata": {},
   "outputs": [
    {
     "name": "stdout",
     "output_type": "stream",
     "text": [
      "12.7\n",
      "12\n"
     ]
    }
   ],
   "source": [
    "print(float('12.7'))\n",
    "print(int(float('12.7')))"
   ]
  },
  {
   "cell_type": "code",
   "execution_count": 17,
   "metadata": {},
   "outputs": [
    {
     "data": {
      "text/plain": [
       "[10, 11, 12, 13, 14, 15, 16, 17, 18, 19]"
      ]
     },
     "execution_count": 17,
     "metadata": {},
     "output_type": "execute_result"
    }
   ],
   "source": [
    "# 注意 python 大部分 包含起值，不含迄值\n",
    "# 加上 list()，是將 range 物件轉換成 list 物件\n",
    "list(range(10,20))  "
   ]
  },
  {
   "cell_type": "code",
   "execution_count": 18,
   "metadata": {},
   "outputs": [
    {
     "data": {
      "text/plain": [
       "[10, 12, 14, 16, 18]"
      ]
     },
     "execution_count": 18,
     "metadata": {},
     "output_type": "execute_result"
    }
   ],
   "source": [
    "list(range(10,20,2))"
   ]
  },
  {
   "cell_type": "code",
   "execution_count": 23,
   "metadata": {},
   "outputs": [
    {
     "name": "stdout",
     "output_type": "stream",
     "text": [
      "請輸入一個數值10\n",
      "True\n"
     ]
    }
   ],
   "source": [
    "x = input('請輸入一個數值')\n",
    "x = int(x)\n",
    "print(x == 10)"
   ]
  },
  {
   "cell_type": "code",
   "execution_count": 24,
   "metadata": {},
   "outputs": [
    {
     "name": "stdout",
     "output_type": "stream",
     "text": [
      "請輸入一個數值10\n",
      "True\n"
     ]
    }
   ],
   "source": [
    "x = int(input('請輸入一個數值'))\n",
    "print(x == 10)"
   ]
  }
 ],
 "metadata": {
  "kernelspec": {
   "display_name": "Python 3",
   "language": "python",
   "name": "python3"
  },
  "language_info": {
   "codemirror_mode": {
    "name": "ipython",
    "version": 3
   },
   "file_extension": ".py",
   "mimetype": "text/x-python",
   "name": "python",
   "nbconvert_exporter": "python",
   "pygments_lexer": "ipython3",
   "version": "3.7.3"
  }
 },
 "nbformat": 4,
 "nbformat_minor": 2
}
